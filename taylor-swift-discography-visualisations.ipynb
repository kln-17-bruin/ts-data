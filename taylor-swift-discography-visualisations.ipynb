{
 "cells": [
  {
   "cell_type": "markdown",
   "id": "0bb687ad",
   "metadata": {
    "_kg_hide-input": false,
    "papermill": {
     "duration": 0.007167,
     "end_time": "2024-03-03T08:59:17.995090",
     "exception": false,
     "start_time": "2024-03-03T08:59:17.987923",
     "status": "completed"
    },
    "tags": []
   },
   "source": [
    "#### It was a summer evening in 2016 when I ventured to my Saavn (an outdated music app in India) account and discovered Love Story by Taylor Swift. Since then, over 120 Taylor Swift songs have made their way onto my playlists, and I proclaim myself as a mildly obsessed \"Swiftie\".\n",
    "\n",
    "#### Like any sane data scientist/Swiftie, I searched near and far for projects that could combine both my loves, and that's when I decided to create a dataset from Spotify and build a notebook on it.\n",
    "\n",
    "#### With *the Tortured Poets Department* album on the horizon, there couldn't be a better time for this analysis."
   ]
  },
  {
   "cell_type": "code",
   "execution_count": 1,
   "id": "712c45fe",
   "metadata": {
    "_cell_guid": "b1076dfc-b9ad-4769-8c92-a6c4dae69d19",
    "_kg_hide-input": true,
    "_uuid": "8f2839f25d086af736a60e9eeb907d3b93b6e0e5",
    "execution": {
     "iopub.execute_input": "2024-03-03T08:59:18.011213Z",
     "iopub.status.busy": "2024-03-03T08:59:18.010371Z",
     "iopub.status.idle": "2024-03-03T08:59:18.820502Z",
     "shell.execute_reply": "2024-03-03T08:59:18.819524Z"
    },
    "papermill": {
     "duration": 0.820962,
     "end_time": "2024-03-03T08:59:18.822701",
     "exception": false,
     "start_time": "2024-03-03T08:59:18.001739",
     "status": "completed"
    },
    "tags": []
   },
   "outputs": [
    {
     "name": "stdout",
     "output_type": "stream",
     "text": [
      "/kaggle/input/taylor-swift-the-myth-the-legend/taylorswift-Features.csv\n",
      "/kaggle/input/taylor-swift-the-myth-the-legend/taylorswift-Tracks.csv\n"
     ]
    }
   ],
   "source": [
    "# This Python 3 environment comes with many helpful analytics libraries installed\n",
    "# It is defined by the kaggle/python Docker image: https://github.com/kaggle/docker-python\n",
    "# For example, here's several helpful packages to load\n",
    "\n",
    "import numpy as np # linear algebra\n",
    "import pandas as pd # data processing, CSV file I/O (e.g. pd.read_csv)\n",
    "\n",
    "# Input data files are available in the read-only \"../input/\" directory\n",
    "# For example, running this (by clicking run or pressing Shift+Enter) will list all files under the input directory\n",
    "\n",
    "import os\n",
    "for dirname, _, filenames in os.walk('/kaggle/input'):\n",
    "    for filename in filenames:\n",
    "        print(os.path.join(dirname, filename))\n",
    "\n",
    "# You can write up to 20GB to the current directory (/kaggle/working/) that gets preserved as output when you create a version using \"Save & Run All\" \n",
    "# You can also write temporary files to /kaggle/temp/, but they won't be saved outside of the current session"
   ]
  },
  {
   "cell_type": "markdown",
   "id": "2583e71e",
   "metadata": {
    "papermill": {
     "duration": 0.006312,
     "end_time": "2024-03-03T08:59:18.835730",
     "exception": false,
     "start_time": "2024-03-03T08:59:18.829418",
     "status": "completed"
    },
    "tags": []
   },
   "source": [
    "## Exploring our data:"
   ]
  },
  {
   "cell_type": "code",
   "execution_count": 2,
   "id": "fc1e1603",
   "metadata": {
    "execution": {
     "iopub.execute_input": "2024-03-03T08:59:18.850909Z",
     "iopub.status.busy": "2024-03-03T08:59:18.850329Z",
     "iopub.status.idle": "2024-03-03T08:59:18.878858Z",
     "shell.execute_reply": "2024-03-03T08:59:18.877825Z"
    },
    "papermill": {
     "duration": 0.039101,
     "end_time": "2024-03-03T08:59:18.881373",
     "exception": false,
     "start_time": "2024-03-03T08:59:18.842272",
     "status": "completed"
    },
    "tags": []
   },
   "outputs": [],
   "source": [
    "features = pd.read_csv(\"/kaggle/input/taylor-swift-the-myth-the-legend/taylorswift-Features.csv\")\n",
    "tracks = pd.read_csv(\"/kaggle/input/taylor-swift-the-myth-the-legend/taylorswift-Tracks.csv\")"
   ]
  },
  {
   "cell_type": "code",
   "execution_count": 3,
   "id": "b5612dd8",
   "metadata": {
    "execution": {
     "iopub.execute_input": "2024-03-03T08:59:18.897844Z",
     "iopub.status.busy": "2024-03-03T08:59:18.897019Z",
     "iopub.status.idle": "2024-03-03T08:59:18.921773Z",
     "shell.execute_reply": "2024-03-03T08:59:18.920532Z"
    },
    "papermill": {
     "duration": 0.034772,
     "end_time": "2024-03-03T08:59:18.923589",
     "exception": false,
     "start_time": "2024-03-03T08:59:18.888817",
     "status": "completed"
    },
    "tags": []
   },
   "outputs": [
    {
     "data": {
      "text/html": [
       "<div>\n",
       "<style scoped>\n",
       "    .dataframe tbody tr th:only-of-type {\n",
       "        vertical-align: middle;\n",
       "    }\n",
       "\n",
       "    .dataframe tbody tr th {\n",
       "        vertical-align: top;\n",
       "    }\n",
       "\n",
       "    .dataframe thead th {\n",
       "        text-align: right;\n",
       "    }\n",
       "</style>\n",
       "<table border=\"1\" class=\"dataframe\">\n",
       "  <thead>\n",
       "    <tr style=\"text-align: right;\">\n",
       "      <th></th>\n",
       "      <th>Unnamed: 0</th>\n",
       "      <th>album_id</th>\n",
       "      <th>album_name</th>\n",
       "      <th>id</th>\n",
       "      <th>track_name</th>\n",
       "      <th>danceability</th>\n",
       "      <th>energy</th>\n",
       "      <th>key</th>\n",
       "      <th>loudness</th>\n",
       "      <th>mode</th>\n",
       "      <th>speechiness</th>\n",
       "      <th>acousticness</th>\n",
       "      <th>instrumentalness</th>\n",
       "      <th>liveness</th>\n",
       "      <th>valence</th>\n",
       "      <th>tempo</th>\n",
       "    </tr>\n",
       "  </thead>\n",
       "  <tbody>\n",
       "    <tr>\n",
       "      <th>0</th>\n",
       "      <td>0</td>\n",
       "      <td>1o59UpKw81iHR0HPiSkJR0</td>\n",
       "      <td>1989 (Taylor's Version) [Deluxe]</td>\n",
       "      <td>4WUepByoeqcedHoYhSNHRt</td>\n",
       "      <td>Welcome To New York (Taylor's Version)</td>\n",
       "      <td>0.757</td>\n",
       "      <td>0.610</td>\n",
       "      <td>7</td>\n",
       "      <td>-4.840</td>\n",
       "      <td>1</td>\n",
       "      <td>0.0327</td>\n",
       "      <td>0.009420</td>\n",
       "      <td>0.000037</td>\n",
       "      <td>0.3670</td>\n",
       "      <td>0.685</td>\n",
       "      <td>116.998</td>\n",
       "    </tr>\n",
       "    <tr>\n",
       "      <th>1</th>\n",
       "      <td>1</td>\n",
       "      <td>1o59UpKw81iHR0HPiSkJR0</td>\n",
       "      <td>1989 (Taylor's Version) [Deluxe]</td>\n",
       "      <td>0108kcWLnn2HlH2kedi1gn</td>\n",
       "      <td>Blank Space (Taylor's Version)</td>\n",
       "      <td>0.733</td>\n",
       "      <td>0.733</td>\n",
       "      <td>0</td>\n",
       "      <td>-5.376</td>\n",
       "      <td>1</td>\n",
       "      <td>0.0670</td>\n",
       "      <td>0.088500</td>\n",
       "      <td>0.000000</td>\n",
       "      <td>0.1680</td>\n",
       "      <td>0.701</td>\n",
       "      <td>96.057</td>\n",
       "    </tr>\n",
       "    <tr>\n",
       "      <th>2</th>\n",
       "      <td>2</td>\n",
       "      <td>1o59UpKw81iHR0HPiSkJR0</td>\n",
       "      <td>1989 (Taylor's Version) [Deluxe]</td>\n",
       "      <td>3Vpk1hfMAQme8VJ0SNRSkd</td>\n",
       "      <td>Style (Taylor's Version)</td>\n",
       "      <td>0.511</td>\n",
       "      <td>0.822</td>\n",
       "      <td>11</td>\n",
       "      <td>-4.785</td>\n",
       "      <td>0</td>\n",
       "      <td>0.0397</td>\n",
       "      <td>0.000421</td>\n",
       "      <td>0.019700</td>\n",
       "      <td>0.0899</td>\n",
       "      <td>0.305</td>\n",
       "      <td>94.868</td>\n",
       "    </tr>\n",
       "    <tr>\n",
       "      <th>3</th>\n",
       "      <td>3</td>\n",
       "      <td>1o59UpKw81iHR0HPiSkJR0</td>\n",
       "      <td>1989 (Taylor's Version) [Deluxe]</td>\n",
       "      <td>1OcSfkeCg9hRC2sFKB4IMJ</td>\n",
       "      <td>Out Of The Woods (Taylor's Version)</td>\n",
       "      <td>0.545</td>\n",
       "      <td>0.885</td>\n",
       "      <td>0</td>\n",
       "      <td>-5.968</td>\n",
       "      <td>1</td>\n",
       "      <td>0.0447</td>\n",
       "      <td>0.000537</td>\n",
       "      <td>0.000056</td>\n",
       "      <td>0.3850</td>\n",
       "      <td>0.206</td>\n",
       "      <td>92.021</td>\n",
       "    </tr>\n",
       "    <tr>\n",
       "      <th>4</th>\n",
       "      <td>4</td>\n",
       "      <td>1o59UpKw81iHR0HPiSkJR0</td>\n",
       "      <td>1989 (Taylor's Version) [Deluxe]</td>\n",
       "      <td>2k0ZEeAqzvYMcx9Qt5aClQ</td>\n",
       "      <td>All You Had To Do Was Stay (Taylor's Version)</td>\n",
       "      <td>0.588</td>\n",
       "      <td>0.721</td>\n",
       "      <td>0</td>\n",
       "      <td>-5.579</td>\n",
       "      <td>1</td>\n",
       "      <td>0.0317</td>\n",
       "      <td>0.000656</td>\n",
       "      <td>0.000000</td>\n",
       "      <td>0.1310</td>\n",
       "      <td>0.520</td>\n",
       "      <td>96.997</td>\n",
       "    </tr>\n",
       "  </tbody>\n",
       "</table>\n",
       "</div>"
      ],
      "text/plain": [
       "   Unnamed: 0                album_id                        album_name  \\\n",
       "0           0  1o59UpKw81iHR0HPiSkJR0  1989 (Taylor's Version) [Deluxe]   \n",
       "1           1  1o59UpKw81iHR0HPiSkJR0  1989 (Taylor's Version) [Deluxe]   \n",
       "2           2  1o59UpKw81iHR0HPiSkJR0  1989 (Taylor's Version) [Deluxe]   \n",
       "3           3  1o59UpKw81iHR0HPiSkJR0  1989 (Taylor's Version) [Deluxe]   \n",
       "4           4  1o59UpKw81iHR0HPiSkJR0  1989 (Taylor's Version) [Deluxe]   \n",
       "\n",
       "                       id                                     track_name  \\\n",
       "0  4WUepByoeqcedHoYhSNHRt         Welcome To New York (Taylor's Version)   \n",
       "1  0108kcWLnn2HlH2kedi1gn                 Blank Space (Taylor's Version)   \n",
       "2  3Vpk1hfMAQme8VJ0SNRSkd                       Style (Taylor's Version)   \n",
       "3  1OcSfkeCg9hRC2sFKB4IMJ            Out Of The Woods (Taylor's Version)   \n",
       "4  2k0ZEeAqzvYMcx9Qt5aClQ  All You Had To Do Was Stay (Taylor's Version)   \n",
       "\n",
       "   danceability  energy  key  loudness  mode  speechiness  acousticness  \\\n",
       "0         0.757   0.610    7    -4.840     1       0.0327      0.009420   \n",
       "1         0.733   0.733    0    -5.376     1       0.0670      0.088500   \n",
       "2         0.511   0.822   11    -4.785     0       0.0397      0.000421   \n",
       "3         0.545   0.885    0    -5.968     1       0.0447      0.000537   \n",
       "4         0.588   0.721    0    -5.579     1       0.0317      0.000656   \n",
       "\n",
       "   instrumentalness  liveness  valence    tempo  \n",
       "0          0.000037    0.3670    0.685  116.998  \n",
       "1          0.000000    0.1680    0.701   96.057  \n",
       "2          0.019700    0.0899    0.305   94.868  \n",
       "3          0.000056    0.3850    0.206   92.021  \n",
       "4          0.000000    0.1310    0.520   96.997  "
      ]
     },
     "execution_count": 3,
     "metadata": {},
     "output_type": "execute_result"
    }
   ],
   "source": [
    "features.head()"
   ]
  },
  {
   "cell_type": "code",
   "execution_count": 4,
   "id": "5429cd9d",
   "metadata": {
    "execution": {
     "iopub.execute_input": "2024-03-03T08:59:18.938939Z",
     "iopub.status.busy": "2024-03-03T08:59:18.938131Z",
     "iopub.status.idle": "2024-03-03T08:59:18.950478Z",
     "shell.execute_reply": "2024-03-03T08:59:18.949684Z"
    },
    "papermill": {
     "duration": 0.02177,
     "end_time": "2024-03-03T08:59:18.952124",
     "exception": false,
     "start_time": "2024-03-03T08:59:18.930354",
     "status": "completed"
    },
    "tags": []
   },
   "outputs": [
    {
     "data": {
      "text/html": [
       "<div>\n",
       "<style scoped>\n",
       "    .dataframe tbody tr th:only-of-type {\n",
       "        vertical-align: middle;\n",
       "    }\n",
       "\n",
       "    .dataframe tbody tr th {\n",
       "        vertical-align: top;\n",
       "    }\n",
       "\n",
       "    .dataframe thead th {\n",
       "        text-align: right;\n",
       "    }\n",
       "</style>\n",
       "<table border=\"1\" class=\"dataframe\">\n",
       "  <thead>\n",
       "    <tr style=\"text-align: right;\">\n",
       "      <th></th>\n",
       "      <th>Unnamed: 0</th>\n",
       "      <th>album_id</th>\n",
       "      <th>album_name</th>\n",
       "      <th>id</th>\n",
       "      <th>name</th>\n",
       "      <th>release_date</th>\n",
       "      <th>duration</th>\n",
       "      <th>track_number</th>\n",
       "      <th>popularity</th>\n",
       "      <th>explicit</th>\n",
       "      <th>uri</th>\n",
       "    </tr>\n",
       "  </thead>\n",
       "  <tbody>\n",
       "    <tr>\n",
       "      <th>0</th>\n",
       "      <td>0</td>\n",
       "      <td>1o59UpKw81iHR0HPiSkJR0</td>\n",
       "      <td>1989 (Taylor's Version) [Deluxe]</td>\n",
       "      <td>4WUepByoeqcedHoYhSNHRt</td>\n",
       "      <td>Welcome To New York (Taylor's Version)</td>\n",
       "      <td>2023-10-27</td>\n",
       "      <td>00:03:32</td>\n",
       "      <td>1</td>\n",
       "      <td>71</td>\n",
       "      <td>False</td>\n",
       "      <td>spotify:track:4WUepByoeqcedHoYhSNHRt</td>\n",
       "    </tr>\n",
       "    <tr>\n",
       "      <th>1</th>\n",
       "      <td>1</td>\n",
       "      <td>1o59UpKw81iHR0HPiSkJR0</td>\n",
       "      <td>1989 (Taylor's Version) [Deluxe]</td>\n",
       "      <td>0108kcWLnn2HlH2kedi1gn</td>\n",
       "      <td>Blank Space (Taylor's Version)</td>\n",
       "      <td>2023-10-27</td>\n",
       "      <td>00:03:51</td>\n",
       "      <td>2</td>\n",
       "      <td>72</td>\n",
       "      <td>False</td>\n",
       "      <td>spotify:track:0108kcWLnn2HlH2kedi1gn</td>\n",
       "    </tr>\n",
       "    <tr>\n",
       "      <th>2</th>\n",
       "      <td>2</td>\n",
       "      <td>1o59UpKw81iHR0HPiSkJR0</td>\n",
       "      <td>1989 (Taylor's Version) [Deluxe]</td>\n",
       "      <td>3Vpk1hfMAQme8VJ0SNRSkd</td>\n",
       "      <td>Style (Taylor's Version)</td>\n",
       "      <td>2023-10-27</td>\n",
       "      <td>00:03:51</td>\n",
       "      <td>3</td>\n",
       "      <td>73</td>\n",
       "      <td>False</td>\n",
       "      <td>spotify:track:3Vpk1hfMAQme8VJ0SNRSkd</td>\n",
       "    </tr>\n",
       "    <tr>\n",
       "      <th>3</th>\n",
       "      <td>3</td>\n",
       "      <td>1o59UpKw81iHR0HPiSkJR0</td>\n",
       "      <td>1989 (Taylor's Version) [Deluxe]</td>\n",
       "      <td>1OcSfkeCg9hRC2sFKB4IMJ</td>\n",
       "      <td>Out Of The Woods (Taylor's Version)</td>\n",
       "      <td>2023-10-27</td>\n",
       "      <td>00:03:55</td>\n",
       "      <td>4</td>\n",
       "      <td>72</td>\n",
       "      <td>False</td>\n",
       "      <td>spotify:track:1OcSfkeCg9hRC2sFKB4IMJ</td>\n",
       "    </tr>\n",
       "    <tr>\n",
       "      <th>4</th>\n",
       "      <td>4</td>\n",
       "      <td>1o59UpKw81iHR0HPiSkJR0</td>\n",
       "      <td>1989 (Taylor's Version) [Deluxe]</td>\n",
       "      <td>2k0ZEeAqzvYMcx9Qt5aClQ</td>\n",
       "      <td>All You Had To Do Was Stay (Taylor's Version)</td>\n",
       "      <td>2023-10-27</td>\n",
       "      <td>00:03:13</td>\n",
       "      <td>5</td>\n",
       "      <td>70</td>\n",
       "      <td>False</td>\n",
       "      <td>spotify:track:2k0ZEeAqzvYMcx9Qt5aClQ</td>\n",
       "    </tr>\n",
       "  </tbody>\n",
       "</table>\n",
       "</div>"
      ],
      "text/plain": [
       "   Unnamed: 0                album_id                        album_name  \\\n",
       "0           0  1o59UpKw81iHR0HPiSkJR0  1989 (Taylor's Version) [Deluxe]   \n",
       "1           1  1o59UpKw81iHR0HPiSkJR0  1989 (Taylor's Version) [Deluxe]   \n",
       "2           2  1o59UpKw81iHR0HPiSkJR0  1989 (Taylor's Version) [Deluxe]   \n",
       "3           3  1o59UpKw81iHR0HPiSkJR0  1989 (Taylor's Version) [Deluxe]   \n",
       "4           4  1o59UpKw81iHR0HPiSkJR0  1989 (Taylor's Version) [Deluxe]   \n",
       "\n",
       "                       id                                           name  \\\n",
       "0  4WUepByoeqcedHoYhSNHRt         Welcome To New York (Taylor's Version)   \n",
       "1  0108kcWLnn2HlH2kedi1gn                 Blank Space (Taylor's Version)   \n",
       "2  3Vpk1hfMAQme8VJ0SNRSkd                       Style (Taylor's Version)   \n",
       "3  1OcSfkeCg9hRC2sFKB4IMJ            Out Of The Woods (Taylor's Version)   \n",
       "4  2k0ZEeAqzvYMcx9Qt5aClQ  All You Had To Do Was Stay (Taylor's Version)   \n",
       "\n",
       "  release_date  duration  track_number  popularity  explicit  \\\n",
       "0   2023-10-27  00:03:32             1          71     False   \n",
       "1   2023-10-27  00:03:51             2          72     False   \n",
       "2   2023-10-27  00:03:51             3          73     False   \n",
       "3   2023-10-27  00:03:55             4          72     False   \n",
       "4   2023-10-27  00:03:13             5          70     False   \n",
       "\n",
       "                                    uri  \n",
       "0  spotify:track:4WUepByoeqcedHoYhSNHRt  \n",
       "1  spotify:track:0108kcWLnn2HlH2kedi1gn  \n",
       "2  spotify:track:3Vpk1hfMAQme8VJ0SNRSkd  \n",
       "3  spotify:track:1OcSfkeCg9hRC2sFKB4IMJ  \n",
       "4  spotify:track:2k0ZEeAqzvYMcx9Qt5aClQ  "
      ]
     },
     "execution_count": 4,
     "metadata": {},
     "output_type": "execute_result"
    }
   ],
   "source": [
    "tracks.head()"
   ]
  },
  {
   "cell_type": "code",
   "execution_count": 5,
   "id": "6dd41b7b",
   "metadata": {
    "execution": {
     "iopub.execute_input": "2024-03-03T08:59:18.967202Z",
     "iopub.status.busy": "2024-03-03T08:59:18.966875Z",
     "iopub.status.idle": "2024-03-03T08:59:18.971983Z",
     "shell.execute_reply": "2024-03-03T08:59:18.970564Z"
    },
    "papermill": {
     "duration": 0.015766,
     "end_time": "2024-03-03T08:59:18.974713",
     "exception": false,
     "start_time": "2024-03-03T08:59:18.958947",
     "status": "completed"
    },
    "tags": []
   },
   "outputs": [
    {
     "name": "stdout",
     "output_type": "stream",
     "text": [
      "True\n"
     ]
    }
   ],
   "source": [
    "print(len(features)==len(tracks))"
   ]
  },
  {
   "cell_type": "markdown",
   "id": "e8c10714",
   "metadata": {
    "papermill": {
     "duration": 0.007671,
     "end_time": "2024-03-03T08:59:18.990833",
     "exception": false,
     "start_time": "2024-03-03T08:59:18.983162",
     "status": "completed"
    },
    "tags": []
   },
   "source": [
    "##### As both dataframes have the same size, we now they contain the same tracks. We will now merge them to get one large dataframe for ease in analysis."
   ]
  },
  {
   "cell_type": "code",
   "execution_count": 6,
   "id": "ee895ad3",
   "metadata": {
    "execution": {
     "iopub.execute_input": "2024-03-03T08:59:19.006438Z",
     "iopub.status.busy": "2024-03-03T08:59:19.006036Z",
     "iopub.status.idle": "2024-03-03T08:59:19.028401Z",
     "shell.execute_reply": "2024-03-03T08:59:19.027647Z"
    },
    "papermill": {
     "duration": 0.032729,
     "end_time": "2024-03-03T08:59:19.030251",
     "exception": false,
     "start_time": "2024-03-03T08:59:18.997522",
     "status": "completed"
    },
    "tags": []
   },
   "outputs": [],
   "source": [
    "df = pd.merge(features, tracks, how='inner', left_on='track_name', right_on='name')"
   ]
  },
  {
   "cell_type": "code",
   "execution_count": 7,
   "id": "c4e6fde0",
   "metadata": {
    "execution": {
     "iopub.execute_input": "2024-03-03T08:59:19.047136Z",
     "iopub.status.busy": "2024-03-03T08:59:19.046308Z",
     "iopub.status.idle": "2024-03-03T08:59:19.067799Z",
     "shell.execute_reply": "2024-03-03T08:59:19.065785Z"
    },
    "papermill": {
     "duration": 0.03206,
     "end_time": "2024-03-03T08:59:19.069716",
     "exception": false,
     "start_time": "2024-03-03T08:59:19.037656",
     "status": "completed"
    },
    "tags": []
   },
   "outputs": [
    {
     "name": "stdout",
     "output_type": "stream",
     "text": [
      "<class 'pandas.core.frame.DataFrame'>\n",
      "RangeIndex: 286 entries, 0 to 285\n",
      "Data columns (total 27 columns):\n",
      " #   Column            Non-Null Count  Dtype  \n",
      "---  ------            --------------  -----  \n",
      " 0   Unnamed: 0_x      286 non-null    int64  \n",
      " 1   album_id_x        286 non-null    object \n",
      " 2   album_name_x      286 non-null    object \n",
      " 3   id_x              286 non-null    object \n",
      " 4   track_name        286 non-null    object \n",
      " 5   danceability      286 non-null    float64\n",
      " 6   energy            286 non-null    float64\n",
      " 7   key               286 non-null    int64  \n",
      " 8   loudness          286 non-null    float64\n",
      " 9   mode              286 non-null    int64  \n",
      " 10  speechiness       286 non-null    float64\n",
      " 11  acousticness      286 non-null    float64\n",
      " 12  instrumentalness  286 non-null    float64\n",
      " 13  liveness          286 non-null    float64\n",
      " 14  valence           286 non-null    float64\n",
      " 15  tempo             286 non-null    float64\n",
      " 16  Unnamed: 0_y      286 non-null    int64  \n",
      " 17  album_id_y        286 non-null    object \n",
      " 18  album_name_y      286 non-null    object \n",
      " 19  id_y              286 non-null    object \n",
      " 20  name              286 non-null    object \n",
      " 21  release_date      286 non-null    object \n",
      " 22  duration          286 non-null    object \n",
      " 23  track_number      286 non-null    int64  \n",
      " 24  popularity        286 non-null    int64  \n",
      " 25  explicit          286 non-null    bool   \n",
      " 26  uri               286 non-null    object \n",
      "dtypes: bool(1), float64(9), int64(6), object(11)\n",
      "memory usage: 58.5+ KB\n"
     ]
    }
   ],
   "source": [
    "df.info()"
   ]
  },
  {
   "cell_type": "code",
   "execution_count": 8,
   "id": "23c72e9b",
   "metadata": {
    "execution": {
     "iopub.execute_input": "2024-03-03T08:59:19.086731Z",
     "iopub.status.busy": "2024-03-03T08:59:19.085980Z",
     "iopub.status.idle": "2024-03-03T08:59:19.092000Z",
     "shell.execute_reply": "2024-03-03T08:59:19.090788Z"
    },
    "papermill": {
     "duration": 0.016967,
     "end_time": "2024-03-03T08:59:19.093964",
     "exception": false,
     "start_time": "2024-03-03T08:59:19.076997",
     "status": "completed"
    },
    "tags": []
   },
   "outputs": [],
   "source": [
    "df['album_name'] = df['album_name_y']"
   ]
  },
  {
   "cell_type": "code",
   "execution_count": 9,
   "id": "59dde7a0",
   "metadata": {
    "execution": {
     "iopub.execute_input": "2024-03-03T08:59:19.110350Z",
     "iopub.status.busy": "2024-03-03T08:59:19.109565Z",
     "iopub.status.idle": "2024-03-03T08:59:19.117226Z",
     "shell.execute_reply": "2024-03-03T08:59:19.116545Z"
    },
    "papermill": {
     "duration": 0.017756,
     "end_time": "2024-03-03T08:59:19.118830",
     "exception": false,
     "start_time": "2024-03-03T08:59:19.101074",
     "status": "completed"
    },
    "tags": []
   },
   "outputs": [],
   "source": [
    "df = df[['track_name', 'album_name', 'release_date', 'duration', 'popularity', 'explicit','energy', 'key', 'loudness', 'danceability', 'speechiness', 'acousticness', 'instrumentalness', 'liveness', 'valence', 'tempo']]"
   ]
  },
  {
   "cell_type": "code",
   "execution_count": 10,
   "id": "dd7ca66f",
   "metadata": {
    "execution": {
     "iopub.execute_input": "2024-03-03T08:59:19.134614Z",
     "iopub.status.busy": "2024-03-03T08:59:19.134204Z",
     "iopub.status.idle": "2024-03-03T08:59:19.150710Z",
     "shell.execute_reply": "2024-03-03T08:59:19.149894Z"
    },
    "papermill": {
     "duration": 0.026809,
     "end_time": "2024-03-03T08:59:19.152548",
     "exception": false,
     "start_time": "2024-03-03T08:59:19.125739",
     "status": "completed"
    },
    "tags": []
   },
   "outputs": [
    {
     "data": {
      "text/html": [
       "<div>\n",
       "<style scoped>\n",
       "    .dataframe tbody tr th:only-of-type {\n",
       "        vertical-align: middle;\n",
       "    }\n",
       "\n",
       "    .dataframe tbody tr th {\n",
       "        vertical-align: top;\n",
       "    }\n",
       "\n",
       "    .dataframe thead th {\n",
       "        text-align: right;\n",
       "    }\n",
       "</style>\n",
       "<table border=\"1\" class=\"dataframe\">\n",
       "  <thead>\n",
       "    <tr style=\"text-align: right;\">\n",
       "      <th></th>\n",
       "      <th>track_name</th>\n",
       "      <th>album_name</th>\n",
       "      <th>release_date</th>\n",
       "      <th>duration</th>\n",
       "      <th>popularity</th>\n",
       "      <th>explicit</th>\n",
       "      <th>energy</th>\n",
       "      <th>key</th>\n",
       "      <th>loudness</th>\n",
       "      <th>danceability</th>\n",
       "      <th>speechiness</th>\n",
       "      <th>acousticness</th>\n",
       "      <th>instrumentalness</th>\n",
       "      <th>liveness</th>\n",
       "      <th>valence</th>\n",
       "      <th>tempo</th>\n",
       "    </tr>\n",
       "  </thead>\n",
       "  <tbody>\n",
       "    <tr>\n",
       "      <th>0</th>\n",
       "      <td>Welcome To New York (Taylor's Version)</td>\n",
       "      <td>1989 (Taylor's Version) [Deluxe]</td>\n",
       "      <td>2023-10-27</td>\n",
       "      <td>00:03:32</td>\n",
       "      <td>71</td>\n",
       "      <td>False</td>\n",
       "      <td>0.610</td>\n",
       "      <td>7</td>\n",
       "      <td>-4.840</td>\n",
       "      <td>0.757</td>\n",
       "      <td>0.0327</td>\n",
       "      <td>0.009420</td>\n",
       "      <td>0.000037</td>\n",
       "      <td>0.3670</td>\n",
       "      <td>0.685</td>\n",
       "      <td>116.998</td>\n",
       "    </tr>\n",
       "    <tr>\n",
       "      <th>1</th>\n",
       "      <td>Blank Space (Taylor's Version)</td>\n",
       "      <td>1989 (Taylor's Version) [Deluxe]</td>\n",
       "      <td>2023-10-27</td>\n",
       "      <td>00:03:51</td>\n",
       "      <td>72</td>\n",
       "      <td>False</td>\n",
       "      <td>0.733</td>\n",
       "      <td>0</td>\n",
       "      <td>-5.376</td>\n",
       "      <td>0.733</td>\n",
       "      <td>0.0670</td>\n",
       "      <td>0.088500</td>\n",
       "      <td>0.000000</td>\n",
       "      <td>0.1680</td>\n",
       "      <td>0.701</td>\n",
       "      <td>96.057</td>\n",
       "    </tr>\n",
       "    <tr>\n",
       "      <th>2</th>\n",
       "      <td>Style (Taylor's Version)</td>\n",
       "      <td>1989 (Taylor's Version) [Deluxe]</td>\n",
       "      <td>2023-10-27</td>\n",
       "      <td>00:03:51</td>\n",
       "      <td>73</td>\n",
       "      <td>False</td>\n",
       "      <td>0.822</td>\n",
       "      <td>11</td>\n",
       "      <td>-4.785</td>\n",
       "      <td>0.511</td>\n",
       "      <td>0.0397</td>\n",
       "      <td>0.000421</td>\n",
       "      <td>0.019700</td>\n",
       "      <td>0.0899</td>\n",
       "      <td>0.305</td>\n",
       "      <td>94.868</td>\n",
       "    </tr>\n",
       "    <tr>\n",
       "      <th>3</th>\n",
       "      <td>Out Of The Woods (Taylor's Version)</td>\n",
       "      <td>1989 (Taylor's Version) [Deluxe]</td>\n",
       "      <td>2023-10-27</td>\n",
       "      <td>00:03:55</td>\n",
       "      <td>72</td>\n",
       "      <td>False</td>\n",
       "      <td>0.885</td>\n",
       "      <td>0</td>\n",
       "      <td>-5.968</td>\n",
       "      <td>0.545</td>\n",
       "      <td>0.0447</td>\n",
       "      <td>0.000537</td>\n",
       "      <td>0.000056</td>\n",
       "      <td>0.3850</td>\n",
       "      <td>0.206</td>\n",
       "      <td>92.021</td>\n",
       "    </tr>\n",
       "    <tr>\n",
       "      <th>4</th>\n",
       "      <td>All You Had To Do Was Stay (Taylor's Version)</td>\n",
       "      <td>1989 (Taylor's Version) [Deluxe]</td>\n",
       "      <td>2023-10-27</td>\n",
       "      <td>00:03:13</td>\n",
       "      <td>70</td>\n",
       "      <td>False</td>\n",
       "      <td>0.721</td>\n",
       "      <td>0</td>\n",
       "      <td>-5.579</td>\n",
       "      <td>0.588</td>\n",
       "      <td>0.0317</td>\n",
       "      <td>0.000656</td>\n",
       "      <td>0.000000</td>\n",
       "      <td>0.1310</td>\n",
       "      <td>0.520</td>\n",
       "      <td>96.997</td>\n",
       "    </tr>\n",
       "  </tbody>\n",
       "</table>\n",
       "</div>"
      ],
      "text/plain": [
       "                                      track_name  \\\n",
       "0         Welcome To New York (Taylor's Version)   \n",
       "1                 Blank Space (Taylor's Version)   \n",
       "2                       Style (Taylor's Version)   \n",
       "3            Out Of The Woods (Taylor's Version)   \n",
       "4  All You Had To Do Was Stay (Taylor's Version)   \n",
       "\n",
       "                         album_name release_date  duration  popularity  \\\n",
       "0  1989 (Taylor's Version) [Deluxe]   2023-10-27  00:03:32          71   \n",
       "1  1989 (Taylor's Version) [Deluxe]   2023-10-27  00:03:51          72   \n",
       "2  1989 (Taylor's Version) [Deluxe]   2023-10-27  00:03:51          73   \n",
       "3  1989 (Taylor's Version) [Deluxe]   2023-10-27  00:03:55          72   \n",
       "4  1989 (Taylor's Version) [Deluxe]   2023-10-27  00:03:13          70   \n",
       "\n",
       "   explicit  energy  key  loudness  danceability  speechiness  acousticness  \\\n",
       "0     False   0.610    7    -4.840         0.757       0.0327      0.009420   \n",
       "1     False   0.733    0    -5.376         0.733       0.0670      0.088500   \n",
       "2     False   0.822   11    -4.785         0.511       0.0397      0.000421   \n",
       "3     False   0.885    0    -5.968         0.545       0.0447      0.000537   \n",
       "4     False   0.721    0    -5.579         0.588       0.0317      0.000656   \n",
       "\n",
       "   instrumentalness  liveness  valence    tempo  \n",
       "0          0.000037    0.3670    0.685  116.998  \n",
       "1          0.000000    0.1680    0.701   96.057  \n",
       "2          0.019700    0.0899    0.305   94.868  \n",
       "3          0.000056    0.3850    0.206   92.021  \n",
       "4          0.000000    0.1310    0.520   96.997  "
      ]
     },
     "execution_count": 10,
     "metadata": {},
     "output_type": "execute_result"
    }
   ],
   "source": [
    "df.head()"
   ]
  },
  {
   "cell_type": "code",
   "execution_count": 11,
   "id": "2a8d2f43",
   "metadata": {
    "execution": {
     "iopub.execute_input": "2024-03-03T08:59:19.169424Z",
     "iopub.status.busy": "2024-03-03T08:59:19.168975Z",
     "iopub.status.idle": "2024-03-03T08:59:19.181337Z",
     "shell.execute_reply": "2024-03-03T08:59:19.180034Z"
    },
    "papermill": {
     "duration": 0.023192,
     "end_time": "2024-03-03T08:59:19.183172",
     "exception": false,
     "start_time": "2024-03-03T08:59:19.159980",
     "status": "completed"
    },
    "tags": []
   },
   "outputs": [
    {
     "name": "stdout",
     "output_type": "stream",
     "text": [
      "<class 'pandas.core.frame.DataFrame'>\n",
      "RangeIndex: 286 entries, 0 to 285\n",
      "Data columns (total 16 columns):\n",
      " #   Column            Non-Null Count  Dtype  \n",
      "---  ------            --------------  -----  \n",
      " 0   track_name        286 non-null    object \n",
      " 1   album_name        286 non-null    object \n",
      " 2   release_date      286 non-null    object \n",
      " 3   duration          286 non-null    object \n",
      " 4   popularity        286 non-null    int64  \n",
      " 5   explicit          286 non-null    bool   \n",
      " 6   energy            286 non-null    float64\n",
      " 7   key               286 non-null    int64  \n",
      " 8   loudness          286 non-null    float64\n",
      " 9   danceability      286 non-null    float64\n",
      " 10  speechiness       286 non-null    float64\n",
      " 11  acousticness      286 non-null    float64\n",
      " 12  instrumentalness  286 non-null    float64\n",
      " 13  liveness          286 non-null    float64\n",
      " 14  valence           286 non-null    float64\n",
      " 15  tempo             286 non-null    float64\n",
      "dtypes: bool(1), float64(9), int64(2), object(4)\n",
      "memory usage: 33.9+ KB\n"
     ]
    }
   ],
   "source": [
    "df.info()"
   ]
  },
  {
   "cell_type": "markdown",
   "id": "6bbcb686",
   "metadata": {
    "papermill": {
     "duration": 0.006844,
     "end_time": "2024-03-03T08:59:19.197240",
     "exception": false,
     "start_time": "2024-03-03T08:59:19.190396",
     "status": "completed"
    },
    "tags": []
   },
   "source": [
    "#### We've obtained our relevant dataset."
   ]
  },
  {
   "cell_type": "markdown",
   "id": "81f9e474",
   "metadata": {
    "papermill": {
     "duration": 0.006762,
     "end_time": "2024-03-03T08:59:19.211066",
     "exception": false,
     "start_time": "2024-03-03T08:59:19.204304",
     "status": "completed"
    },
    "tags": []
   },
   "source": [
    "## Let's start our analysis and visualisations."
   ]
  },
  {
   "cell_type": "code",
   "execution_count": 12,
   "id": "931f2cf3",
   "metadata": {
    "execution": {
     "iopub.execute_input": "2024-03-03T08:59:19.227634Z",
     "iopub.status.busy": "2024-03-03T08:59:19.227157Z",
     "iopub.status.idle": "2024-03-03T08:59:19.777134Z",
     "shell.execute_reply": "2024-03-03T08:59:19.775788Z"
    },
    "papermill": {
     "duration": 0.561568,
     "end_time": "2024-03-03T08:59:19.779620",
     "exception": false,
     "start_time": "2024-03-03T08:59:19.218052",
     "status": "completed"
    },
    "tags": []
   },
   "outputs": [],
   "source": [
    "import plotly.express as px"
   ]
  },
  {
   "cell_type": "code",
   "execution_count": 13,
   "id": "d2c44902",
   "metadata": {
    "execution": {
     "iopub.execute_input": "2024-03-03T08:59:19.797036Z",
     "iopub.status.busy": "2024-03-03T08:59:19.796645Z",
     "iopub.status.idle": "2024-03-03T08:59:19.805168Z",
     "shell.execute_reply": "2024-03-03T08:59:19.803936Z"
    },
    "papermill": {
     "duration": 0.020293,
     "end_time": "2024-03-03T08:59:19.807984",
     "exception": false,
     "start_time": "2024-03-03T08:59:19.787691",
     "status": "completed"
    },
    "tags": []
   },
   "outputs": [],
   "source": [
    "df = df.sort_values(by='popularity', ascending=False)\n",
    "df_features = df[['popularity', 'explicit', 'energy', 'key', 'loudness', 'danceability', 'speechiness', 'acousticness', 'instrumentalness', 'liveness', 'valence', 'tempo']]"
   ]
  },
  {
   "cell_type": "code",
   "execution_count": 14,
   "id": "c2e2accc",
   "metadata": {
    "execution": {
     "iopub.execute_input": "2024-03-03T08:59:19.825591Z",
     "iopub.status.busy": "2024-03-03T08:59:19.825106Z",
     "iopub.status.idle": "2024-03-03T08:59:21.666089Z",
     "shell.execute_reply": "2024-03-03T08:59:21.665122Z"
    },
    "papermill": {
     "duration": 1.851995,
     "end_time": "2024-03-03T08:59:21.668047",
     "exception": false,
     "start_time": "2024-03-03T08:59:19.816052",
     "status": "completed"
    },
    "tags": []
   },
   "outputs": [
    {
     "data": {
      "text/html": [
       "        <script type=\"text/javascript\">\n",
       "        window.PlotlyConfig = {MathJaxConfig: 'local'};\n",
       "        if (window.MathJax && window.MathJax.Hub && window.MathJax.Hub.Config) {window.MathJax.Hub.Config({SVG: {font: \"STIX-Web\"}});}\n",
       "        if (typeof require !== 'undefined') {\n",
       "        require.undef(\"plotly\");\n",
       "        requirejs.config({\n",
       "            paths: {\n",
       "                'plotly': ['https://cdn.plot.ly/plotly-2.27.0.min']\n",
       "            }\n",
       "        });\n",
       "        require(['plotly'], function(Plotly) {\n",
       "            window._Plotly = Plotly;\n",
       "        });\n",
       "        }\n",
       "        </script>\n",
       "        "
      ]
     },
     "metadata": {},
     "output_type": "display_data"
    },
    {
     "data": {
      "text/html": [
       "<div>                            <div id=\"f8447310-e779-43fb-9635-6cb2379ec717\" class=\"plotly-graph-div\" style=\"height:525px; width:100%;\"></div>            <script type=\"text/javascript\">                require([\"plotly\"], function(Plotly) {                    window.PLOTLYENV=window.PLOTLYENV || {};                                    if (document.getElementById(\"f8447310-e779-43fb-9635-6cb2379ec717\")) {                    Plotly.newPlot(                        \"f8447310-e779-43fb-9635-6cb2379ec717\",                        [{\"coloraxis\":\"coloraxis\",\"name\":\"0\",\"x\":[\"popularity\",\"explicit\",\"energy\",\"key\",\"loudness\",\"danceability\",\"speechiness\",\"acousticness\",\"instrumentalness\",\"liveness\",\"valence\",\"tempo\"],\"y\":[\"popularity\",\"explicit\",\"energy\",\"key\",\"loudness\",\"danceability\",\"speechiness\",\"acousticness\",\"instrumentalness\",\"liveness\",\"valence\",\"tempo\"],\"z\":[[1.0,-0.013481504776679249,-0.001472904124048859,-0.02859351770057394,-0.014055687726878595,0.14646198808433805,0.19523406679631602,-0.12736866332021565,0.025936290740603232,-0.2715578865888504,-0.02580558293614143,-0.00040657630547376127],[-0.013481504776679249,1.0,-0.2008625062796059,-0.05280422085541241,-0.21719212557747183,0.21236193754831204,0.0678834326238559,0.28329439268569245,0.05439793557505039,-0.09536670246411871,-0.08505205142061992,0.013930648806700656],[-0.001472904124048859,-0.2008625062796059,1.0,0.10495458741896062,0.7881848955090995,0.032864801602915016,0.016903615061895444,-0.7073274265390396,-0.04833963595202452,0.21624283924694426,0.4796747789396381,0.1752587016908354],[-0.02859351770057394,-0.05280422085541241,0.10495458741896062,1.0,0.09528423941789502,0.027897129020216026,0.11312223986310382,-0.07345203415534765,-0.06389683926807938,0.06220408088568943,0.18783352272295564,-0.047899842858740466],[-0.014055687726878595,-0.21719212557747183,0.7881848955090995,0.09528423941789502,1.0,0.04263250264665015,-0.09723086718153127,-0.7278455605044516,-0.14961297807932675,0.17292211892774467,0.3339188237111306,0.1137642073871339],[0.14646198808433805,0.21236193754831204,0.032864801602915016,0.027897129020216026,0.04263250264665015,1.0,0.21133614016949212,-0.12667945492731006,-0.03908061089362448,-0.19881666406850315,0.2979910898469653,-0.17706206095899482],[0.19523406679631602,0.0678834326238559,0.016903615061895444,0.11312223986310382,-0.09723086718153127,0.21133614016949212,1.0,-0.06682561594425515,-0.022370446912206066,-0.042560537490748555,0.08710927757799164,0.04783100719376583],[-0.12736866332021565,0.28329439268569245,-0.7073274265390396,-0.07345203415534765,-0.7278455605044516,-0.12667945492731006,-0.06682561594425515,1.0,0.11658962570258731,-0.20137824660551312,-0.17248607610512282,-0.11229395688381569],[0.025936290740603232,0.05439793557505039,-0.04833963595202452,-0.06389683926807938,-0.14961297807932675,-0.03908061089362448,-0.022370446912206066,0.11658962570258731,1.0,-0.03839321805154625,-0.04789118476102342,-0.0005650757885694658],[-0.2715578865888504,-0.09536670246411871,0.21624283924694426,0.06220408088568943,0.17292211892774467,-0.19881666406850315,-0.042560537490748555,-0.20137824660551312,-0.03839321805154625,1.0,-0.09544883677271387,0.011639541462481591],[-0.02580558293614143,-0.08505205142061992,0.4796747789396381,0.18783352272295564,0.3339188237111306,0.2979910898469653,0.08710927757799164,-0.17248607610512282,-0.04789118476102342,-0.09544883677271387,1.0,0.10824495580982021],[-0.00040657630547376127,0.013930648806700656,0.1752587016908354,-0.047899842858740466,0.1137642073871339,-0.17706206095899482,0.04783100719376583,-0.11229395688381569,-0.0005650757885694658,0.011639541462481591,0.10824495580982021,1.0]],\"type\":\"heatmap\",\"xaxis\":\"x\",\"yaxis\":\"y\",\"hovertemplate\":\"x: %{x}\\u003cbr\\u003ey: %{y}\\u003cbr\\u003eCorrelation: %{z}\\u003cextra\\u003e\\u003c\\u002fextra\\u003e\"}],                        {\"template\":{\"data\":{\"histogram2dcontour\":[{\"type\":\"histogram2dcontour\",\"colorbar\":{\"outlinewidth\":0,\"ticks\":\"\"},\"colorscale\":[[0.0,\"#0d0887\"],[0.1111111111111111,\"#46039f\"],[0.2222222222222222,\"#7201a8\"],[0.3333333333333333,\"#9c179e\"],[0.4444444444444444,\"#bd3786\"],[0.5555555555555556,\"#d8576b\"],[0.6666666666666666,\"#ed7953\"],[0.7777777777777778,\"#fb9f3a\"],[0.8888888888888888,\"#fdca26\"],[1.0,\"#f0f921\"]]}],\"choropleth\":[{\"type\":\"choropleth\",\"colorbar\":{\"outlinewidth\":0,\"ticks\":\"\"}}],\"histogram2d\":[{\"type\":\"histogram2d\",\"colorbar\":{\"outlinewidth\":0,\"ticks\":\"\"},\"colorscale\":[[0.0,\"#0d0887\"],[0.1111111111111111,\"#46039f\"],[0.2222222222222222,\"#7201a8\"],[0.3333333333333333,\"#9c179e\"],[0.4444444444444444,\"#bd3786\"],[0.5555555555555556,\"#d8576b\"],[0.6666666666666666,\"#ed7953\"],[0.7777777777777778,\"#fb9f3a\"],[0.8888888888888888,\"#fdca26\"],[1.0,\"#f0f921\"]]}],\"heatmap\":[{\"type\":\"heatmap\",\"colorbar\":{\"outlinewidth\":0,\"ticks\":\"\"},\"colorscale\":[[0.0,\"#0d0887\"],[0.1111111111111111,\"#46039f\"],[0.2222222222222222,\"#7201a8\"],[0.3333333333333333,\"#9c179e\"],[0.4444444444444444,\"#bd3786\"],[0.5555555555555556,\"#d8576b\"],[0.6666666666666666,\"#ed7953\"],[0.7777777777777778,\"#fb9f3a\"],[0.8888888888888888,\"#fdca26\"],[1.0,\"#f0f921\"]]}],\"heatmapgl\":[{\"type\":\"heatmapgl\",\"colorbar\":{\"outlinewidth\":0,\"ticks\":\"\"},\"colorscale\":[[0.0,\"#0d0887\"],[0.1111111111111111,\"#46039f\"],[0.2222222222222222,\"#7201a8\"],[0.3333333333333333,\"#9c179e\"],[0.4444444444444444,\"#bd3786\"],[0.5555555555555556,\"#d8576b\"],[0.6666666666666666,\"#ed7953\"],[0.7777777777777778,\"#fb9f3a\"],[0.8888888888888888,\"#fdca26\"],[1.0,\"#f0f921\"]]}],\"contourcarpet\":[{\"type\":\"contourcarpet\",\"colorbar\":{\"outlinewidth\":0,\"ticks\":\"\"}}],\"contour\":[{\"type\":\"contour\",\"colorbar\":{\"outlinewidth\":0,\"ticks\":\"\"},\"colorscale\":[[0.0,\"#0d0887\"],[0.1111111111111111,\"#46039f\"],[0.2222222222222222,\"#7201a8\"],[0.3333333333333333,\"#9c179e\"],[0.4444444444444444,\"#bd3786\"],[0.5555555555555556,\"#d8576b\"],[0.6666666666666666,\"#ed7953\"],[0.7777777777777778,\"#fb9f3a\"],[0.8888888888888888,\"#fdca26\"],[1.0,\"#f0f921\"]]}],\"surface\":[{\"type\":\"surface\",\"colorbar\":{\"outlinewidth\":0,\"ticks\":\"\"},\"colorscale\":[[0.0,\"#0d0887\"],[0.1111111111111111,\"#46039f\"],[0.2222222222222222,\"#7201a8\"],[0.3333333333333333,\"#9c179e\"],[0.4444444444444444,\"#bd3786\"],[0.5555555555555556,\"#d8576b\"],[0.6666666666666666,\"#ed7953\"],[0.7777777777777778,\"#fb9f3a\"],[0.8888888888888888,\"#fdca26\"],[1.0,\"#f0f921\"]]}],\"mesh3d\":[{\"type\":\"mesh3d\",\"colorbar\":{\"outlinewidth\":0,\"ticks\":\"\"}}],\"scatter\":[{\"fillpattern\":{\"fillmode\":\"overlay\",\"size\":10,\"solidity\":0.2},\"type\":\"scatter\"}],\"parcoords\":[{\"type\":\"parcoords\",\"line\":{\"colorbar\":{\"outlinewidth\":0,\"ticks\":\"\"}}}],\"scatterpolargl\":[{\"type\":\"scatterpolargl\",\"marker\":{\"colorbar\":{\"outlinewidth\":0,\"ticks\":\"\"}}}],\"bar\":[{\"error_x\":{\"color\":\"#2a3f5f\"},\"error_y\":{\"color\":\"#2a3f5f\"},\"marker\":{\"line\":{\"color\":\"#E5ECF6\",\"width\":0.5},\"pattern\":{\"fillmode\":\"overlay\",\"size\":10,\"solidity\":0.2}},\"type\":\"bar\"}],\"scattergeo\":[{\"type\":\"scattergeo\",\"marker\":{\"colorbar\":{\"outlinewidth\":0,\"ticks\":\"\"}}}],\"scatterpolar\":[{\"type\":\"scatterpolar\",\"marker\":{\"colorbar\":{\"outlinewidth\":0,\"ticks\":\"\"}}}],\"histogram\":[{\"marker\":{\"pattern\":{\"fillmode\":\"overlay\",\"size\":10,\"solidity\":0.2}},\"type\":\"histogram\"}],\"scattergl\":[{\"type\":\"scattergl\",\"marker\":{\"colorbar\":{\"outlinewidth\":0,\"ticks\":\"\"}}}],\"scatter3d\":[{\"type\":\"scatter3d\",\"line\":{\"colorbar\":{\"outlinewidth\":0,\"ticks\":\"\"}},\"marker\":{\"colorbar\":{\"outlinewidth\":0,\"ticks\":\"\"}}}],\"scattermapbox\":[{\"type\":\"scattermapbox\",\"marker\":{\"colorbar\":{\"outlinewidth\":0,\"ticks\":\"\"}}}],\"scatterternary\":[{\"type\":\"scatterternary\",\"marker\":{\"colorbar\":{\"outlinewidth\":0,\"ticks\":\"\"}}}],\"scattercarpet\":[{\"type\":\"scattercarpet\",\"marker\":{\"colorbar\":{\"outlinewidth\":0,\"ticks\":\"\"}}}],\"carpet\":[{\"aaxis\":{\"endlinecolor\":\"#2a3f5f\",\"gridcolor\":\"white\",\"linecolor\":\"white\",\"minorgridcolor\":\"white\",\"startlinecolor\":\"#2a3f5f\"},\"baxis\":{\"endlinecolor\":\"#2a3f5f\",\"gridcolor\":\"white\",\"linecolor\":\"white\",\"minorgridcolor\":\"white\",\"startlinecolor\":\"#2a3f5f\"},\"type\":\"carpet\"}],\"table\":[{\"cells\":{\"fill\":{\"color\":\"#EBF0F8\"},\"line\":{\"color\":\"white\"}},\"header\":{\"fill\":{\"color\":\"#C8D4E3\"},\"line\":{\"color\":\"white\"}},\"type\":\"table\"}],\"barpolar\":[{\"marker\":{\"line\":{\"color\":\"#E5ECF6\",\"width\":0.5},\"pattern\":{\"fillmode\":\"overlay\",\"size\":10,\"solidity\":0.2}},\"type\":\"barpolar\"}],\"pie\":[{\"automargin\":true,\"type\":\"pie\"}]},\"layout\":{\"autotypenumbers\":\"strict\",\"colorway\":[\"#636efa\",\"#EF553B\",\"#00cc96\",\"#ab63fa\",\"#FFA15A\",\"#19d3f3\",\"#FF6692\",\"#B6E880\",\"#FF97FF\",\"#FECB52\"],\"font\":{\"color\":\"#2a3f5f\"},\"hovermode\":\"closest\",\"hoverlabel\":{\"align\":\"left\"},\"paper_bgcolor\":\"white\",\"plot_bgcolor\":\"#E5ECF6\",\"polar\":{\"bgcolor\":\"#E5ECF6\",\"angularaxis\":{\"gridcolor\":\"white\",\"linecolor\":\"white\",\"ticks\":\"\"},\"radialaxis\":{\"gridcolor\":\"white\",\"linecolor\":\"white\",\"ticks\":\"\"}},\"ternary\":{\"bgcolor\":\"#E5ECF6\",\"aaxis\":{\"gridcolor\":\"white\",\"linecolor\":\"white\",\"ticks\":\"\"},\"baxis\":{\"gridcolor\":\"white\",\"linecolor\":\"white\",\"ticks\":\"\"},\"caxis\":{\"gridcolor\":\"white\",\"linecolor\":\"white\",\"ticks\":\"\"}},\"coloraxis\":{\"colorbar\":{\"outlinewidth\":0,\"ticks\":\"\"}},\"colorscale\":{\"sequential\":[[0.0,\"#0d0887\"],[0.1111111111111111,\"#46039f\"],[0.2222222222222222,\"#7201a8\"],[0.3333333333333333,\"#9c179e\"],[0.4444444444444444,\"#bd3786\"],[0.5555555555555556,\"#d8576b\"],[0.6666666666666666,\"#ed7953\"],[0.7777777777777778,\"#fb9f3a\"],[0.8888888888888888,\"#fdca26\"],[1.0,\"#f0f921\"]],\"sequentialminus\":[[0.0,\"#0d0887\"],[0.1111111111111111,\"#46039f\"],[0.2222222222222222,\"#7201a8\"],[0.3333333333333333,\"#9c179e\"],[0.4444444444444444,\"#bd3786\"],[0.5555555555555556,\"#d8576b\"],[0.6666666666666666,\"#ed7953\"],[0.7777777777777778,\"#fb9f3a\"],[0.8888888888888888,\"#fdca26\"],[1.0,\"#f0f921\"]],\"diverging\":[[0,\"#8e0152\"],[0.1,\"#c51b7d\"],[0.2,\"#de77ae\"],[0.3,\"#f1b6da\"],[0.4,\"#fde0ef\"],[0.5,\"#f7f7f7\"],[0.6,\"#e6f5d0\"],[0.7,\"#b8e186\"],[0.8,\"#7fbc41\"],[0.9,\"#4d9221\"],[1,\"#276419\"]]},\"xaxis\":{\"gridcolor\":\"white\",\"linecolor\":\"white\",\"ticks\":\"\",\"title\":{\"standoff\":15},\"zerolinecolor\":\"white\",\"automargin\":true,\"zerolinewidth\":2},\"yaxis\":{\"gridcolor\":\"white\",\"linecolor\":\"white\",\"ticks\":\"\",\"title\":{\"standoff\":15},\"zerolinecolor\":\"white\",\"automargin\":true,\"zerolinewidth\":2},\"scene\":{\"xaxis\":{\"backgroundcolor\":\"#E5ECF6\",\"gridcolor\":\"white\",\"linecolor\":\"white\",\"showbackground\":true,\"ticks\":\"\",\"zerolinecolor\":\"white\",\"gridwidth\":2},\"yaxis\":{\"backgroundcolor\":\"#E5ECF6\",\"gridcolor\":\"white\",\"linecolor\":\"white\",\"showbackground\":true,\"ticks\":\"\",\"zerolinecolor\":\"white\",\"gridwidth\":2},\"zaxis\":{\"backgroundcolor\":\"#E5ECF6\",\"gridcolor\":\"white\",\"linecolor\":\"white\",\"showbackground\":true,\"ticks\":\"\",\"zerolinecolor\":\"white\",\"gridwidth\":2}},\"shapedefaults\":{\"line\":{\"color\":\"#2a3f5f\"}},\"annotationdefaults\":{\"arrowcolor\":\"#2a3f5f\",\"arrowhead\":0,\"arrowwidth\":1},\"geo\":{\"bgcolor\":\"white\",\"landcolor\":\"#E5ECF6\",\"subunitcolor\":\"white\",\"showland\":true,\"showlakes\":true,\"lakecolor\":\"white\"},\"title\":{\"x\":0.05},\"mapbox\":{\"style\":\"light\"}}},\"xaxis\":{\"anchor\":\"y\",\"domain\":[0.0,1.0],\"scaleanchor\":\"y\",\"constrain\":\"domain\"},\"yaxis\":{\"anchor\":\"x\",\"domain\":[0.0,1.0],\"autorange\":\"reversed\",\"constrain\":\"domain\"},\"coloraxis\":{\"colorbar\":{\"title\":{\"text\":\"Correlation\"}},\"colorscale\":[[0.0,\"#0d0887\"],[0.1111111111111111,\"#46039f\"],[0.2222222222222222,\"#7201a8\"],[0.3333333333333333,\"#9c179e\"],[0.4444444444444444,\"#bd3786\"],[0.5555555555555556,\"#d8576b\"],[0.6666666666666666,\"#ed7953\"],[0.7777777777777778,\"#fb9f3a\"],[0.8888888888888888,\"#fdca26\"],[1.0,\"#f0f921\"]]},\"title\":{\"text\":\"Correlation Heatmap of Features\"}},                        {\"responsive\": true}                    ).then(function(){\n",
       "                            \n",
       "var gd = document.getElementById('f8447310-e779-43fb-9635-6cb2379ec717');\n",
       "var x = new MutationObserver(function (mutations, observer) {{\n",
       "        var display = window.getComputedStyle(gd).display;\n",
       "        if (!display || display === 'none') {{\n",
       "            console.log([gd, 'removed!']);\n",
       "            Plotly.purge(gd);\n",
       "            observer.disconnect();\n",
       "        }}\n",
       "}});\n",
       "\n",
       "// Listen for the removal of the full notebook cells\n",
       "var notebookContainer = gd.closest('#notebook-container');\n",
       "if (notebookContainer) {{\n",
       "    x.observe(notebookContainer, {childList: true});\n",
       "}}\n",
       "\n",
       "// Listen for the clearing of the current output cell\n",
       "var outputEl = gd.closest('.output');\n",
       "if (outputEl) {{\n",
       "    x.observe(outputEl, {childList: true});\n",
       "}}\n",
       "\n",
       "                        })                };                });            </script>        </div>"
      ]
     },
     "metadata": {},
     "output_type": "display_data"
    }
   ],
   "source": [
    "correlation_matrix = df_features.corr()\n",
    "\n",
    "# Create a heatmap using Plotly Express\n",
    "fig = px.imshow(correlation_matrix,\n",
    "                labels=dict(color=\"Correlation\"),\n",
    "                x=correlation_matrix.index,\n",
    "                y=correlation_matrix.columns,\n",
    "                title=\"Correlation Heatmap of Features\")\n",
    "\n",
    "# Display the plot\n",
    "fig.show()"
   ]
  },
  {
   "cell_type": "code",
   "execution_count": 15,
   "id": "29cb9937",
   "metadata": {
    "execution": {
     "iopub.execute_input": "2024-03-03T08:59:21.687053Z",
     "iopub.status.busy": "2024-03-03T08:59:21.685938Z",
     "iopub.status.idle": "2024-03-03T08:59:21.695679Z",
     "shell.execute_reply": "2024-03-03T08:59:21.694525Z"
    },
    "papermill": {
     "duration": 0.021515,
     "end_time": "2024-03-03T08:59:21.697730",
     "exception": false,
     "start_time": "2024-03-03T08:59:21.676215",
     "status": "completed"
    },
    "tags": []
   },
   "outputs": [
    {
     "data": {
      "text/plain": [
       "array(['Lover', 'reputation',\n",
       "       'reputation Stadium Tour Surprise Song Playlist',\n",
       "       \"Fearless (Taylor's Version)\", \"Speak Now (Taylor's Version)\",\n",
       "       'evermore (deluxe version)', \"Red (Taylor's Version)\",\n",
       "       'folklore (deluxe version)', \"1989 (Taylor's Version) [Deluxe]\",\n",
       "       'Midnights (The Til Dawn Edition)', 'Taylor Swift',\n",
       "       'folklore: the long pond studio sessions (from the Disney+ special) [deluxe edition]',\n",
       "       'Speak Now World Tour Live',\n",
       "       'Live From Clear Channel Stripped 2008'], dtype=object)"
      ]
     },
     "execution_count": 15,
     "metadata": {},
     "output_type": "execute_result"
    }
   ],
   "source": [
    "df['album_name'].unique()"
   ]
  },
  {
   "cell_type": "code",
   "execution_count": 16,
   "id": "8b3a35e0",
   "metadata": {
    "execution": {
     "iopub.execute_input": "2024-03-03T08:59:21.715627Z",
     "iopub.status.busy": "2024-03-03T08:59:21.715181Z",
     "iopub.status.idle": "2024-03-03T08:59:21.896868Z",
     "shell.execute_reply": "2024-03-03T08:59:21.895470Z"
    },
    "papermill": {
     "duration": 0.192835,
     "end_time": "2024-03-03T08:59:21.898709",
     "exception": false,
     "start_time": "2024-03-03T08:59:21.705874",
     "status": "completed"
    },
    "tags": []
   },
   "outputs": [
    {
     "name": "stderr",
     "output_type": "stream",
     "text": [
      "/opt/conda/lib/python3.10/site-packages/plotly/express/_core.py:2065: FutureWarning:\n",
      "\n",
      "When grouping with a length-1 list-like, you will need to pass a length-1 tuple to get_group in a future version of pandas. Pass `(name,)` instead of `name` to silence this warning.\n",
      "\n"
     ]
    },
    {
     "data": {
      "text/html": [
       "<div>                            <div id=\"2bcfe951-6de1-4267-8ef5-4adc5f29487e\" class=\"plotly-graph-div\" style=\"height:525px; width:100%;\"></div>            <script type=\"text/javascript\">                require([\"plotly\"], function(Plotly) {                    window.PLOTLYENV=window.PLOTLYENV || {};                                    if (document.getElementById(\"2bcfe951-6de1-4267-8ef5-4adc5f29487e\")) {                    Plotly.newPlot(                        \"2bcfe951-6de1-4267-8ef5-4adc5f29487e\",                        [{\"alignmentgroup\":\"True\",\"hovertemplate\":\"Album=%{x}\\u003cbr\\u003ePopularity=%{y}\\u003cextra\\u003e\\u003c\\u002fextra\\u003e\",\"legendgroup\":\"Lover\",\"marker\":{\"color\":\"pink\"},\"name\":\"Lover\",\"notched\":false,\"offsetgroup\":\"Lover\",\"orientation\":\"v\",\"showlegend\":true,\"x\":[\"Lover\",\"Lover\",\"Lover\",\"Lover\",\"Lover\",\"Lover\",\"Lover\",\"Lover\",\"Lover\",\"Lover\",\"Lover\",\"Lover\",\"Lover\",\"Lover\",\"Lover\",\"Lover\",\"Lover\",\"Lover\"],\"x0\":\" \",\"xaxis\":\"x\",\"y\":[99,93,87,86,85,85,84,84,82,81,81,80,79,79,79,78,73,73],\"y0\":\" \",\"yaxis\":\"y\",\"type\":\"box\"},{\"alignmentgroup\":\"True\",\"hovertemplate\":\"Album=%{x}\\u003cbr\\u003ePopularity=%{y}\\u003cextra\\u003e\\u003c\\u002fextra\\u003e\",\"legendgroup\":\"reputation\",\"marker\":{\"color\":\"black\"},\"name\":\"reputation\",\"notched\":false,\"offsetgroup\":\"reputation\",\"orientation\":\"v\",\"showlegend\":true,\"x\":[\"reputation\",\"reputation\",\"reputation\",\"reputation\",\"reputation\",\"reputation\",\"reputation\",\"reputation\",\"reputation\",\"reputation\",\"reputation\",\"reputation\",\"reputation\",\"reputation\",\"reputation\",\"reputation\"],\"x0\":\" \",\"xaxis\":\"x\",\"y\":[92,88,88,87,87,83,83,82,82,82,80,79,78,78,77,77],\"y0\":\" \",\"yaxis\":\"y\",\"type\":\"box\"},{\"alignmentgroup\":\"True\",\"hovertemplate\":\"Album=%{x}\\u003cbr\\u003ePopularity=%{y}\\u003cextra\\u003e\\u003c\\u002fextra\\u003e\",\"legendgroup\":\"Fearless (Taylor's Version)\",\"marker\":{\"color\":\"yellow\"},\"name\":\"Fearless (Taylor's Version)\",\"notched\":false,\"offsetgroup\":\"Fearless (Taylor's Version)\",\"orientation\":\"v\",\"showlegend\":true,\"x\":[\"Fearless (Taylor's Version)\",\"Fearless (Taylor's Version)\",\"Fearless (Taylor's Version)\",\"Fearless (Taylor's Version)\",\"Fearless (Taylor's Version)\",\"Fearless (Taylor's Version)\",\"Fearless (Taylor's Version)\",\"Fearless (Taylor's Version)\",\"Fearless (Taylor's Version)\",\"Fearless (Taylor's Version)\",\"Fearless (Taylor's Version)\",\"Fearless (Taylor's Version)\",\"Fearless (Taylor's Version)\",\"Fearless (Taylor's Version)\",\"Fearless (Taylor's Version)\",\"Fearless (Taylor's Version)\",\"Fearless (Taylor's Version)\",\"Fearless (Taylor's Version)\",\"Fearless (Taylor's Version)\",\"Fearless (Taylor's Version)\"],\"x0\":\" \",\"xaxis\":\"x\",\"y\":[86,83,83,82,73,73,73,71,70,70,69,69,69,68,68,68,68,66,66,65],\"y0\":\" \",\"yaxis\":\"y\",\"type\":\"box\"},{\"alignmentgroup\":\"True\",\"hovertemplate\":\"Album=%{x}\\u003cbr\\u003ePopularity=%{y}\\u003cextra\\u003e\\u003c\\u002fextra\\u003e\",\"legendgroup\":\"Speak Now (Taylor's Version)\",\"marker\":{\"color\":\"purple\"},\"name\":\"Speak Now (Taylor's Version)\",\"notched\":false,\"offsetgroup\":\"Speak Now (Taylor's Version)\",\"orientation\":\"v\",\"showlegend\":true,\"x\":[\"Speak Now (Taylor's Version)\",\"Speak Now (Taylor's Version)\",\"Speak Now (Taylor's Version)\",\"Speak Now (Taylor's Version)\",\"Speak Now (Taylor's Version)\",\"Speak Now (Taylor's Version)\",\"Speak Now (Taylor's Version)\",\"Speak Now (Taylor's Version)\",\"Speak Now (Taylor's Version)\",\"Speak Now (Taylor's Version)\",\"Speak Now (Taylor's Version)\",\"Speak Now (Taylor's Version)\",\"Speak Now (Taylor's Version)\",\"Speak Now (Taylor's Version)\",\"Speak Now (Taylor's Version)\",\"Speak Now (Taylor's Version)\",\"Speak Now (Taylor's Version)\",\"Speak Now (Taylor's Version)\",\"Speak Now (Taylor's Version)\",\"Speak Now (Taylor's Version)\"],\"x0\":\" \",\"xaxis\":\"x\",\"y\":[86,83,83,82,80,79,79,78,78,77,77,76,75,75,75,74,73,72,71,69],\"y0\":\" \",\"yaxis\":\"y\",\"type\":\"box\"},{\"alignmentgroup\":\"True\",\"hovertemplate\":\"Album=%{x}\\u003cbr\\u003ePopularity=%{y}\\u003cextra\\u003e\\u003c\\u002fextra\\u003e\",\"legendgroup\":\"evermore (deluxe version)\",\"marker\":{\"color\":\"brown\"},\"name\":\"evermore (deluxe version)\",\"notched\":false,\"offsetgroup\":\"evermore (deluxe version)\",\"orientation\":\"v\",\"showlegend\":true,\"x\":[\"evermore (deluxe version)\",\"evermore (deluxe version)\",\"evermore (deluxe version)\",\"evermore (deluxe version)\",\"evermore (deluxe version)\",\"evermore (deluxe version)\",\"evermore (deluxe version)\",\"evermore (deluxe version)\",\"evermore (deluxe version)\",\"evermore (deluxe version)\",\"evermore (deluxe version)\",\"evermore (deluxe version)\",\"evermore (deluxe version)\",\"evermore (deluxe version)\",\"evermore (deluxe version)\",\"evermore (deluxe version)\",\"evermore (deluxe version)\"],\"x0\":\" \",\"xaxis\":\"x\",\"y\":[83,75,74,74,74,73,72,72,72,71,71,71,71,71,70,70,68],\"y0\":\" \",\"yaxis\":\"y\",\"type\":\"box\"},{\"alignmentgroup\":\"True\",\"hovertemplate\":\"Album=%{x}\\u003cbr\\u003ePopularity=%{y}\\u003cextra\\u003e\\u003c\\u002fextra\\u003e\",\"legendgroup\":\"Red (Taylor's Version)\",\"marker\":{\"color\":\"red\"},\"name\":\"Red (Taylor's Version)\",\"notched\":false,\"offsetgroup\":\"Red (Taylor's Version)\",\"orientation\":\"v\",\"showlegend\":true,\"x\":[\"Red (Taylor's Version)\",\"Red (Taylor's Version)\",\"Red (Taylor's Version)\",\"Red (Taylor's Version)\",\"Red (Taylor's Version)\",\"Red (Taylor's Version)\",\"Red (Taylor's Version)\",\"Red (Taylor's Version)\",\"Red (Taylor's Version)\",\"Red (Taylor's Version)\",\"Red (Taylor's Version)\",\"Red (Taylor's Version)\",\"Red (Taylor's Version)\",\"Red (Taylor's Version)\",\"Red (Taylor's Version)\",\"Red (Taylor's Version)\",\"Red (Taylor's Version)\",\"Red (Taylor's Version)\",\"Red (Taylor's Version)\",\"Red (Taylor's Version)\"],\"x0\":\" \",\"xaxis\":\"x\",\"y\":[81,81,80,80,77,76,74,73,73,72,72,72,71,71,71,70,70,70,68,67],\"y0\":\" \",\"yaxis\":\"y\",\"type\":\"box\"},{\"alignmentgroup\":\"True\",\"hovertemplate\":\"Album=%{x}\\u003cbr\\u003ePopularity=%{y}\\u003cextra\\u003e\\u003c\\u002fextra\\u003e\",\"legendgroup\":\"folklore (deluxe version)\",\"marker\":{\"color\":\"grey\"},\"name\":\"folklore (deluxe version)\",\"notched\":false,\"offsetgroup\":\"folklore (deluxe version)\",\"orientation\":\"v\",\"showlegend\":true,\"x\":[\"folklore (deluxe version)\",\"folklore (deluxe version)\",\"folklore (deluxe version)\",\"folklore (deluxe version)\",\"folklore (deluxe version)\",\"folklore (deluxe version)\",\"folklore (deluxe version)\",\"folklore (deluxe version)\",\"folklore (deluxe version)\",\"folklore (deluxe version)\",\"folklore (deluxe version)\",\"folklore (deluxe version)\",\"folklore (deluxe version)\",\"folklore (deluxe version)\",\"folklore (deluxe version)\",\"folklore (deluxe version)\",\"folklore (deluxe version)\",\"folklore (deluxe version)\",\"folklore (deluxe version)\",\"folklore (deluxe version)\",\"folklore (deluxe version)\",\"folklore (deluxe version)\",\"folklore (deluxe version)\",\"folklore (deluxe version)\",\"folklore (deluxe version)\",\"folklore (deluxe version)\",\"folklore (deluxe version)\",\"folklore (deluxe version)\",\"folklore (deluxe version)\",\"folklore (deluxe version)\",\"folklore (deluxe version)\",\"folklore (deluxe version)\",\"folklore (deluxe version)\",\"folklore (deluxe version)\"],\"x0\":\" \",\"xaxis\":\"x\",\"y\":[75,75,75,75,75,75,74,74,74,74,74,74,74,74,73,73,73,73,73,73,73,73,72,72,72,72,71,71,70,70,70,70,70,70],\"y0\":\" \",\"yaxis\":\"y\",\"type\":\"box\"},{\"alignmentgroup\":\"True\",\"hovertemplate\":\"Album=%{x}\\u003cbr\\u003ePopularity=%{y}\\u003cextra\\u003e\\u003c\\u002fextra\\u003e\",\"legendgroup\":\"1989 (Taylor's Version) [Deluxe]\",\"marker\":{\"color\":\"lightblue\"},\"name\":\"1989 (Taylor's Version) [Deluxe]\",\"notched\":false,\"offsetgroup\":\"1989 (Taylor's Version) [Deluxe]\",\"orientation\":\"v\",\"showlegend\":true,\"x\":[\"1989 (Taylor's Version) [Deluxe]\",\"1989 (Taylor's Version) [Deluxe]\",\"1989 (Taylor's Version) [Deluxe]\",\"1989 (Taylor's Version) [Deluxe]\",\"1989 (Taylor's Version) [Deluxe]\",\"1989 (Taylor's Version) [Deluxe]\",\"1989 (Taylor's Version) [Deluxe]\",\"1989 (Taylor's Version) [Deluxe]\",\"1989 (Taylor's Version) [Deluxe]\",\"1989 (Taylor's Version) [Deluxe]\",\"1989 (Taylor's Version) [Deluxe]\",\"1989 (Taylor's Version) [Deluxe]\",\"1989 (Taylor's Version) [Deluxe]\",\"1989 (Taylor's Version) [Deluxe]\",\"1989 (Taylor's Version) [Deluxe]\",\"1989 (Taylor's Version) [Deluxe]\",\"1989 (Taylor's Version) [Deluxe]\",\"1989 (Taylor's Version) [Deluxe]\",\"1989 (Taylor's Version) [Deluxe]\",\"1989 (Taylor's Version) [Deluxe]\"],\"x0\":\" \",\"xaxis\":\"x\",\"y\":[75,74,73,73,72,72,71,71,70,70,70,70,70,70,69,69,69,69,69,68],\"y0\":\" \",\"yaxis\":\"y\",\"type\":\"box\"},{\"alignmentgroup\":\"True\",\"hovertemplate\":\"Album=%{x}\\u003cbr\\u003ePopularity=%{y}\\u003cextra\\u003e\\u003c\\u002fextra\\u003e\",\"legendgroup\":\"Midnights (The Til Dawn Edition)\",\"marker\":{\"color\":\"darkblue\"},\"name\":\"Midnights (The Til Dawn Edition)\",\"notched\":false,\"offsetgroup\":\"Midnights (The Til Dawn Edition)\",\"orientation\":\"v\",\"showlegend\":true,\"x\":[\"Midnights (The Til Dawn Edition)\",\"Midnights (The Til Dawn Edition)\",\"Midnights (The Til Dawn Edition)\",\"Midnights (The Til Dawn Edition)\",\"Midnights (The Til Dawn Edition)\",\"Midnights (The Til Dawn Edition)\",\"Midnights (The Til Dawn Edition)\",\"Midnights (The Til Dawn Edition)\",\"Midnights (The Til Dawn Edition)\",\"Midnights (The Til Dawn Edition)\",\"Midnights (The Til Dawn Edition)\",\"Midnights (The Til Dawn Edition)\",\"Midnights (The Til Dawn Edition)\",\"Midnights (The Til Dawn Edition)\",\"Midnights (The Til Dawn Edition)\",\"Midnights (The Til Dawn Edition)\",\"Midnights (The Til Dawn Edition)\",\"Midnights (The Til Dawn Edition)\",\"Midnights (The Til Dawn Edition)\",\"Midnights (The Til Dawn Edition)\"],\"x0\":\" \",\"xaxis\":\"x\",\"y\":[72,71,71,71,71,71,70,70,70,70,70,69,69,69,68,68,68,68,67,67],\"y0\":\" \",\"yaxis\":\"y\",\"type\":\"box\"},{\"alignmentgroup\":\"True\",\"hovertemplate\":\"Album=%{x}\\u003cbr\\u003ePopularity=%{y}\\u003cextra\\u003e\\u003c\\u002fextra\\u003e\",\"legendgroup\":\"Taylor Swift\",\"marker\":{\"color\":\"lightgreen\"},\"name\":\"Taylor Swift\",\"notched\":false,\"offsetgroup\":\"Taylor Swift\",\"orientation\":\"v\",\"showlegend\":true,\"x\":[\"Taylor Swift\",\"Taylor Swift\",\"Taylor Swift\",\"Taylor Swift\",\"Taylor Swift\",\"Taylor Swift\",\"Taylor Swift\",\"Taylor Swift\",\"Taylor Swift\",\"Taylor Swift\",\"Taylor Swift\",\"Taylor Swift\",\"Taylor Swift\",\"Taylor Swift\",\"Taylor Swift\",\"Taylor Swift\",\"Taylor Swift\"],\"x0\":\" \",\"xaxis\":\"x\",\"y\":[70,70,69,69,67,66,61,61,61,61,61,60,60,59,59,59,58],\"y0\":\" \",\"yaxis\":\"y\",\"type\":\"box\"}],                        {\"template\":{\"data\":{\"histogram2dcontour\":[{\"type\":\"histogram2dcontour\",\"colorbar\":{\"outlinewidth\":0,\"ticks\":\"\"},\"colorscale\":[[0.0,\"#0d0887\"],[0.1111111111111111,\"#46039f\"],[0.2222222222222222,\"#7201a8\"],[0.3333333333333333,\"#9c179e\"],[0.4444444444444444,\"#bd3786\"],[0.5555555555555556,\"#d8576b\"],[0.6666666666666666,\"#ed7953\"],[0.7777777777777778,\"#fb9f3a\"],[0.8888888888888888,\"#fdca26\"],[1.0,\"#f0f921\"]]}],\"choropleth\":[{\"type\":\"choropleth\",\"colorbar\":{\"outlinewidth\":0,\"ticks\":\"\"}}],\"histogram2d\":[{\"type\":\"histogram2d\",\"colorbar\":{\"outlinewidth\":0,\"ticks\":\"\"},\"colorscale\":[[0.0,\"#0d0887\"],[0.1111111111111111,\"#46039f\"],[0.2222222222222222,\"#7201a8\"],[0.3333333333333333,\"#9c179e\"],[0.4444444444444444,\"#bd3786\"],[0.5555555555555556,\"#d8576b\"],[0.6666666666666666,\"#ed7953\"],[0.7777777777777778,\"#fb9f3a\"],[0.8888888888888888,\"#fdca26\"],[1.0,\"#f0f921\"]]}],\"heatmap\":[{\"type\":\"heatmap\",\"colorbar\":{\"outlinewidth\":0,\"ticks\":\"\"},\"colorscale\":[[0.0,\"#0d0887\"],[0.1111111111111111,\"#46039f\"],[0.2222222222222222,\"#7201a8\"],[0.3333333333333333,\"#9c179e\"],[0.4444444444444444,\"#bd3786\"],[0.5555555555555556,\"#d8576b\"],[0.6666666666666666,\"#ed7953\"],[0.7777777777777778,\"#fb9f3a\"],[0.8888888888888888,\"#fdca26\"],[1.0,\"#f0f921\"]]}],\"heatmapgl\":[{\"type\":\"heatmapgl\",\"colorbar\":{\"outlinewidth\":0,\"ticks\":\"\"},\"colorscale\":[[0.0,\"#0d0887\"],[0.1111111111111111,\"#46039f\"],[0.2222222222222222,\"#7201a8\"],[0.3333333333333333,\"#9c179e\"],[0.4444444444444444,\"#bd3786\"],[0.5555555555555556,\"#d8576b\"],[0.6666666666666666,\"#ed7953\"],[0.7777777777777778,\"#fb9f3a\"],[0.8888888888888888,\"#fdca26\"],[1.0,\"#f0f921\"]]}],\"contourcarpet\":[{\"type\":\"contourcarpet\",\"colorbar\":{\"outlinewidth\":0,\"ticks\":\"\"}}],\"contour\":[{\"type\":\"contour\",\"colorbar\":{\"outlinewidth\":0,\"ticks\":\"\"},\"colorscale\":[[0.0,\"#0d0887\"],[0.1111111111111111,\"#46039f\"],[0.2222222222222222,\"#7201a8\"],[0.3333333333333333,\"#9c179e\"],[0.4444444444444444,\"#bd3786\"],[0.5555555555555556,\"#d8576b\"],[0.6666666666666666,\"#ed7953\"],[0.7777777777777778,\"#fb9f3a\"],[0.8888888888888888,\"#fdca26\"],[1.0,\"#f0f921\"]]}],\"surface\":[{\"type\":\"surface\",\"colorbar\":{\"outlinewidth\":0,\"ticks\":\"\"},\"colorscale\":[[0.0,\"#0d0887\"],[0.1111111111111111,\"#46039f\"],[0.2222222222222222,\"#7201a8\"],[0.3333333333333333,\"#9c179e\"],[0.4444444444444444,\"#bd3786\"],[0.5555555555555556,\"#d8576b\"],[0.6666666666666666,\"#ed7953\"],[0.7777777777777778,\"#fb9f3a\"],[0.8888888888888888,\"#fdca26\"],[1.0,\"#f0f921\"]]}],\"mesh3d\":[{\"type\":\"mesh3d\",\"colorbar\":{\"outlinewidth\":0,\"ticks\":\"\"}}],\"scatter\":[{\"fillpattern\":{\"fillmode\":\"overlay\",\"size\":10,\"solidity\":0.2},\"type\":\"scatter\"}],\"parcoords\":[{\"type\":\"parcoords\",\"line\":{\"colorbar\":{\"outlinewidth\":0,\"ticks\":\"\"}}}],\"scatterpolargl\":[{\"type\":\"scatterpolargl\",\"marker\":{\"colorbar\":{\"outlinewidth\":0,\"ticks\":\"\"}}}],\"bar\":[{\"error_x\":{\"color\":\"#2a3f5f\"},\"error_y\":{\"color\":\"#2a3f5f\"},\"marker\":{\"line\":{\"color\":\"#E5ECF6\",\"width\":0.5},\"pattern\":{\"fillmode\":\"overlay\",\"size\":10,\"solidity\":0.2}},\"type\":\"bar\"}],\"scattergeo\":[{\"type\":\"scattergeo\",\"marker\":{\"colorbar\":{\"outlinewidth\":0,\"ticks\":\"\"}}}],\"scatterpolar\":[{\"type\":\"scatterpolar\",\"marker\":{\"colorbar\":{\"outlinewidth\":0,\"ticks\":\"\"}}}],\"histogram\":[{\"marker\":{\"pattern\":{\"fillmode\":\"overlay\",\"size\":10,\"solidity\":0.2}},\"type\":\"histogram\"}],\"scattergl\":[{\"type\":\"scattergl\",\"marker\":{\"colorbar\":{\"outlinewidth\":0,\"ticks\":\"\"}}}],\"scatter3d\":[{\"type\":\"scatter3d\",\"line\":{\"colorbar\":{\"outlinewidth\":0,\"ticks\":\"\"}},\"marker\":{\"colorbar\":{\"outlinewidth\":0,\"ticks\":\"\"}}}],\"scattermapbox\":[{\"type\":\"scattermapbox\",\"marker\":{\"colorbar\":{\"outlinewidth\":0,\"ticks\":\"\"}}}],\"scatterternary\":[{\"type\":\"scatterternary\",\"marker\":{\"colorbar\":{\"outlinewidth\":0,\"ticks\":\"\"}}}],\"scattercarpet\":[{\"type\":\"scattercarpet\",\"marker\":{\"colorbar\":{\"outlinewidth\":0,\"ticks\":\"\"}}}],\"carpet\":[{\"aaxis\":{\"endlinecolor\":\"#2a3f5f\",\"gridcolor\":\"white\",\"linecolor\":\"white\",\"minorgridcolor\":\"white\",\"startlinecolor\":\"#2a3f5f\"},\"baxis\":{\"endlinecolor\":\"#2a3f5f\",\"gridcolor\":\"white\",\"linecolor\":\"white\",\"minorgridcolor\":\"white\",\"startlinecolor\":\"#2a3f5f\"},\"type\":\"carpet\"}],\"table\":[{\"cells\":{\"fill\":{\"color\":\"#EBF0F8\"},\"line\":{\"color\":\"white\"}},\"header\":{\"fill\":{\"color\":\"#C8D4E3\"},\"line\":{\"color\":\"white\"}},\"type\":\"table\"}],\"barpolar\":[{\"marker\":{\"line\":{\"color\":\"#E5ECF6\",\"width\":0.5},\"pattern\":{\"fillmode\":\"overlay\",\"size\":10,\"solidity\":0.2}},\"type\":\"barpolar\"}],\"pie\":[{\"automargin\":true,\"type\":\"pie\"}]},\"layout\":{\"autotypenumbers\":\"strict\",\"colorway\":[\"#636efa\",\"#EF553B\",\"#00cc96\",\"#ab63fa\",\"#FFA15A\",\"#19d3f3\",\"#FF6692\",\"#B6E880\",\"#FF97FF\",\"#FECB52\"],\"font\":{\"color\":\"#2a3f5f\"},\"hovermode\":\"closest\",\"hoverlabel\":{\"align\":\"left\"},\"paper_bgcolor\":\"white\",\"plot_bgcolor\":\"#E5ECF6\",\"polar\":{\"bgcolor\":\"#E5ECF6\",\"angularaxis\":{\"gridcolor\":\"white\",\"linecolor\":\"white\",\"ticks\":\"\"},\"radialaxis\":{\"gridcolor\":\"white\",\"linecolor\":\"white\",\"ticks\":\"\"}},\"ternary\":{\"bgcolor\":\"#E5ECF6\",\"aaxis\":{\"gridcolor\":\"white\",\"linecolor\":\"white\",\"ticks\":\"\"},\"baxis\":{\"gridcolor\":\"white\",\"linecolor\":\"white\",\"ticks\":\"\"},\"caxis\":{\"gridcolor\":\"white\",\"linecolor\":\"white\",\"ticks\":\"\"}},\"coloraxis\":{\"colorbar\":{\"outlinewidth\":0,\"ticks\":\"\"}},\"colorscale\":{\"sequential\":[[0.0,\"#0d0887\"],[0.1111111111111111,\"#46039f\"],[0.2222222222222222,\"#7201a8\"],[0.3333333333333333,\"#9c179e\"],[0.4444444444444444,\"#bd3786\"],[0.5555555555555556,\"#d8576b\"],[0.6666666666666666,\"#ed7953\"],[0.7777777777777778,\"#fb9f3a\"],[0.8888888888888888,\"#fdca26\"],[1.0,\"#f0f921\"]],\"sequentialminus\":[[0.0,\"#0d0887\"],[0.1111111111111111,\"#46039f\"],[0.2222222222222222,\"#7201a8\"],[0.3333333333333333,\"#9c179e\"],[0.4444444444444444,\"#bd3786\"],[0.5555555555555556,\"#d8576b\"],[0.6666666666666666,\"#ed7953\"],[0.7777777777777778,\"#fb9f3a\"],[0.8888888888888888,\"#fdca26\"],[1.0,\"#f0f921\"]],\"diverging\":[[0,\"#8e0152\"],[0.1,\"#c51b7d\"],[0.2,\"#de77ae\"],[0.3,\"#f1b6da\"],[0.4,\"#fde0ef\"],[0.5,\"#f7f7f7\"],[0.6,\"#e6f5d0\"],[0.7,\"#b8e186\"],[0.8,\"#7fbc41\"],[0.9,\"#4d9221\"],[1,\"#276419\"]]},\"xaxis\":{\"gridcolor\":\"white\",\"linecolor\":\"white\",\"ticks\":\"\",\"title\":{\"standoff\":15},\"zerolinecolor\":\"white\",\"automargin\":true,\"zerolinewidth\":2},\"yaxis\":{\"gridcolor\":\"white\",\"linecolor\":\"white\",\"ticks\":\"\",\"title\":{\"standoff\":15},\"zerolinecolor\":\"white\",\"automargin\":true,\"zerolinewidth\":2},\"scene\":{\"xaxis\":{\"backgroundcolor\":\"#E5ECF6\",\"gridcolor\":\"white\",\"linecolor\":\"white\",\"showbackground\":true,\"ticks\":\"\",\"zerolinecolor\":\"white\",\"gridwidth\":2},\"yaxis\":{\"backgroundcolor\":\"#E5ECF6\",\"gridcolor\":\"white\",\"linecolor\":\"white\",\"showbackground\":true,\"ticks\":\"\",\"zerolinecolor\":\"white\",\"gridwidth\":2},\"zaxis\":{\"backgroundcolor\":\"#E5ECF6\",\"gridcolor\":\"white\",\"linecolor\":\"white\",\"showbackground\":true,\"ticks\":\"\",\"zerolinecolor\":\"white\",\"gridwidth\":2}},\"shapedefaults\":{\"line\":{\"color\":\"#2a3f5f\"}},\"annotationdefaults\":{\"arrowcolor\":\"#2a3f5f\",\"arrowhead\":0,\"arrowwidth\":1},\"geo\":{\"bgcolor\":\"white\",\"landcolor\":\"#E5ECF6\",\"subunitcolor\":\"white\",\"showland\":true,\"showlakes\":true,\"lakecolor\":\"white\"},\"title\":{\"x\":0.05},\"mapbox\":{\"style\":\"light\"}}},\"xaxis\":{\"anchor\":\"y\",\"domain\":[0.0,1.0],\"title\":{\"text\":\"Album\"},\"categoryorder\":\"array\",\"categoryarray\":[\"Lover\",\"reputation\",\"Fearless (Taylor's Version)\",\"Speak Now (Taylor's Version)\",\"evermore (deluxe version)\",\"Red (Taylor's Version)\",\"folklore (deluxe version)\",\"1989 (Taylor's Version) [Deluxe]\",\"Midnights (The Til Dawn Edition)\",\"Taylor Swift\"]},\"yaxis\":{\"anchor\":\"x\",\"domain\":[0.0,1.0],\"title\":{\"text\":\"Popularity\"}},\"legend\":{\"title\":{\"text\":\"Album\"},\"tracegroupgap\":0},\"title\":{\"text\":\"Popularity Distribution by Album\"},\"boxmode\":\"overlay\"},                        {\"responsive\": true}                    ).then(function(){\n",
       "                            \n",
       "var gd = document.getElementById('2bcfe951-6de1-4267-8ef5-4adc5f29487e');\n",
       "var x = new MutationObserver(function (mutations, observer) {{\n",
       "        var display = window.getComputedStyle(gd).display;\n",
       "        if (!display || display === 'none') {{\n",
       "            console.log([gd, 'removed!']);\n",
       "            Plotly.purge(gd);\n",
       "            observer.disconnect();\n",
       "        }}\n",
       "}});\n",
       "\n",
       "// Listen for the removal of the full notebook cells\n",
       "var notebookContainer = gd.closest('#notebook-container');\n",
       "if (notebookContainer) {{\n",
       "    x.observe(notebookContainer, {childList: true});\n",
       "}}\n",
       "\n",
       "// Listen for the clearing of the current output cell\n",
       "var outputEl = gd.closest('.output');\n",
       "if (outputEl) {{\n",
       "    x.observe(outputEl, {childList: true});\n",
       "}}\n",
       "\n",
       "                        })                };                });            </script>        </div>"
      ]
     },
     "metadata": {},
     "output_type": "display_data"
    }
   ],
   "source": [
    "# Filter DataFrame for selected albums\n",
    "selected_albums = ['Taylor Swift', \"Speak Now (Taylor's Version)\", \"Fearless (Taylor's Version)\",\n",
    "                   \"Red (Taylor's Version)\", \"1989 (Taylor's Version) [Deluxe]\", 'reputation',\"Lover\",\n",
    "                   'folklore (deluxe version)', 'evermore (deluxe version)', 'Midnights (The Til Dawn Edition)']\n",
    "df_selected = df[df['album_name'].isin(selected_albums)]\n",
    "\n",
    "# Define custom colors for each album\n",
    "custom_colors = {'Taylor Swift': 'lightgreen', \n",
    "                 \"Speak Now (Taylor's Version)\": 'purple', \n",
    "                 \"Fearless (Taylor's Version)\": 'yellow', \n",
    "                 \"Red (Taylor's Version)\": 'red', \n",
    "                 \"1989 (Taylor's Version) [Deluxe]\": 'lightblue', \n",
    "                 'reputation': 'black', \n",
    "                 'Lover':'pink',\n",
    "                 'folklore (deluxe version)': 'grey', \n",
    "                 'evermore (deluxe version)': 'brown', \n",
    "                 'Midnights (The Til Dawn Edition)': 'darkblue'}\n",
    "\n",
    "fig1 = px.box(data_frame=df_selected, x='album_name', y='popularity', \n",
    "                                  title='Popularity Distribution by Album',\n",
    "                                  color='album_name',\n",
    "                                  color_discrete_map=custom_colors,\n",
    "                                  labels={'popularity': 'Popularity', 'album_name': 'Album'})\n",
    "\n",
    "# Show the plot\n",
    "fig1.show()\n"
   ]
  },
  {
   "cell_type": "markdown",
   "id": "8e97781c",
   "metadata": {
    "papermill": {
     "duration": 0.007523,
     "end_time": "2024-03-03T08:59:21.914606",
     "exception": false,
     "start_time": "2024-03-03T08:59:21.907083",
     "status": "completed"
    },
    "tags": []
   },
   "source": [
    "#### Based on the correlation matrix, let's obtain some data:"
   ]
  },
  {
   "cell_type": "code",
   "execution_count": 17,
   "id": "fc4a8533",
   "metadata": {
    "execution": {
     "iopub.execute_input": "2024-03-03T08:59:21.932435Z",
     "iopub.status.busy": "2024-03-03T08:59:21.931982Z",
     "iopub.status.idle": "2024-03-03T08:59:22.011337Z",
     "shell.execute_reply": "2024-03-03T08:59:22.010300Z"
    },
    "papermill": {
     "duration": 0.091125,
     "end_time": "2024-03-03T08:59:22.013597",
     "exception": false,
     "start_time": "2024-03-03T08:59:21.922472",
     "status": "completed"
    },
    "tags": []
   },
   "outputs": [
    {
     "data": {
      "text/html": [
       "<div>                            <div id=\"ed7ec95e-91ef-4d19-a218-5fdaae887ca8\" class=\"plotly-graph-div\" style=\"height:525px; width:100%;\"></div>            <script type=\"text/javascript\">                require([\"plotly\"], function(Plotly) {                    window.PLOTLYENV=window.PLOTLYENV || {};                                    if (document.getElementById(\"ed7ec95e-91ef-4d19-a218-5fdaae887ca8\")) {                    Plotly.newPlot(                        \"ed7ec95e-91ef-4d19-a218-5fdaae887ca8\",                        [{\"alignmentgroup\":\"True\",\"bingroup\":\"x\",\"histfunc\":\"avg\",\"hovertemplate\":\"danceability=%{x}\\u003cbr\\u003eavg of popularity=%{y}\\u003cextra\\u003e\\u003c\\u002fextra\\u003e\",\"legendgroup\":\"\",\"marker\":{\"color\":\"pink\",\"pattern\":{\"shape\":\"\"}},\"name\":\"\",\"nbinsx\":10,\"offsetgroup\":\"\",\"orientation\":\"v\",\"showlegend\":false,\"x\":[0.552,0.359,0.615,0.766,0.75,0.613,0.777,0.562,0.811,0.731,0.632,0.505,0.557,0.771,0.662,0.292,0.581,0.694,0.569,0.627,0.497,0.8,0.696,0.598,0.649,0.719,0.402,0.646,0.756,0.567,0.584,0.824,0.61,0.516,0.695,0.675,0.375,0.642,0.624,0.712,0.897,0.739,0.496,0.588,0.664,0.524,0.661,0.567,0.419,0.574,0.574,0.44,0.727,0.515,0.498,0.55,0.456,0.78,0.612,0.462,0.78,0.612,0.456,0.8,0.427,0.547,0.576,0.313,0.313,0.316,0.591,0.592,0.31,0.474,0.387,0.529,0.529,0.502,0.387,0.31,0.392,0.511,0.549,0.688,0.651,0.651,0.737,0.511,0.549,0.575,0.688,0.433,0.559,0.598,0.633,0.519,0.535,0.423,0.46,0.511,0.733,0.545,0.39,0.595,0.602,0.602,0.645,0.601,0.546,0.594,0.685,0.512,0.595,0.694,0.65,0.637,0.695,0.654,0.622,0.693,0.593,0.735,0.757,0.522,0.604,0.559,0.593,0.537,0.515,0.511,0.535,0.788,0.701,0.772,0.588,0.636,0.589,0.582,0.482,0.573,0.676,0.649,0.676,0.661,0.644,0.867,0.317,0.647,0.644,0.545,0.506,0.668,0.317,0.432,0.628,0.546,0.605,0.636,0.686,0.626,0.506,0.572,0.363,0.464,0.758,0.618,0.67,0.393,0.653,0.533,0.621,0.493,0.741,0.335,0.689,0.691,0.48,0.471,0.578,0.642,0.482,0.475,0.691,0.546,0.658,0.564,0.445,0.677,0.476,0.499,0.476,0.454,0.395,0.418,0.58,0.563,0.403,0.708,0.576,0.589,0.459,0.574,0.574,0.612,0.479,0.594,0.64,0.483,0.31,0.78,0.31,0.612,0.612,0.78,0.456,0.387,0.387,0.456,0.374,0.529,0.511,0.549,0.549,0.651,0.688,0.529,0.511,0.651,0.688,0.602,0.602,0.374,0.313,0.595,0.593,0.313,0.595,0.593,0.644,0.644,0.317,0.317,0.676,0.676,0.536,0.327,0.445,0.34,0.544,0.455,0.615,0.521,0.429,0.338,0.427,0.419,0.496,0.421,0.668,0.627,0.55,0.545,0.621,0.741,0.536,0.602,0.66,0.623,0.605,0.621,0.626,0.576,0.731,0.429,0.647,0.344,0.765,0.61,0.627,0.669,0.431,0.55,0.714,0.243,0.704,0.591],\"xaxis\":\"x\",\"y\":[99,93,92,88,88,87,87,87,86,86,86,86,85,85,84,84,83,83,83,83,83,83,83,82,82,82,82,82,82,81,81,81,81,80,80,80,80,80,79,79,79,79,79,79,78,78,78,78,78,77,77,77,77,77,76,76,75,75,75,75,75,75,75,75,75,75,75,74,74,74,74,74,74,74,74,74,74,74,74,74,74,73,73,73,73,73,73,73,73,73,73,73,73,73,73,73,73,73,73,73,72,72,72,72,72,72,72,72,72,72,72,72,72,72,71,71,71,71,71,71,71,71,71,71,71,71,71,71,71,71,71,71,71,70,70,70,70,70,70,70,70,70,70,70,70,70,70,70,70,70,70,70,70,70,70,70,70,70,70,69,69,69,69,69,69,69,69,69,69,69,69,69,69,68,68,68,68,68,68,68,68,68,68,68,67,67,67,67,66,66,66,65,62,61,61,61,61,61,61,60,60,59,59,59,59,59,59,58,56,56,56,56,56,56,55,55,55,55,54,54,54,54,54,54,54,54,54,54,54,53,53,53,52,52,52,52,52,52,51,51,51,51,50,50,50,50,49,49,49,49,48,48,48,48,48,48,48,47,44,44,44,44,44,42,42,42,41,41,40,39,39,39,38,37,37,37,37,37,36,36,36,36,35,34,34,34],\"yaxis\":\"y\",\"type\":\"histogram\"}],                        {\"template\":{\"data\":{\"histogram2dcontour\":[{\"type\":\"histogram2dcontour\",\"colorbar\":{\"outlinewidth\":0,\"ticks\":\"\"},\"colorscale\":[[0.0,\"#0d0887\"],[0.1111111111111111,\"#46039f\"],[0.2222222222222222,\"#7201a8\"],[0.3333333333333333,\"#9c179e\"],[0.4444444444444444,\"#bd3786\"],[0.5555555555555556,\"#d8576b\"],[0.6666666666666666,\"#ed7953\"],[0.7777777777777778,\"#fb9f3a\"],[0.8888888888888888,\"#fdca26\"],[1.0,\"#f0f921\"]]}],\"choropleth\":[{\"type\":\"choropleth\",\"colorbar\":{\"outlinewidth\":0,\"ticks\":\"\"}}],\"histogram2d\":[{\"type\":\"histogram2d\",\"colorbar\":{\"outlinewidth\":0,\"ticks\":\"\"},\"colorscale\":[[0.0,\"#0d0887\"],[0.1111111111111111,\"#46039f\"],[0.2222222222222222,\"#7201a8\"],[0.3333333333333333,\"#9c179e\"],[0.4444444444444444,\"#bd3786\"],[0.5555555555555556,\"#d8576b\"],[0.6666666666666666,\"#ed7953\"],[0.7777777777777778,\"#fb9f3a\"],[0.8888888888888888,\"#fdca26\"],[1.0,\"#f0f921\"]]}],\"heatmap\":[{\"type\":\"heatmap\",\"colorbar\":{\"outlinewidth\":0,\"ticks\":\"\"},\"colorscale\":[[0.0,\"#0d0887\"],[0.1111111111111111,\"#46039f\"],[0.2222222222222222,\"#7201a8\"],[0.3333333333333333,\"#9c179e\"],[0.4444444444444444,\"#bd3786\"],[0.5555555555555556,\"#d8576b\"],[0.6666666666666666,\"#ed7953\"],[0.7777777777777778,\"#fb9f3a\"],[0.8888888888888888,\"#fdca26\"],[1.0,\"#f0f921\"]]}],\"heatmapgl\":[{\"type\":\"heatmapgl\",\"colorbar\":{\"outlinewidth\":0,\"ticks\":\"\"},\"colorscale\":[[0.0,\"#0d0887\"],[0.1111111111111111,\"#46039f\"],[0.2222222222222222,\"#7201a8\"],[0.3333333333333333,\"#9c179e\"],[0.4444444444444444,\"#bd3786\"],[0.5555555555555556,\"#d8576b\"],[0.6666666666666666,\"#ed7953\"],[0.7777777777777778,\"#fb9f3a\"],[0.8888888888888888,\"#fdca26\"],[1.0,\"#f0f921\"]]}],\"contourcarpet\":[{\"type\":\"contourcarpet\",\"colorbar\":{\"outlinewidth\":0,\"ticks\":\"\"}}],\"contour\":[{\"type\":\"contour\",\"colorbar\":{\"outlinewidth\":0,\"ticks\":\"\"},\"colorscale\":[[0.0,\"#0d0887\"],[0.1111111111111111,\"#46039f\"],[0.2222222222222222,\"#7201a8\"],[0.3333333333333333,\"#9c179e\"],[0.4444444444444444,\"#bd3786\"],[0.5555555555555556,\"#d8576b\"],[0.6666666666666666,\"#ed7953\"],[0.7777777777777778,\"#fb9f3a\"],[0.8888888888888888,\"#fdca26\"],[1.0,\"#f0f921\"]]}],\"surface\":[{\"type\":\"surface\",\"colorbar\":{\"outlinewidth\":0,\"ticks\":\"\"},\"colorscale\":[[0.0,\"#0d0887\"],[0.1111111111111111,\"#46039f\"],[0.2222222222222222,\"#7201a8\"],[0.3333333333333333,\"#9c179e\"],[0.4444444444444444,\"#bd3786\"],[0.5555555555555556,\"#d8576b\"],[0.6666666666666666,\"#ed7953\"],[0.7777777777777778,\"#fb9f3a\"],[0.8888888888888888,\"#fdca26\"],[1.0,\"#f0f921\"]]}],\"mesh3d\":[{\"type\":\"mesh3d\",\"colorbar\":{\"outlinewidth\":0,\"ticks\":\"\"}}],\"scatter\":[{\"fillpattern\":{\"fillmode\":\"overlay\",\"size\":10,\"solidity\":0.2},\"type\":\"scatter\"}],\"parcoords\":[{\"type\":\"parcoords\",\"line\":{\"colorbar\":{\"outlinewidth\":0,\"ticks\":\"\"}}}],\"scatterpolargl\":[{\"type\":\"scatterpolargl\",\"marker\":{\"colorbar\":{\"outlinewidth\":0,\"ticks\":\"\"}}}],\"bar\":[{\"error_x\":{\"color\":\"#2a3f5f\"},\"error_y\":{\"color\":\"#2a3f5f\"},\"marker\":{\"line\":{\"color\":\"#E5ECF6\",\"width\":0.5},\"pattern\":{\"fillmode\":\"overlay\",\"size\":10,\"solidity\":0.2}},\"type\":\"bar\"}],\"scattergeo\":[{\"type\":\"scattergeo\",\"marker\":{\"colorbar\":{\"outlinewidth\":0,\"ticks\":\"\"}}}],\"scatterpolar\":[{\"type\":\"scatterpolar\",\"marker\":{\"colorbar\":{\"outlinewidth\":0,\"ticks\":\"\"}}}],\"histogram\":[{\"marker\":{\"pattern\":{\"fillmode\":\"overlay\",\"size\":10,\"solidity\":0.2}},\"type\":\"histogram\"}],\"scattergl\":[{\"type\":\"scattergl\",\"marker\":{\"colorbar\":{\"outlinewidth\":0,\"ticks\":\"\"}}}],\"scatter3d\":[{\"type\":\"scatter3d\",\"line\":{\"colorbar\":{\"outlinewidth\":0,\"ticks\":\"\"}},\"marker\":{\"colorbar\":{\"outlinewidth\":0,\"ticks\":\"\"}}}],\"scattermapbox\":[{\"type\":\"scattermapbox\",\"marker\":{\"colorbar\":{\"outlinewidth\":0,\"ticks\":\"\"}}}],\"scatterternary\":[{\"type\":\"scatterternary\",\"marker\":{\"colorbar\":{\"outlinewidth\":0,\"ticks\":\"\"}}}],\"scattercarpet\":[{\"type\":\"scattercarpet\",\"marker\":{\"colorbar\":{\"outlinewidth\":0,\"ticks\":\"\"}}}],\"carpet\":[{\"aaxis\":{\"endlinecolor\":\"#2a3f5f\",\"gridcolor\":\"white\",\"linecolor\":\"white\",\"minorgridcolor\":\"white\",\"startlinecolor\":\"#2a3f5f\"},\"baxis\":{\"endlinecolor\":\"#2a3f5f\",\"gridcolor\":\"white\",\"linecolor\":\"white\",\"minorgridcolor\":\"white\",\"startlinecolor\":\"#2a3f5f\"},\"type\":\"carpet\"}],\"table\":[{\"cells\":{\"fill\":{\"color\":\"#EBF0F8\"},\"line\":{\"color\":\"white\"}},\"header\":{\"fill\":{\"color\":\"#C8D4E3\"},\"line\":{\"color\":\"white\"}},\"type\":\"table\"}],\"barpolar\":[{\"marker\":{\"line\":{\"color\":\"#E5ECF6\",\"width\":0.5},\"pattern\":{\"fillmode\":\"overlay\",\"size\":10,\"solidity\":0.2}},\"type\":\"barpolar\"}],\"pie\":[{\"automargin\":true,\"type\":\"pie\"}]},\"layout\":{\"autotypenumbers\":\"strict\",\"colorway\":[\"#636efa\",\"#EF553B\",\"#00cc96\",\"#ab63fa\",\"#FFA15A\",\"#19d3f3\",\"#FF6692\",\"#B6E880\",\"#FF97FF\",\"#FECB52\"],\"font\":{\"color\":\"#2a3f5f\"},\"hovermode\":\"closest\",\"hoverlabel\":{\"align\":\"left\"},\"paper_bgcolor\":\"white\",\"plot_bgcolor\":\"#E5ECF6\",\"polar\":{\"bgcolor\":\"#E5ECF6\",\"angularaxis\":{\"gridcolor\":\"white\",\"linecolor\":\"white\",\"ticks\":\"\"},\"radialaxis\":{\"gridcolor\":\"white\",\"linecolor\":\"white\",\"ticks\":\"\"}},\"ternary\":{\"bgcolor\":\"#E5ECF6\",\"aaxis\":{\"gridcolor\":\"white\",\"linecolor\":\"white\",\"ticks\":\"\"},\"baxis\":{\"gridcolor\":\"white\",\"linecolor\":\"white\",\"ticks\":\"\"},\"caxis\":{\"gridcolor\":\"white\",\"linecolor\":\"white\",\"ticks\":\"\"}},\"coloraxis\":{\"colorbar\":{\"outlinewidth\":0,\"ticks\":\"\"}},\"colorscale\":{\"sequential\":[[0.0,\"#0d0887\"],[0.1111111111111111,\"#46039f\"],[0.2222222222222222,\"#7201a8\"],[0.3333333333333333,\"#9c179e\"],[0.4444444444444444,\"#bd3786\"],[0.5555555555555556,\"#d8576b\"],[0.6666666666666666,\"#ed7953\"],[0.7777777777777778,\"#fb9f3a\"],[0.8888888888888888,\"#fdca26\"],[1.0,\"#f0f921\"]],\"sequentialminus\":[[0.0,\"#0d0887\"],[0.1111111111111111,\"#46039f\"],[0.2222222222222222,\"#7201a8\"],[0.3333333333333333,\"#9c179e\"],[0.4444444444444444,\"#bd3786\"],[0.5555555555555556,\"#d8576b\"],[0.6666666666666666,\"#ed7953\"],[0.7777777777777778,\"#fb9f3a\"],[0.8888888888888888,\"#fdca26\"],[1.0,\"#f0f921\"]],\"diverging\":[[0,\"#8e0152\"],[0.1,\"#c51b7d\"],[0.2,\"#de77ae\"],[0.3,\"#f1b6da\"],[0.4,\"#fde0ef\"],[0.5,\"#f7f7f7\"],[0.6,\"#e6f5d0\"],[0.7,\"#b8e186\"],[0.8,\"#7fbc41\"],[0.9,\"#4d9221\"],[1,\"#276419\"]]},\"xaxis\":{\"gridcolor\":\"white\",\"linecolor\":\"white\",\"ticks\":\"\",\"title\":{\"standoff\":15},\"zerolinecolor\":\"white\",\"automargin\":true,\"zerolinewidth\":2},\"yaxis\":{\"gridcolor\":\"white\",\"linecolor\":\"white\",\"ticks\":\"\",\"title\":{\"standoff\":15},\"zerolinecolor\":\"white\",\"automargin\":true,\"zerolinewidth\":2},\"scene\":{\"xaxis\":{\"backgroundcolor\":\"#E5ECF6\",\"gridcolor\":\"white\",\"linecolor\":\"white\",\"showbackground\":true,\"ticks\":\"\",\"zerolinecolor\":\"white\",\"gridwidth\":2},\"yaxis\":{\"backgroundcolor\":\"#E5ECF6\",\"gridcolor\":\"white\",\"linecolor\":\"white\",\"showbackground\":true,\"ticks\":\"\",\"zerolinecolor\":\"white\",\"gridwidth\":2},\"zaxis\":{\"backgroundcolor\":\"#E5ECF6\",\"gridcolor\":\"white\",\"linecolor\":\"white\",\"showbackground\":true,\"ticks\":\"\",\"zerolinecolor\":\"white\",\"gridwidth\":2}},\"shapedefaults\":{\"line\":{\"color\":\"#2a3f5f\"}},\"annotationdefaults\":{\"arrowcolor\":\"#2a3f5f\",\"arrowhead\":0,\"arrowwidth\":1},\"geo\":{\"bgcolor\":\"white\",\"landcolor\":\"#E5ECF6\",\"subunitcolor\":\"white\",\"showland\":true,\"showlakes\":true,\"lakecolor\":\"white\"},\"title\":{\"x\":0.05},\"mapbox\":{\"style\":\"light\"}}},\"xaxis\":{\"anchor\":\"y\",\"domain\":[0.0,1.0],\"title\":{\"text\":\"danceability\"}},\"yaxis\":{\"anchor\":\"x\",\"domain\":[0.0,1.0],\"title\":{\"text\":\"avg of popularity\"}},\"legend\":{\"tracegroupgap\":0},\"title\":{\"text\":\"Average Popularity by Danceability\"},\"barmode\":\"relative\",\"bargap\":0.2},                        {\"responsive\": true}                    ).then(function(){\n",
       "                            \n",
       "var gd = document.getElementById('ed7ec95e-91ef-4d19-a218-5fdaae887ca8');\n",
       "var x = new MutationObserver(function (mutations, observer) {{\n",
       "        var display = window.getComputedStyle(gd).display;\n",
       "        if (!display || display === 'none') {{\n",
       "            console.log([gd, 'removed!']);\n",
       "            Plotly.purge(gd);\n",
       "            observer.disconnect();\n",
       "        }}\n",
       "}});\n",
       "\n",
       "// Listen for the removal of the full notebook cells\n",
       "var notebookContainer = gd.closest('#notebook-container');\n",
       "if (notebookContainer) {{\n",
       "    x.observe(notebookContainer, {childList: true});\n",
       "}}\n",
       "\n",
       "// Listen for the clearing of the current output cell\n",
       "var outputEl = gd.closest('.output');\n",
       "if (outputEl) {{\n",
       "    x.observe(outputEl, {childList: true});\n",
       "}}\n",
       "\n",
       "                        })                };                });            </script>        </div>"
      ]
     },
     "metadata": {},
     "output_type": "display_data"
    }
   ],
   "source": [
    "fig2 = px.histogram(data_frame=df, x='danceability', y='popularity', \n",
    "                    title='Average Popularity by Danceability',\n",
    "                    color_discrete_sequence=['pink'],\n",
    "                    histfunc='avg',\n",
    "                   nbins = 10)\n",
    "\n",
    "fig2.update_layout(bargap=0.2)\n",
    "fig2.show()"
   ]
  },
  {
   "cell_type": "code",
   "execution_count": 18,
   "id": "1b46173a",
   "metadata": {
    "execution": {
     "iopub.execute_input": "2024-03-03T08:59:22.031956Z",
     "iopub.status.busy": "2024-03-03T08:59:22.031558Z",
     "iopub.status.idle": "2024-03-03T08:59:22.090333Z",
     "shell.execute_reply": "2024-03-03T08:59:22.088384Z"
    },
    "papermill": {
     "duration": 0.070632,
     "end_time": "2024-03-03T08:59:22.092721",
     "exception": false,
     "start_time": "2024-03-03T08:59:22.022089",
     "status": "completed"
    },
    "tags": []
   },
   "outputs": [
    {
     "data": {
      "text/html": [
       "<div>                            <div id=\"5e6207af-3fbb-467b-8866-c5e609eb3cb8\" class=\"plotly-graph-div\" style=\"height:525px; width:100%;\"></div>            <script type=\"text/javascript\">                require([\"plotly\"], function(Plotly) {                    window.PLOTLYENV=window.PLOTLYENV || {};                                    if (document.getElementById(\"5e6207af-3fbb-467b-8866-c5e609eb3cb8\")) {                    Plotly.newPlot(                        \"5e6207af-3fbb-467b-8866-c5e609eb3cb8\",                        [{\"alignmentgroup\":\"True\",\"bingroup\":\"x\",\"histfunc\":\"avg\",\"hovertemplate\":\"speechiness=%{x}\\u003cbr\\u003eavg of popularity=%{y}\\u003cextra\\u003e\\u003c\\u002fextra\\u003e\",\"legendgroup\":\"\",\"marker\":{\"color\":\"lightblue\",\"pattern\":{\"shape\":\"\"}},\"name\":\"\",\"nbinsx\":10,\"offsetgroup\":\"\",\"orientation\":\"v\",\"showlegend\":false,\"x\":[0.157,0.0919,0.0386,0.123,0.0682,0.136,0.054,0.127,0.0497,0.0533,0.0346,0.0265,0.0563,0.0553,0.0736,0.0401,0.0282,0.0337,0.0282,0.031,0.0273,0.135,0.159,0.0731,0.0558,0.0533,0.0484,0.0356,0.0344,0.175,0.0342,0.0827,0.0571,0.0375,0.05,0.0382,0.0402,0.0281,0.196,0.0629,0.0569,0.239,0.0803,0.0305,0.519,0.0369,0.0354,0.115,0.0296,0.0732,0.0732,0.0317,0.0325,0.0535,0.0363,0.0276,0.0328,0.048,0.0419,0.0377,0.048,0.0419,0.0328,0.034,0.0619,0.0597,0.0434,0.0383,0.0383,0.0488,0.0863,0.0397,0.0275,0.0505,0.0363,0.0356,0.0356,0.0278,0.0363,0.0275,0.17,0.0322,0.035,0.0403,0.0507,0.0507,0.0401,0.0322,0.035,0.0312,0.0403,0.0641,0.0272,0.0447,0.0341,0.0274,0.0278,0.0486,0.0302,0.0397,0.067,0.0447,0.0308,0.0256,0.0277,0.0277,0.0288,0.0275,0.0264,0.0503,0.0289,0.0408,0.0256,0.0597,0.0365,0.0584,0.066,0.0667,0.0638,0.025,0.0492,0.0876,0.0327,0.0284,0.0347,0.0376,0.0492,0.0617,0.0353,0.0264,0.0484,0.0296,0.036,0.0293,0.0317,0.0729,0.0656,0.0445,0.12,0.0352,0.0394,0.0602,0.0394,0.144,0.0821,0.363,0.0286,0.0651,0.0821,0.0363,0.0285,0.0303,0.0286,0.0577,0.0358,0.0417,0.0264,0.031,0.05,0.0234,0.0287,0.0358,0.0755,0.0434,0.0515,0.194,0.0439,0.0329,0.039,0.0303,0.0231,0.0436,0.19,0.048,0.245,0.101,0.0425,0.0355,0.0628,0.0282,0.0409,0.0737,0.0326,0.0308,0.0323,0.104,0.0564,0.19,0.0269,0.0341,0.0289,0.0283,0.0382,0.0266,0.0251,0.0646,0.0292,0.0361,0.0324,0.0293,0.0537,0.0732,0.0732,0.0243,0.0294,0.0246,0.0379,0.0365,0.0275,0.048,0.0275,0.0419,0.0419,0.048,0.0328,0.0363,0.0363,0.0328,0.0294,0.0356,0.0322,0.035,0.035,0.0507,0.0403,0.0356,0.0322,0.0507,0.0403,0.0277,0.0277,0.0392,0.0383,0.0256,0.0492,0.0383,0.0256,0.0492,0.0821,0.0821,0.0286,0.0286,0.0394,0.0394,0.0341,0.0322,0.0768,0.0331,0.0282,0.0393,0.0318,0.0301,0.069,0.0496,0.0291,0.0651,0.0373,0.0298,0.0303,0.0269,0.0897,0.0363,0.0301,0.0311,0.0412,0.0244,0.0379,0.026,0.0423,0.0231,0.0234,0.0428,0.0418,0.0677,0.0524,0.0574,0.0504,0.0309,0.0774,0.0285,0.0605,0.0269,0.0302,0.0577,0.0334,0.0333],\"xaxis\":\"x\",\"y\":[99,93,92,88,88,87,87,87,86,86,86,86,85,85,84,84,83,83,83,83,83,83,83,82,82,82,82,82,82,81,81,81,81,80,80,80,80,80,79,79,79,79,79,79,78,78,78,78,78,77,77,77,77,77,76,76,75,75,75,75,75,75,75,75,75,75,75,74,74,74,74,74,74,74,74,74,74,74,74,74,74,73,73,73,73,73,73,73,73,73,73,73,73,73,73,73,73,73,73,73,72,72,72,72,72,72,72,72,72,72,72,72,72,72,71,71,71,71,71,71,71,71,71,71,71,71,71,71,71,71,71,71,71,70,70,70,70,70,70,70,70,70,70,70,70,70,70,70,70,70,70,70,70,70,70,70,70,70,70,69,69,69,69,69,69,69,69,69,69,69,69,69,69,68,68,68,68,68,68,68,68,68,68,68,67,67,67,67,66,66,66,65,62,61,61,61,61,61,61,60,60,59,59,59,59,59,59,58,56,56,56,56,56,56,55,55,55,55,54,54,54,54,54,54,54,54,54,54,54,53,53,53,52,52,52,52,52,52,51,51,51,51,50,50,50,50,49,49,49,49,48,48,48,48,48,48,48,47,44,44,44,44,44,42,42,42,41,41,40,39,39,39,38,37,37,37,37,37,36,36,36,36,35,34,34,34],\"yaxis\":\"y\",\"type\":\"histogram\"}],                        {\"template\":{\"data\":{\"histogram2dcontour\":[{\"type\":\"histogram2dcontour\",\"colorbar\":{\"outlinewidth\":0,\"ticks\":\"\"},\"colorscale\":[[0.0,\"#0d0887\"],[0.1111111111111111,\"#46039f\"],[0.2222222222222222,\"#7201a8\"],[0.3333333333333333,\"#9c179e\"],[0.4444444444444444,\"#bd3786\"],[0.5555555555555556,\"#d8576b\"],[0.6666666666666666,\"#ed7953\"],[0.7777777777777778,\"#fb9f3a\"],[0.8888888888888888,\"#fdca26\"],[1.0,\"#f0f921\"]]}],\"choropleth\":[{\"type\":\"choropleth\",\"colorbar\":{\"outlinewidth\":0,\"ticks\":\"\"}}],\"histogram2d\":[{\"type\":\"histogram2d\",\"colorbar\":{\"outlinewidth\":0,\"ticks\":\"\"},\"colorscale\":[[0.0,\"#0d0887\"],[0.1111111111111111,\"#46039f\"],[0.2222222222222222,\"#7201a8\"],[0.3333333333333333,\"#9c179e\"],[0.4444444444444444,\"#bd3786\"],[0.5555555555555556,\"#d8576b\"],[0.6666666666666666,\"#ed7953\"],[0.7777777777777778,\"#fb9f3a\"],[0.8888888888888888,\"#fdca26\"],[1.0,\"#f0f921\"]]}],\"heatmap\":[{\"type\":\"heatmap\",\"colorbar\":{\"outlinewidth\":0,\"ticks\":\"\"},\"colorscale\":[[0.0,\"#0d0887\"],[0.1111111111111111,\"#46039f\"],[0.2222222222222222,\"#7201a8\"],[0.3333333333333333,\"#9c179e\"],[0.4444444444444444,\"#bd3786\"],[0.5555555555555556,\"#d8576b\"],[0.6666666666666666,\"#ed7953\"],[0.7777777777777778,\"#fb9f3a\"],[0.8888888888888888,\"#fdca26\"],[1.0,\"#f0f921\"]]}],\"heatmapgl\":[{\"type\":\"heatmapgl\",\"colorbar\":{\"outlinewidth\":0,\"ticks\":\"\"},\"colorscale\":[[0.0,\"#0d0887\"],[0.1111111111111111,\"#46039f\"],[0.2222222222222222,\"#7201a8\"],[0.3333333333333333,\"#9c179e\"],[0.4444444444444444,\"#bd3786\"],[0.5555555555555556,\"#d8576b\"],[0.6666666666666666,\"#ed7953\"],[0.7777777777777778,\"#fb9f3a\"],[0.8888888888888888,\"#fdca26\"],[1.0,\"#f0f921\"]]}],\"contourcarpet\":[{\"type\":\"contourcarpet\",\"colorbar\":{\"outlinewidth\":0,\"ticks\":\"\"}}],\"contour\":[{\"type\":\"contour\",\"colorbar\":{\"outlinewidth\":0,\"ticks\":\"\"},\"colorscale\":[[0.0,\"#0d0887\"],[0.1111111111111111,\"#46039f\"],[0.2222222222222222,\"#7201a8\"],[0.3333333333333333,\"#9c179e\"],[0.4444444444444444,\"#bd3786\"],[0.5555555555555556,\"#d8576b\"],[0.6666666666666666,\"#ed7953\"],[0.7777777777777778,\"#fb9f3a\"],[0.8888888888888888,\"#fdca26\"],[1.0,\"#f0f921\"]]}],\"surface\":[{\"type\":\"surface\",\"colorbar\":{\"outlinewidth\":0,\"ticks\":\"\"},\"colorscale\":[[0.0,\"#0d0887\"],[0.1111111111111111,\"#46039f\"],[0.2222222222222222,\"#7201a8\"],[0.3333333333333333,\"#9c179e\"],[0.4444444444444444,\"#bd3786\"],[0.5555555555555556,\"#d8576b\"],[0.6666666666666666,\"#ed7953\"],[0.7777777777777778,\"#fb9f3a\"],[0.8888888888888888,\"#fdca26\"],[1.0,\"#f0f921\"]]}],\"mesh3d\":[{\"type\":\"mesh3d\",\"colorbar\":{\"outlinewidth\":0,\"ticks\":\"\"}}],\"scatter\":[{\"fillpattern\":{\"fillmode\":\"overlay\",\"size\":10,\"solidity\":0.2},\"type\":\"scatter\"}],\"parcoords\":[{\"type\":\"parcoords\",\"line\":{\"colorbar\":{\"outlinewidth\":0,\"ticks\":\"\"}}}],\"scatterpolargl\":[{\"type\":\"scatterpolargl\",\"marker\":{\"colorbar\":{\"outlinewidth\":0,\"ticks\":\"\"}}}],\"bar\":[{\"error_x\":{\"color\":\"#2a3f5f\"},\"error_y\":{\"color\":\"#2a3f5f\"},\"marker\":{\"line\":{\"color\":\"#E5ECF6\",\"width\":0.5},\"pattern\":{\"fillmode\":\"overlay\",\"size\":10,\"solidity\":0.2}},\"type\":\"bar\"}],\"scattergeo\":[{\"type\":\"scattergeo\",\"marker\":{\"colorbar\":{\"outlinewidth\":0,\"ticks\":\"\"}}}],\"scatterpolar\":[{\"type\":\"scatterpolar\",\"marker\":{\"colorbar\":{\"outlinewidth\":0,\"ticks\":\"\"}}}],\"histogram\":[{\"marker\":{\"pattern\":{\"fillmode\":\"overlay\",\"size\":10,\"solidity\":0.2}},\"type\":\"histogram\"}],\"scattergl\":[{\"type\":\"scattergl\",\"marker\":{\"colorbar\":{\"outlinewidth\":0,\"ticks\":\"\"}}}],\"scatter3d\":[{\"type\":\"scatter3d\",\"line\":{\"colorbar\":{\"outlinewidth\":0,\"ticks\":\"\"}},\"marker\":{\"colorbar\":{\"outlinewidth\":0,\"ticks\":\"\"}}}],\"scattermapbox\":[{\"type\":\"scattermapbox\",\"marker\":{\"colorbar\":{\"outlinewidth\":0,\"ticks\":\"\"}}}],\"scatterternary\":[{\"type\":\"scatterternary\",\"marker\":{\"colorbar\":{\"outlinewidth\":0,\"ticks\":\"\"}}}],\"scattercarpet\":[{\"type\":\"scattercarpet\",\"marker\":{\"colorbar\":{\"outlinewidth\":0,\"ticks\":\"\"}}}],\"carpet\":[{\"aaxis\":{\"endlinecolor\":\"#2a3f5f\",\"gridcolor\":\"white\",\"linecolor\":\"white\",\"minorgridcolor\":\"white\",\"startlinecolor\":\"#2a3f5f\"},\"baxis\":{\"endlinecolor\":\"#2a3f5f\",\"gridcolor\":\"white\",\"linecolor\":\"white\",\"minorgridcolor\":\"white\",\"startlinecolor\":\"#2a3f5f\"},\"type\":\"carpet\"}],\"table\":[{\"cells\":{\"fill\":{\"color\":\"#EBF0F8\"},\"line\":{\"color\":\"white\"}},\"header\":{\"fill\":{\"color\":\"#C8D4E3\"},\"line\":{\"color\":\"white\"}},\"type\":\"table\"}],\"barpolar\":[{\"marker\":{\"line\":{\"color\":\"#E5ECF6\",\"width\":0.5},\"pattern\":{\"fillmode\":\"overlay\",\"size\":10,\"solidity\":0.2}},\"type\":\"barpolar\"}],\"pie\":[{\"automargin\":true,\"type\":\"pie\"}]},\"layout\":{\"autotypenumbers\":\"strict\",\"colorway\":[\"#636efa\",\"#EF553B\",\"#00cc96\",\"#ab63fa\",\"#FFA15A\",\"#19d3f3\",\"#FF6692\",\"#B6E880\",\"#FF97FF\",\"#FECB52\"],\"font\":{\"color\":\"#2a3f5f\"},\"hovermode\":\"closest\",\"hoverlabel\":{\"align\":\"left\"},\"paper_bgcolor\":\"white\",\"plot_bgcolor\":\"#E5ECF6\",\"polar\":{\"bgcolor\":\"#E5ECF6\",\"angularaxis\":{\"gridcolor\":\"white\",\"linecolor\":\"white\",\"ticks\":\"\"},\"radialaxis\":{\"gridcolor\":\"white\",\"linecolor\":\"white\",\"ticks\":\"\"}},\"ternary\":{\"bgcolor\":\"#E5ECF6\",\"aaxis\":{\"gridcolor\":\"white\",\"linecolor\":\"white\",\"ticks\":\"\"},\"baxis\":{\"gridcolor\":\"white\",\"linecolor\":\"white\",\"ticks\":\"\"},\"caxis\":{\"gridcolor\":\"white\",\"linecolor\":\"white\",\"ticks\":\"\"}},\"coloraxis\":{\"colorbar\":{\"outlinewidth\":0,\"ticks\":\"\"}},\"colorscale\":{\"sequential\":[[0.0,\"#0d0887\"],[0.1111111111111111,\"#46039f\"],[0.2222222222222222,\"#7201a8\"],[0.3333333333333333,\"#9c179e\"],[0.4444444444444444,\"#bd3786\"],[0.5555555555555556,\"#d8576b\"],[0.6666666666666666,\"#ed7953\"],[0.7777777777777778,\"#fb9f3a\"],[0.8888888888888888,\"#fdca26\"],[1.0,\"#f0f921\"]],\"sequentialminus\":[[0.0,\"#0d0887\"],[0.1111111111111111,\"#46039f\"],[0.2222222222222222,\"#7201a8\"],[0.3333333333333333,\"#9c179e\"],[0.4444444444444444,\"#bd3786\"],[0.5555555555555556,\"#d8576b\"],[0.6666666666666666,\"#ed7953\"],[0.7777777777777778,\"#fb9f3a\"],[0.8888888888888888,\"#fdca26\"],[1.0,\"#f0f921\"]],\"diverging\":[[0,\"#8e0152\"],[0.1,\"#c51b7d\"],[0.2,\"#de77ae\"],[0.3,\"#f1b6da\"],[0.4,\"#fde0ef\"],[0.5,\"#f7f7f7\"],[0.6,\"#e6f5d0\"],[0.7,\"#b8e186\"],[0.8,\"#7fbc41\"],[0.9,\"#4d9221\"],[1,\"#276419\"]]},\"xaxis\":{\"gridcolor\":\"white\",\"linecolor\":\"white\",\"ticks\":\"\",\"title\":{\"standoff\":15},\"zerolinecolor\":\"white\",\"automargin\":true,\"zerolinewidth\":2},\"yaxis\":{\"gridcolor\":\"white\",\"linecolor\":\"white\",\"ticks\":\"\",\"title\":{\"standoff\":15},\"zerolinecolor\":\"white\",\"automargin\":true,\"zerolinewidth\":2},\"scene\":{\"xaxis\":{\"backgroundcolor\":\"#E5ECF6\",\"gridcolor\":\"white\",\"linecolor\":\"white\",\"showbackground\":true,\"ticks\":\"\",\"zerolinecolor\":\"white\",\"gridwidth\":2},\"yaxis\":{\"backgroundcolor\":\"#E5ECF6\",\"gridcolor\":\"white\",\"linecolor\":\"white\",\"showbackground\":true,\"ticks\":\"\",\"zerolinecolor\":\"white\",\"gridwidth\":2},\"zaxis\":{\"backgroundcolor\":\"#E5ECF6\",\"gridcolor\":\"white\",\"linecolor\":\"white\",\"showbackground\":true,\"ticks\":\"\",\"zerolinecolor\":\"white\",\"gridwidth\":2}},\"shapedefaults\":{\"line\":{\"color\":\"#2a3f5f\"}},\"annotationdefaults\":{\"arrowcolor\":\"#2a3f5f\",\"arrowhead\":0,\"arrowwidth\":1},\"geo\":{\"bgcolor\":\"white\",\"landcolor\":\"#E5ECF6\",\"subunitcolor\":\"white\",\"showland\":true,\"showlakes\":true,\"lakecolor\":\"white\"},\"title\":{\"x\":0.05},\"mapbox\":{\"style\":\"light\"}}},\"xaxis\":{\"anchor\":\"y\",\"domain\":[0.0,1.0],\"title\":{\"text\":\"speechiness\"}},\"yaxis\":{\"anchor\":\"x\",\"domain\":[0.0,1.0],\"title\":{\"text\":\"avg of popularity\"}},\"legend\":{\"tracegroupgap\":0},\"title\":{\"text\":\"Average Popularity by Speechiness\"},\"barmode\":\"relative\",\"bargap\":0.2},                        {\"responsive\": true}                    ).then(function(){\n",
       "                            \n",
       "var gd = document.getElementById('5e6207af-3fbb-467b-8866-c5e609eb3cb8');\n",
       "var x = new MutationObserver(function (mutations, observer) {{\n",
       "        var display = window.getComputedStyle(gd).display;\n",
       "        if (!display || display === 'none') {{\n",
       "            console.log([gd, 'removed!']);\n",
       "            Plotly.purge(gd);\n",
       "            observer.disconnect();\n",
       "        }}\n",
       "}});\n",
       "\n",
       "// Listen for the removal of the full notebook cells\n",
       "var notebookContainer = gd.closest('#notebook-container');\n",
       "if (notebookContainer) {{\n",
       "    x.observe(notebookContainer, {childList: true});\n",
       "}}\n",
       "\n",
       "// Listen for the clearing of the current output cell\n",
       "var outputEl = gd.closest('.output');\n",
       "if (outputEl) {{\n",
       "    x.observe(outputEl, {childList: true});\n",
       "}}\n",
       "\n",
       "                        })                };                });            </script>        </div>"
      ]
     },
     "metadata": {},
     "output_type": "display_data"
    }
   ],
   "source": [
    "fig3 = px.histogram(data_frame=df, x='speechiness', y='popularity', \n",
    "                    title='Average Popularity by Speechiness',\n",
    "                    color_discrete_sequence=['lightblue'],\n",
    "                    histfunc='avg',\n",
    "                   nbins=10)\n",
    "\n",
    "fig3.update_layout(bargap=0.2)\n",
    "fig3.show()"
   ]
  },
  {
   "cell_type": "code",
   "execution_count": 19,
   "id": "3ee37417",
   "metadata": {
    "execution": {
     "iopub.execute_input": "2024-03-03T08:59:22.112551Z",
     "iopub.status.busy": "2024-03-03T08:59:22.112160Z",
     "iopub.status.idle": "2024-03-03T08:59:22.169183Z",
     "shell.execute_reply": "2024-03-03T08:59:22.167780Z"
    },
    "papermill": {
     "duration": 0.069348,
     "end_time": "2024-03-03T08:59:22.171326",
     "exception": false,
     "start_time": "2024-03-03T08:59:22.101978",
     "status": "completed"
    },
    "tags": []
   },
   "outputs": [
    {
     "data": {
      "text/html": [
       "<div>                            <div id=\"6be19a6d-d207-476b-9c95-f807772fcd08\" class=\"plotly-graph-div\" style=\"height:525px; width:100%;\"></div>            <script type=\"text/javascript\">                require([\"plotly\"], function(Plotly) {                    window.PLOTLYENV=window.PLOTLYENV || {};                                    if (document.getElementById(\"6be19a6d-d207-476b-9c95-f807772fcd08\")) {                    Plotly.newPlot(                        \"6be19a6d-d207-476b-9c95-f807772fcd08\",                        [{\"alignmentgroup\":\"True\",\"bingroup\":\"x\",\"histfunc\":\"avg\",\"hovertemplate\":\"acousticness=%{x}\\u003cbr\\u003eavg of popularity=%{y}\\u003cextra\\u003e\\u003c\\u002fextra\\u003e\",\"legendgroup\":\"\",\"marker\":{\"color\":\"green\",\"pattern\":{\"shape\":\"\"}},\"name\":\"\",\"nbinsx\":10,\"offsetgroup\":\"\",\"orientation\":\"v\",\"showlegend\":false,\"x\":[0.117,0.492,0.106,0.204,0.216,0.0527,0.0767,0.00465,0.0129,0.0586,0.0623,0.012,0.808,0.00929,0.028,0.12,0.769,0.0586,0.0122,0.13,0.00621,0.0713,0.0679,0.186,0.00845,0.0329,0.0033,0.00444,0.13,0.0317,0.0129,0.781,0.033,0.00108,0.0246,0.00882,0.0122,0.000443,0.0604,0.454,0.00889,0.736,0.000886,0.0251,0.298,0.311,0.921,0.0156,0.0236,0.122,0.122,0.0171,0.248,0.00192,0.271,0.447,0.814,0.75,0.525,0.92,0.75,0.525,0.814,0.16,0.00667,0.0164,0.362,0.842,0.842,0.878,0.309,0.801,0.761,0.159,0.553,0.862,0.862,0.0399,0.553,0.761,0.833,0.312,0.686,0.481,0.859,0.859,0.971,0.312,0.686,0.735,0.481,0.907,0.116,0.0231,0.066,0.075,0.449,0.369,0.0158,0.000421,0.0885,0.000537,0.937,0.589,0.888,0.888,0.0344,0.622,0.418,0.000328,0.851,0.83,0.589,0.423,0.0609,0.115,0.0648,0.705,0.0288,0.0848,0.67,0.236,0.00942,0.101,0.768,0.87,0.67,0.819,0.855,0.0167,0.876,0.106,0.207,0.25,0.000656,0.0121,0.0436,0.0999,0.435,0.203,0.964,0.00675,0.964,0.545,0.916,0.157,0.727,0.0782,0.916,0.114,0.0538,0.111,0.727,0.0279,0.00324,0.66,0.696,0.0494,0.066,0.313,0.156,0.0474,0.61,0.00976,0.00196,0.0362,0.00354,0.0181,0.705,0.0031,0.288,0.804,0.205,0.967,0.835,0.116,0.837,0.316,0.0222,0.488,0.0135,0.497,0.00955,0.819,0.173,0.726,0.663,0.318,0.0406,0.000191,0.0103,0.157,0.88,0.217,0.575,0.00452,0.0177,0.898,0.051,0.00491,0.0402,0.122,0.122,0.637,0.525,0.0868,0.743,0.00349,0.761,0.75,0.761,0.525,0.525,0.75,0.814,0.553,0.553,0.814,0.155,0.862,0.312,0.686,0.686,0.859,0.481,0.862,0.312,0.859,0.481,0.888,0.888,0.806,0.842,0.589,0.67,0.842,0.589,0.67,0.916,0.916,0.727,0.727,0.964,0.964,0.794,0.713,0.00306,0.0747,0.0053,0.00917,0.0636,0.0157,0.154,0.0245,0.205,0.00048,0.00233,0.715,0.111,0.596,0.0692,0.114,0.00302,0.659,0.00476,0.0448,0.00254,0.814,0.0779,0.288,0.313,0.451,0.856,0.399,0.266,0.664,0.00364,0.041,0.0162,0.639,0.0648,0.0717,0.824,0.156,0.101,0.000184],\"xaxis\":\"x\",\"y\":[99,93,92,88,88,87,87,87,86,86,86,86,85,85,84,84,83,83,83,83,83,83,83,82,82,82,82,82,82,81,81,81,81,80,80,80,80,80,79,79,79,79,79,79,78,78,78,78,78,77,77,77,77,77,76,76,75,75,75,75,75,75,75,75,75,75,75,74,74,74,74,74,74,74,74,74,74,74,74,74,74,73,73,73,73,73,73,73,73,73,73,73,73,73,73,73,73,73,73,73,72,72,72,72,72,72,72,72,72,72,72,72,72,72,71,71,71,71,71,71,71,71,71,71,71,71,71,71,71,71,71,71,71,70,70,70,70,70,70,70,70,70,70,70,70,70,70,70,70,70,70,70,70,70,70,70,70,70,70,69,69,69,69,69,69,69,69,69,69,69,69,69,69,68,68,68,68,68,68,68,68,68,68,68,67,67,67,67,66,66,66,65,62,61,61,61,61,61,61,60,60,59,59,59,59,59,59,58,56,56,56,56,56,56,55,55,55,55,54,54,54,54,54,54,54,54,54,54,54,53,53,53,52,52,52,52,52,52,51,51,51,51,50,50,50,50,49,49,49,49,48,48,48,48,48,48,48,47,44,44,44,44,44,42,42,42,41,41,40,39,39,39,38,37,37,37,37,37,36,36,36,36,35,34,34,34],\"yaxis\":\"y\",\"type\":\"histogram\"}],                        {\"template\":{\"data\":{\"histogram2dcontour\":[{\"type\":\"histogram2dcontour\",\"colorbar\":{\"outlinewidth\":0,\"ticks\":\"\"},\"colorscale\":[[0.0,\"#0d0887\"],[0.1111111111111111,\"#46039f\"],[0.2222222222222222,\"#7201a8\"],[0.3333333333333333,\"#9c179e\"],[0.4444444444444444,\"#bd3786\"],[0.5555555555555556,\"#d8576b\"],[0.6666666666666666,\"#ed7953\"],[0.7777777777777778,\"#fb9f3a\"],[0.8888888888888888,\"#fdca26\"],[1.0,\"#f0f921\"]]}],\"choropleth\":[{\"type\":\"choropleth\",\"colorbar\":{\"outlinewidth\":0,\"ticks\":\"\"}}],\"histogram2d\":[{\"type\":\"histogram2d\",\"colorbar\":{\"outlinewidth\":0,\"ticks\":\"\"},\"colorscale\":[[0.0,\"#0d0887\"],[0.1111111111111111,\"#46039f\"],[0.2222222222222222,\"#7201a8\"],[0.3333333333333333,\"#9c179e\"],[0.4444444444444444,\"#bd3786\"],[0.5555555555555556,\"#d8576b\"],[0.6666666666666666,\"#ed7953\"],[0.7777777777777778,\"#fb9f3a\"],[0.8888888888888888,\"#fdca26\"],[1.0,\"#f0f921\"]]}],\"heatmap\":[{\"type\":\"heatmap\",\"colorbar\":{\"outlinewidth\":0,\"ticks\":\"\"},\"colorscale\":[[0.0,\"#0d0887\"],[0.1111111111111111,\"#46039f\"],[0.2222222222222222,\"#7201a8\"],[0.3333333333333333,\"#9c179e\"],[0.4444444444444444,\"#bd3786\"],[0.5555555555555556,\"#d8576b\"],[0.6666666666666666,\"#ed7953\"],[0.7777777777777778,\"#fb9f3a\"],[0.8888888888888888,\"#fdca26\"],[1.0,\"#f0f921\"]]}],\"heatmapgl\":[{\"type\":\"heatmapgl\",\"colorbar\":{\"outlinewidth\":0,\"ticks\":\"\"},\"colorscale\":[[0.0,\"#0d0887\"],[0.1111111111111111,\"#46039f\"],[0.2222222222222222,\"#7201a8\"],[0.3333333333333333,\"#9c179e\"],[0.4444444444444444,\"#bd3786\"],[0.5555555555555556,\"#d8576b\"],[0.6666666666666666,\"#ed7953\"],[0.7777777777777778,\"#fb9f3a\"],[0.8888888888888888,\"#fdca26\"],[1.0,\"#f0f921\"]]}],\"contourcarpet\":[{\"type\":\"contourcarpet\",\"colorbar\":{\"outlinewidth\":0,\"ticks\":\"\"}}],\"contour\":[{\"type\":\"contour\",\"colorbar\":{\"outlinewidth\":0,\"ticks\":\"\"},\"colorscale\":[[0.0,\"#0d0887\"],[0.1111111111111111,\"#46039f\"],[0.2222222222222222,\"#7201a8\"],[0.3333333333333333,\"#9c179e\"],[0.4444444444444444,\"#bd3786\"],[0.5555555555555556,\"#d8576b\"],[0.6666666666666666,\"#ed7953\"],[0.7777777777777778,\"#fb9f3a\"],[0.8888888888888888,\"#fdca26\"],[1.0,\"#f0f921\"]]}],\"surface\":[{\"type\":\"surface\",\"colorbar\":{\"outlinewidth\":0,\"ticks\":\"\"},\"colorscale\":[[0.0,\"#0d0887\"],[0.1111111111111111,\"#46039f\"],[0.2222222222222222,\"#7201a8\"],[0.3333333333333333,\"#9c179e\"],[0.4444444444444444,\"#bd3786\"],[0.5555555555555556,\"#d8576b\"],[0.6666666666666666,\"#ed7953\"],[0.7777777777777778,\"#fb9f3a\"],[0.8888888888888888,\"#fdca26\"],[1.0,\"#f0f921\"]]}],\"mesh3d\":[{\"type\":\"mesh3d\",\"colorbar\":{\"outlinewidth\":0,\"ticks\":\"\"}}],\"scatter\":[{\"fillpattern\":{\"fillmode\":\"overlay\",\"size\":10,\"solidity\":0.2},\"type\":\"scatter\"}],\"parcoords\":[{\"type\":\"parcoords\",\"line\":{\"colorbar\":{\"outlinewidth\":0,\"ticks\":\"\"}}}],\"scatterpolargl\":[{\"type\":\"scatterpolargl\",\"marker\":{\"colorbar\":{\"outlinewidth\":0,\"ticks\":\"\"}}}],\"bar\":[{\"error_x\":{\"color\":\"#2a3f5f\"},\"error_y\":{\"color\":\"#2a3f5f\"},\"marker\":{\"line\":{\"color\":\"#E5ECF6\",\"width\":0.5},\"pattern\":{\"fillmode\":\"overlay\",\"size\":10,\"solidity\":0.2}},\"type\":\"bar\"}],\"scattergeo\":[{\"type\":\"scattergeo\",\"marker\":{\"colorbar\":{\"outlinewidth\":0,\"ticks\":\"\"}}}],\"scatterpolar\":[{\"type\":\"scatterpolar\",\"marker\":{\"colorbar\":{\"outlinewidth\":0,\"ticks\":\"\"}}}],\"histogram\":[{\"marker\":{\"pattern\":{\"fillmode\":\"overlay\",\"size\":10,\"solidity\":0.2}},\"type\":\"histogram\"}],\"scattergl\":[{\"type\":\"scattergl\",\"marker\":{\"colorbar\":{\"outlinewidth\":0,\"ticks\":\"\"}}}],\"scatter3d\":[{\"type\":\"scatter3d\",\"line\":{\"colorbar\":{\"outlinewidth\":0,\"ticks\":\"\"}},\"marker\":{\"colorbar\":{\"outlinewidth\":0,\"ticks\":\"\"}}}],\"scattermapbox\":[{\"type\":\"scattermapbox\",\"marker\":{\"colorbar\":{\"outlinewidth\":0,\"ticks\":\"\"}}}],\"scatterternary\":[{\"type\":\"scatterternary\",\"marker\":{\"colorbar\":{\"outlinewidth\":0,\"ticks\":\"\"}}}],\"scattercarpet\":[{\"type\":\"scattercarpet\",\"marker\":{\"colorbar\":{\"outlinewidth\":0,\"ticks\":\"\"}}}],\"carpet\":[{\"aaxis\":{\"endlinecolor\":\"#2a3f5f\",\"gridcolor\":\"white\",\"linecolor\":\"white\",\"minorgridcolor\":\"white\",\"startlinecolor\":\"#2a3f5f\"},\"baxis\":{\"endlinecolor\":\"#2a3f5f\",\"gridcolor\":\"white\",\"linecolor\":\"white\",\"minorgridcolor\":\"white\",\"startlinecolor\":\"#2a3f5f\"},\"type\":\"carpet\"}],\"table\":[{\"cells\":{\"fill\":{\"color\":\"#EBF0F8\"},\"line\":{\"color\":\"white\"}},\"header\":{\"fill\":{\"color\":\"#C8D4E3\"},\"line\":{\"color\":\"white\"}},\"type\":\"table\"}],\"barpolar\":[{\"marker\":{\"line\":{\"color\":\"#E5ECF6\",\"width\":0.5},\"pattern\":{\"fillmode\":\"overlay\",\"size\":10,\"solidity\":0.2}},\"type\":\"barpolar\"}],\"pie\":[{\"automargin\":true,\"type\":\"pie\"}]},\"layout\":{\"autotypenumbers\":\"strict\",\"colorway\":[\"#636efa\",\"#EF553B\",\"#00cc96\",\"#ab63fa\",\"#FFA15A\",\"#19d3f3\",\"#FF6692\",\"#B6E880\",\"#FF97FF\",\"#FECB52\"],\"font\":{\"color\":\"#2a3f5f\"},\"hovermode\":\"closest\",\"hoverlabel\":{\"align\":\"left\"},\"paper_bgcolor\":\"white\",\"plot_bgcolor\":\"#E5ECF6\",\"polar\":{\"bgcolor\":\"#E5ECF6\",\"angularaxis\":{\"gridcolor\":\"white\",\"linecolor\":\"white\",\"ticks\":\"\"},\"radialaxis\":{\"gridcolor\":\"white\",\"linecolor\":\"white\",\"ticks\":\"\"}},\"ternary\":{\"bgcolor\":\"#E5ECF6\",\"aaxis\":{\"gridcolor\":\"white\",\"linecolor\":\"white\",\"ticks\":\"\"},\"baxis\":{\"gridcolor\":\"white\",\"linecolor\":\"white\",\"ticks\":\"\"},\"caxis\":{\"gridcolor\":\"white\",\"linecolor\":\"white\",\"ticks\":\"\"}},\"coloraxis\":{\"colorbar\":{\"outlinewidth\":0,\"ticks\":\"\"}},\"colorscale\":{\"sequential\":[[0.0,\"#0d0887\"],[0.1111111111111111,\"#46039f\"],[0.2222222222222222,\"#7201a8\"],[0.3333333333333333,\"#9c179e\"],[0.4444444444444444,\"#bd3786\"],[0.5555555555555556,\"#d8576b\"],[0.6666666666666666,\"#ed7953\"],[0.7777777777777778,\"#fb9f3a\"],[0.8888888888888888,\"#fdca26\"],[1.0,\"#f0f921\"]],\"sequentialminus\":[[0.0,\"#0d0887\"],[0.1111111111111111,\"#46039f\"],[0.2222222222222222,\"#7201a8\"],[0.3333333333333333,\"#9c179e\"],[0.4444444444444444,\"#bd3786\"],[0.5555555555555556,\"#d8576b\"],[0.6666666666666666,\"#ed7953\"],[0.7777777777777778,\"#fb9f3a\"],[0.8888888888888888,\"#fdca26\"],[1.0,\"#f0f921\"]],\"diverging\":[[0,\"#8e0152\"],[0.1,\"#c51b7d\"],[0.2,\"#de77ae\"],[0.3,\"#f1b6da\"],[0.4,\"#fde0ef\"],[0.5,\"#f7f7f7\"],[0.6,\"#e6f5d0\"],[0.7,\"#b8e186\"],[0.8,\"#7fbc41\"],[0.9,\"#4d9221\"],[1,\"#276419\"]]},\"xaxis\":{\"gridcolor\":\"white\",\"linecolor\":\"white\",\"ticks\":\"\",\"title\":{\"standoff\":15},\"zerolinecolor\":\"white\",\"automargin\":true,\"zerolinewidth\":2},\"yaxis\":{\"gridcolor\":\"white\",\"linecolor\":\"white\",\"ticks\":\"\",\"title\":{\"standoff\":15},\"zerolinecolor\":\"white\",\"automargin\":true,\"zerolinewidth\":2},\"scene\":{\"xaxis\":{\"backgroundcolor\":\"#E5ECF6\",\"gridcolor\":\"white\",\"linecolor\":\"white\",\"showbackground\":true,\"ticks\":\"\",\"zerolinecolor\":\"white\",\"gridwidth\":2},\"yaxis\":{\"backgroundcolor\":\"#E5ECF6\",\"gridcolor\":\"white\",\"linecolor\":\"white\",\"showbackground\":true,\"ticks\":\"\",\"zerolinecolor\":\"white\",\"gridwidth\":2},\"zaxis\":{\"backgroundcolor\":\"#E5ECF6\",\"gridcolor\":\"white\",\"linecolor\":\"white\",\"showbackground\":true,\"ticks\":\"\",\"zerolinecolor\":\"white\",\"gridwidth\":2}},\"shapedefaults\":{\"line\":{\"color\":\"#2a3f5f\"}},\"annotationdefaults\":{\"arrowcolor\":\"#2a3f5f\",\"arrowhead\":0,\"arrowwidth\":1},\"geo\":{\"bgcolor\":\"white\",\"landcolor\":\"#E5ECF6\",\"subunitcolor\":\"white\",\"showland\":true,\"showlakes\":true,\"lakecolor\":\"white\"},\"title\":{\"x\":0.05},\"mapbox\":{\"style\":\"light\"}}},\"xaxis\":{\"anchor\":\"y\",\"domain\":[0.0,1.0],\"title\":{\"text\":\"acousticness\"}},\"yaxis\":{\"anchor\":\"x\",\"domain\":[0.0,1.0],\"title\":{\"text\":\"avg of popularity\"}},\"legend\":{\"tracegroupgap\":0},\"title\":{\"text\":\"Average Popularity by Acousticness\"},\"barmode\":\"relative\",\"bargap\":0.2},                        {\"responsive\": true}                    ).then(function(){\n",
       "                            \n",
       "var gd = document.getElementById('6be19a6d-d207-476b-9c95-f807772fcd08');\n",
       "var x = new MutationObserver(function (mutations, observer) {{\n",
       "        var display = window.getComputedStyle(gd).display;\n",
       "        if (!display || display === 'none') {{\n",
       "            console.log([gd, 'removed!']);\n",
       "            Plotly.purge(gd);\n",
       "            observer.disconnect();\n",
       "        }}\n",
       "}});\n",
       "\n",
       "// Listen for the removal of the full notebook cells\n",
       "var notebookContainer = gd.closest('#notebook-container');\n",
       "if (notebookContainer) {{\n",
       "    x.observe(notebookContainer, {childList: true});\n",
       "}}\n",
       "\n",
       "// Listen for the clearing of the current output cell\n",
       "var outputEl = gd.closest('.output');\n",
       "if (outputEl) {{\n",
       "    x.observe(outputEl, {childList: true});\n",
       "}}\n",
       "\n",
       "                        })                };                });            </script>        </div>"
      ]
     },
     "metadata": {},
     "output_type": "display_data"
    }
   ],
   "source": [
    "fig4 = px.histogram(data_frame=df, x='acousticness', y='popularity', \n",
    "                    title='Average Popularity by Acousticness',\n",
    "                    color_discrete_sequence=['green'],\n",
    "                    histfunc='avg',\n",
    "                   nbins=10)\n",
    "\n",
    "fig4.update_layout(bargap=0.2)\n",
    "fig4.show()"
   ]
  },
  {
   "cell_type": "code",
   "execution_count": 20,
   "id": "dba81e1c",
   "metadata": {
    "execution": {
     "iopub.execute_input": "2024-03-03T08:59:22.191265Z",
     "iopub.status.busy": "2024-03-03T08:59:22.190842Z",
     "iopub.status.idle": "2024-03-03T08:59:22.244936Z",
     "shell.execute_reply": "2024-03-03T08:59:22.243287Z"
    },
    "papermill": {
     "duration": 0.066394,
     "end_time": "2024-03-03T08:59:22.246901",
     "exception": false,
     "start_time": "2024-03-03T08:59:22.180507",
     "status": "completed"
    },
    "tags": []
   },
   "outputs": [
    {
     "data": {
      "text/html": [
       "<div>                            <div id=\"20d25aba-c0c2-4a64-b33d-2c67548bced7\" class=\"plotly-graph-div\" style=\"height:525px; width:100%;\"></div>            <script type=\"text/javascript\">                require([\"plotly\"], function(Plotly) {                    window.PLOTLYENV=window.PLOTLYENV || {};                                    if (document.getElementById(\"20d25aba-c0c2-4a64-b33d-2c67548bced7\")) {                    Plotly.newPlot(                        \"20d25aba-c0c2-4a64-b33d-2c67548bced7\",                        [{\"alignmentgroup\":\"True\",\"bingroup\":\"x\",\"histfunc\":\"avg\",\"hovertemplate\":\"liveness=%{x}\\u003cbr\\u003eavg of popularity=%{y}\\u003cextra\\u003e\\u003c\\u002fextra\\u003e\",\"legendgroup\":\"\",\"marker\":{\"color\":\"purple\",\"pattern\":{\"shape\":\"\"}},\"name\":\"\",\"nbinsx\":10,\"offsetgroup\":\"\",\"orientation\":\"v\",\"showlegend\":false,\"x\":[0.105,0.118,0.0607,0.126,0.0911,0.197,0.0901,0.0888,0.0742,0.14,0.0885,0.149,0.0772,0.0637,0.138,0.0663,0.117,0.0608,0.333,0.0845,0.117,0.213,0.0696,0.34,0.108,0.169,0.108,0.171,0.114,0.0732,0.0576,0.1,0.118,0.0761,0.133,0.0391,0.189,0.0753,0.138,0.319,0.0715,0.111,0.191,0.131,0.0812,0.192,0.13,0.382,0.163,0.13,0.13,0.234,0.143,0.054,0.223,0.101,0.0679,0.108,0.26,0.113,0.108,0.26,0.0679,0.0874,0.221,0.144,0.0668,0.0948,0.0948,0.0797,0.0608,0.09,0.11,0.138,0.0931,0.108,0.108,0.0977,0.0931,0.11,0.145,0.147,0.0604,0.106,0.105,0.105,0.171,0.147,0.0604,0.105,0.106,0.123,0.32,0.143,0.127,0.132,0.111,0.177,0.0822,0.0899,0.168,0.385,0.111,0.0989,0.0902,0.0902,0.13,0.133,0.103,0.114,0.198,0.121,0.0989,0.126,0.089,0.147,0.0883,0.114,0.109,0.0768,0.116,0.133,0.367,0.152,0.123,0.114,0.116,0.142,0.0921,0.113,0.115,0.0934,0.105,0.0981,0.131,0.359,0.112,0.115,0.123,0.0851,0.135,0.0824,0.135,0.0871,0.0909,0.118,0.0867,0.611,0.0909,0.321,0.123,0.329,0.0867,0.167,0.18,0.0972,0.129,0.107,0.0608,0.138,0.228,0.0897,0.112,0.209,0.0939,0.305,0.0687,0.169,0.116,0.108,0.119,0.123,0.262,0.115,0.134,0.136,0.116,0.0673,0.333,0.159,0.296,0.119,0.101,0.137,0.0962,0.0878,0.108,0.11,0.102,0.181,0.196,0.343,0.107,0.123,0.121,0.103,0.182,0.102,0.32,0.24,0.0863,0.13,0.13,0.147,0.0841,0.137,0.0574,0.128,0.11,0.108,0.11,0.26,0.26,0.108,0.0679,0.0931,0.0931,0.0679,0.795,0.108,0.147,0.0604,0.0604,0.105,0.106,0.108,0.147,0.105,0.106,0.0902,0.0902,0.76,0.0948,0.0989,0.116,0.0948,0.0989,0.116,0.0909,0.0909,0.0867,0.0867,0.135,0.135,0.497,0.837,0.931,0.563,0.865,0.918,0.83,0.884,0.693,0.889,0.701,0.815,0.554,0.867,0.329,0.0598,0.106,0.321,0.187,0.131,0.0357,0.128,0.0473,0.145,0.0911,0.119,0.138,0.223,0.0927,0.0884,0.419,0.106,0.0918,0.16,0.0965,0.158,0.0612,0.138,0.136,0.111,0.14,0.0879],\"xaxis\":\"x\",\"y\":[99,93,92,88,88,87,87,87,86,86,86,86,85,85,84,84,83,83,83,83,83,83,83,82,82,82,82,82,82,81,81,81,81,80,80,80,80,80,79,79,79,79,79,79,78,78,78,78,78,77,77,77,77,77,76,76,75,75,75,75,75,75,75,75,75,75,75,74,74,74,74,74,74,74,74,74,74,74,74,74,74,73,73,73,73,73,73,73,73,73,73,73,73,73,73,73,73,73,73,73,72,72,72,72,72,72,72,72,72,72,72,72,72,72,71,71,71,71,71,71,71,71,71,71,71,71,71,71,71,71,71,71,71,70,70,70,70,70,70,70,70,70,70,70,70,70,70,70,70,70,70,70,70,70,70,70,70,70,70,69,69,69,69,69,69,69,69,69,69,69,69,69,69,68,68,68,68,68,68,68,68,68,68,68,67,67,67,67,66,66,66,65,62,61,61,61,61,61,61,60,60,59,59,59,59,59,59,58,56,56,56,56,56,56,55,55,55,55,54,54,54,54,54,54,54,54,54,54,54,53,53,53,52,52,52,52,52,52,51,51,51,51,50,50,50,50,49,49,49,49,48,48,48,48,48,48,48,47,44,44,44,44,44,42,42,42,41,41,40,39,39,39,38,37,37,37,37,37,36,36,36,36,35,34,34,34],\"yaxis\":\"y\",\"type\":\"histogram\"}],                        {\"template\":{\"data\":{\"histogram2dcontour\":[{\"type\":\"histogram2dcontour\",\"colorbar\":{\"outlinewidth\":0,\"ticks\":\"\"},\"colorscale\":[[0.0,\"#0d0887\"],[0.1111111111111111,\"#46039f\"],[0.2222222222222222,\"#7201a8\"],[0.3333333333333333,\"#9c179e\"],[0.4444444444444444,\"#bd3786\"],[0.5555555555555556,\"#d8576b\"],[0.6666666666666666,\"#ed7953\"],[0.7777777777777778,\"#fb9f3a\"],[0.8888888888888888,\"#fdca26\"],[1.0,\"#f0f921\"]]}],\"choropleth\":[{\"type\":\"choropleth\",\"colorbar\":{\"outlinewidth\":0,\"ticks\":\"\"}}],\"histogram2d\":[{\"type\":\"histogram2d\",\"colorbar\":{\"outlinewidth\":0,\"ticks\":\"\"},\"colorscale\":[[0.0,\"#0d0887\"],[0.1111111111111111,\"#46039f\"],[0.2222222222222222,\"#7201a8\"],[0.3333333333333333,\"#9c179e\"],[0.4444444444444444,\"#bd3786\"],[0.5555555555555556,\"#d8576b\"],[0.6666666666666666,\"#ed7953\"],[0.7777777777777778,\"#fb9f3a\"],[0.8888888888888888,\"#fdca26\"],[1.0,\"#f0f921\"]]}],\"heatmap\":[{\"type\":\"heatmap\",\"colorbar\":{\"outlinewidth\":0,\"ticks\":\"\"},\"colorscale\":[[0.0,\"#0d0887\"],[0.1111111111111111,\"#46039f\"],[0.2222222222222222,\"#7201a8\"],[0.3333333333333333,\"#9c179e\"],[0.4444444444444444,\"#bd3786\"],[0.5555555555555556,\"#d8576b\"],[0.6666666666666666,\"#ed7953\"],[0.7777777777777778,\"#fb9f3a\"],[0.8888888888888888,\"#fdca26\"],[1.0,\"#f0f921\"]]}],\"heatmapgl\":[{\"type\":\"heatmapgl\",\"colorbar\":{\"outlinewidth\":0,\"ticks\":\"\"},\"colorscale\":[[0.0,\"#0d0887\"],[0.1111111111111111,\"#46039f\"],[0.2222222222222222,\"#7201a8\"],[0.3333333333333333,\"#9c179e\"],[0.4444444444444444,\"#bd3786\"],[0.5555555555555556,\"#d8576b\"],[0.6666666666666666,\"#ed7953\"],[0.7777777777777778,\"#fb9f3a\"],[0.8888888888888888,\"#fdca26\"],[1.0,\"#f0f921\"]]}],\"contourcarpet\":[{\"type\":\"contourcarpet\",\"colorbar\":{\"outlinewidth\":0,\"ticks\":\"\"}}],\"contour\":[{\"type\":\"contour\",\"colorbar\":{\"outlinewidth\":0,\"ticks\":\"\"},\"colorscale\":[[0.0,\"#0d0887\"],[0.1111111111111111,\"#46039f\"],[0.2222222222222222,\"#7201a8\"],[0.3333333333333333,\"#9c179e\"],[0.4444444444444444,\"#bd3786\"],[0.5555555555555556,\"#d8576b\"],[0.6666666666666666,\"#ed7953\"],[0.7777777777777778,\"#fb9f3a\"],[0.8888888888888888,\"#fdca26\"],[1.0,\"#f0f921\"]]}],\"surface\":[{\"type\":\"surface\",\"colorbar\":{\"outlinewidth\":0,\"ticks\":\"\"},\"colorscale\":[[0.0,\"#0d0887\"],[0.1111111111111111,\"#46039f\"],[0.2222222222222222,\"#7201a8\"],[0.3333333333333333,\"#9c179e\"],[0.4444444444444444,\"#bd3786\"],[0.5555555555555556,\"#d8576b\"],[0.6666666666666666,\"#ed7953\"],[0.7777777777777778,\"#fb9f3a\"],[0.8888888888888888,\"#fdca26\"],[1.0,\"#f0f921\"]]}],\"mesh3d\":[{\"type\":\"mesh3d\",\"colorbar\":{\"outlinewidth\":0,\"ticks\":\"\"}}],\"scatter\":[{\"fillpattern\":{\"fillmode\":\"overlay\",\"size\":10,\"solidity\":0.2},\"type\":\"scatter\"}],\"parcoords\":[{\"type\":\"parcoords\",\"line\":{\"colorbar\":{\"outlinewidth\":0,\"ticks\":\"\"}}}],\"scatterpolargl\":[{\"type\":\"scatterpolargl\",\"marker\":{\"colorbar\":{\"outlinewidth\":0,\"ticks\":\"\"}}}],\"bar\":[{\"error_x\":{\"color\":\"#2a3f5f\"},\"error_y\":{\"color\":\"#2a3f5f\"},\"marker\":{\"line\":{\"color\":\"#E5ECF6\",\"width\":0.5},\"pattern\":{\"fillmode\":\"overlay\",\"size\":10,\"solidity\":0.2}},\"type\":\"bar\"}],\"scattergeo\":[{\"type\":\"scattergeo\",\"marker\":{\"colorbar\":{\"outlinewidth\":0,\"ticks\":\"\"}}}],\"scatterpolar\":[{\"type\":\"scatterpolar\",\"marker\":{\"colorbar\":{\"outlinewidth\":0,\"ticks\":\"\"}}}],\"histogram\":[{\"marker\":{\"pattern\":{\"fillmode\":\"overlay\",\"size\":10,\"solidity\":0.2}},\"type\":\"histogram\"}],\"scattergl\":[{\"type\":\"scattergl\",\"marker\":{\"colorbar\":{\"outlinewidth\":0,\"ticks\":\"\"}}}],\"scatter3d\":[{\"type\":\"scatter3d\",\"line\":{\"colorbar\":{\"outlinewidth\":0,\"ticks\":\"\"}},\"marker\":{\"colorbar\":{\"outlinewidth\":0,\"ticks\":\"\"}}}],\"scattermapbox\":[{\"type\":\"scattermapbox\",\"marker\":{\"colorbar\":{\"outlinewidth\":0,\"ticks\":\"\"}}}],\"scatterternary\":[{\"type\":\"scatterternary\",\"marker\":{\"colorbar\":{\"outlinewidth\":0,\"ticks\":\"\"}}}],\"scattercarpet\":[{\"type\":\"scattercarpet\",\"marker\":{\"colorbar\":{\"outlinewidth\":0,\"ticks\":\"\"}}}],\"carpet\":[{\"aaxis\":{\"endlinecolor\":\"#2a3f5f\",\"gridcolor\":\"white\",\"linecolor\":\"white\",\"minorgridcolor\":\"white\",\"startlinecolor\":\"#2a3f5f\"},\"baxis\":{\"endlinecolor\":\"#2a3f5f\",\"gridcolor\":\"white\",\"linecolor\":\"white\",\"minorgridcolor\":\"white\",\"startlinecolor\":\"#2a3f5f\"},\"type\":\"carpet\"}],\"table\":[{\"cells\":{\"fill\":{\"color\":\"#EBF0F8\"},\"line\":{\"color\":\"white\"}},\"header\":{\"fill\":{\"color\":\"#C8D4E3\"},\"line\":{\"color\":\"white\"}},\"type\":\"table\"}],\"barpolar\":[{\"marker\":{\"line\":{\"color\":\"#E5ECF6\",\"width\":0.5},\"pattern\":{\"fillmode\":\"overlay\",\"size\":10,\"solidity\":0.2}},\"type\":\"barpolar\"}],\"pie\":[{\"automargin\":true,\"type\":\"pie\"}]},\"layout\":{\"autotypenumbers\":\"strict\",\"colorway\":[\"#636efa\",\"#EF553B\",\"#00cc96\",\"#ab63fa\",\"#FFA15A\",\"#19d3f3\",\"#FF6692\",\"#B6E880\",\"#FF97FF\",\"#FECB52\"],\"font\":{\"color\":\"#2a3f5f\"},\"hovermode\":\"closest\",\"hoverlabel\":{\"align\":\"left\"},\"paper_bgcolor\":\"white\",\"plot_bgcolor\":\"#E5ECF6\",\"polar\":{\"bgcolor\":\"#E5ECF6\",\"angularaxis\":{\"gridcolor\":\"white\",\"linecolor\":\"white\",\"ticks\":\"\"},\"radialaxis\":{\"gridcolor\":\"white\",\"linecolor\":\"white\",\"ticks\":\"\"}},\"ternary\":{\"bgcolor\":\"#E5ECF6\",\"aaxis\":{\"gridcolor\":\"white\",\"linecolor\":\"white\",\"ticks\":\"\"},\"baxis\":{\"gridcolor\":\"white\",\"linecolor\":\"white\",\"ticks\":\"\"},\"caxis\":{\"gridcolor\":\"white\",\"linecolor\":\"white\",\"ticks\":\"\"}},\"coloraxis\":{\"colorbar\":{\"outlinewidth\":0,\"ticks\":\"\"}},\"colorscale\":{\"sequential\":[[0.0,\"#0d0887\"],[0.1111111111111111,\"#46039f\"],[0.2222222222222222,\"#7201a8\"],[0.3333333333333333,\"#9c179e\"],[0.4444444444444444,\"#bd3786\"],[0.5555555555555556,\"#d8576b\"],[0.6666666666666666,\"#ed7953\"],[0.7777777777777778,\"#fb9f3a\"],[0.8888888888888888,\"#fdca26\"],[1.0,\"#f0f921\"]],\"sequentialminus\":[[0.0,\"#0d0887\"],[0.1111111111111111,\"#46039f\"],[0.2222222222222222,\"#7201a8\"],[0.3333333333333333,\"#9c179e\"],[0.4444444444444444,\"#bd3786\"],[0.5555555555555556,\"#d8576b\"],[0.6666666666666666,\"#ed7953\"],[0.7777777777777778,\"#fb9f3a\"],[0.8888888888888888,\"#fdca26\"],[1.0,\"#f0f921\"]],\"diverging\":[[0,\"#8e0152\"],[0.1,\"#c51b7d\"],[0.2,\"#de77ae\"],[0.3,\"#f1b6da\"],[0.4,\"#fde0ef\"],[0.5,\"#f7f7f7\"],[0.6,\"#e6f5d0\"],[0.7,\"#b8e186\"],[0.8,\"#7fbc41\"],[0.9,\"#4d9221\"],[1,\"#276419\"]]},\"xaxis\":{\"gridcolor\":\"white\",\"linecolor\":\"white\",\"ticks\":\"\",\"title\":{\"standoff\":15},\"zerolinecolor\":\"white\",\"automargin\":true,\"zerolinewidth\":2},\"yaxis\":{\"gridcolor\":\"white\",\"linecolor\":\"white\",\"ticks\":\"\",\"title\":{\"standoff\":15},\"zerolinecolor\":\"white\",\"automargin\":true,\"zerolinewidth\":2},\"scene\":{\"xaxis\":{\"backgroundcolor\":\"#E5ECF6\",\"gridcolor\":\"white\",\"linecolor\":\"white\",\"showbackground\":true,\"ticks\":\"\",\"zerolinecolor\":\"white\",\"gridwidth\":2},\"yaxis\":{\"backgroundcolor\":\"#E5ECF6\",\"gridcolor\":\"white\",\"linecolor\":\"white\",\"showbackground\":true,\"ticks\":\"\",\"zerolinecolor\":\"white\",\"gridwidth\":2},\"zaxis\":{\"backgroundcolor\":\"#E5ECF6\",\"gridcolor\":\"white\",\"linecolor\":\"white\",\"showbackground\":true,\"ticks\":\"\",\"zerolinecolor\":\"white\",\"gridwidth\":2}},\"shapedefaults\":{\"line\":{\"color\":\"#2a3f5f\"}},\"annotationdefaults\":{\"arrowcolor\":\"#2a3f5f\",\"arrowhead\":0,\"arrowwidth\":1},\"geo\":{\"bgcolor\":\"white\",\"landcolor\":\"#E5ECF6\",\"subunitcolor\":\"white\",\"showland\":true,\"showlakes\":true,\"lakecolor\":\"white\"},\"title\":{\"x\":0.05},\"mapbox\":{\"style\":\"light\"}}},\"xaxis\":{\"anchor\":\"y\",\"domain\":[0.0,1.0],\"title\":{\"text\":\"liveness\"}},\"yaxis\":{\"anchor\":\"x\",\"domain\":[0.0,1.0],\"title\":{\"text\":\"avg of popularity\"}},\"legend\":{\"tracegroupgap\":0},\"title\":{\"text\":\"Average Popularity by Liveness\"},\"barmode\":\"relative\",\"bargap\":0.2},                        {\"responsive\": true}                    ).then(function(){\n",
       "                            \n",
       "var gd = document.getElementById('20d25aba-c0c2-4a64-b33d-2c67548bced7');\n",
       "var x = new MutationObserver(function (mutations, observer) {{\n",
       "        var display = window.getComputedStyle(gd).display;\n",
       "        if (!display || display === 'none') {{\n",
       "            console.log([gd, 'removed!']);\n",
       "            Plotly.purge(gd);\n",
       "            observer.disconnect();\n",
       "        }}\n",
       "}});\n",
       "\n",
       "// Listen for the removal of the full notebook cells\n",
       "var notebookContainer = gd.closest('#notebook-container');\n",
       "if (notebookContainer) {{\n",
       "    x.observe(notebookContainer, {childList: true});\n",
       "}}\n",
       "\n",
       "// Listen for the clearing of the current output cell\n",
       "var outputEl = gd.closest('.output');\n",
       "if (outputEl) {{\n",
       "    x.observe(outputEl, {childList: true});\n",
       "}}\n",
       "\n",
       "                        })                };                });            </script>        </div>"
      ]
     },
     "metadata": {},
     "output_type": "display_data"
    }
   ],
   "source": [
    "fig4 = px.histogram(data_frame=df, x='liveness', y='popularity', \n",
    "                    title='Average Popularity by Liveness',\n",
    "                    color_discrete_sequence=['purple'],\n",
    "                    histfunc='avg',\n",
    "                   nbins=10)\n",
    "\n",
    "fig4.update_layout(bargap=0.2)\n",
    "fig4.show()"
   ]
  },
  {
   "cell_type": "code",
   "execution_count": 21,
   "id": "99f0832f",
   "metadata": {
    "execution": {
     "iopub.execute_input": "2024-03-03T08:59:22.266786Z",
     "iopub.status.busy": "2024-03-03T08:59:22.266387Z",
     "iopub.status.idle": "2024-03-03T08:59:22.364591Z",
     "shell.execute_reply": "2024-03-03T08:59:22.363292Z"
    },
    "papermill": {
     "duration": 0.111316,
     "end_time": "2024-03-03T08:59:22.367406",
     "exception": false,
     "start_time": "2024-03-03T08:59:22.256090",
     "status": "completed"
    },
    "tags": []
   },
   "outputs": [
    {
     "data": {
      "text/html": [
       "<div>                            <div id=\"4d686c9b-f288-4cc9-93ca-4489ebe083fd\" class=\"plotly-graph-div\" style=\"height:525px; width:100%;\"></div>            <script type=\"text/javascript\">                require([\"plotly\"], function(Plotly) {                    window.PLOTLYENV=window.PLOTLYENV || {};                                    if (document.getElementById(\"4d686c9b-f288-4cc9-93ca-4489ebe083fd\")) {                    Plotly.newPlot(                        \"4d686c9b-f288-4cc9-93ca-4489ebe083fd\",                        [{\"dimensions\":[{\"axis\":{\"matches\":true},\"label\":\"energy\",\"values\":[0.702,0.543,0.534,0.709,0.404,0.764,0.658,0.689,0.719,0.445,0.773,0.532,0.496,0.671,0.747,0.574,0.619,0.764,0.741,0.792,0.635,0.535,0.602,0.504,0.589,0.469,0.732,0.783,0.449,0.686,0.557,0.624,0.83,0.777,0.71,0.703,0.65,0.695,0.691,0.732,0.366,0.32,0.885,0.758,0.316,0.692,0.151,0.789,0.47,0.61,0.61,0.528,0.677,0.781,0.61,0.366,0.265,0.361,0.58,0.24,0.361,0.58,0.265,0.501,0.915,0.855,0.57,0.258,0.258,0.361,0.412,0.41,0.374,0.763,0.634,0.304,0.304,0.534,0.634,0.374,0.574,0.478,0.417,0.653,0.459,0.459,0.175,0.478,0.417,0.434,0.653,0.182,0.646,0.821,0.551,0.527,0.488,0.517,0.632,0.822,0.733,0.885,0.27,0.376,0.494,0.494,0.593,0.406,0.613,0.713,0.323,0.462,0.376,0.386,0.397,0.649,0.546,0.372,0.809,0.681,0.7,0.454,0.61,0.598,0.517,0.334,0.7,0.537,0.545,0.559,0.561,0.571,0.625,0.391,0.721,0.808,0.674,0.788,0.837,0.737,0.178,0.846,0.178,0.345,0.284,0.272,0.254,0.614,0.284,0.663,0.444,0.672,0.254,0.873,0.685,0.73,0.488,0.402,0.571,0.427,0.626,0.69,0.498,0.705,0.691,0.683,0.858,0.531,0.331,0.742,0.417,0.308,0.509,0.166,0.704,0.498,0.22,0.509,0.909,0.576,0.779,0.386,0.736,0.273,0.877,0.545,0.131,0.451,0.564,0.815,0.777,0.555,0.234,0.482,0.491,0.934,0.627,0.25,0.777,0.805,0.753,0.61,0.61,0.394,0.578,0.629,0.618,0.751,0.374,0.361,0.374,0.58,0.58,0.361,0.265,0.634,0.634,0.265,0.516,0.304,0.478,0.417,0.417,0.459,0.653,0.304,0.478,0.459,0.653,0.494,0.494,0.504,0.258,0.376,0.7,0.258,0.376,0.7,0.284,0.284,0.254,0.254,0.178,0.178,0.512,0.488,0.887,0.663,0.728,0.783,0.694,0.386,0.915,0.818,0.395,0.908,0.852,0.355,0.672,0.704,0.688,0.663,0.779,0.444,0.464,0.605,0.733,0.266,0.899,0.417,0.427,0.754,0.184,0.808,0.872,0.801,0.656,0.782,0.816,0.448,0.949,0.628,0.309,0.712,0.621,0.828]},{\"axis\":{\"matches\":true},\"label\":\"danceability\",\"values\":[0.552,0.359,0.615,0.766,0.75,0.613,0.777,0.562,0.811,0.731,0.632,0.505,0.557,0.771,0.662,0.292,0.581,0.694,0.569,0.627,0.497,0.8,0.696,0.598,0.649,0.719,0.402,0.646,0.756,0.567,0.584,0.824,0.61,0.516,0.695,0.675,0.375,0.642,0.624,0.712,0.897,0.739,0.496,0.588,0.664,0.524,0.661,0.567,0.419,0.574,0.574,0.44,0.727,0.515,0.498,0.55,0.456,0.78,0.612,0.462,0.78,0.612,0.456,0.8,0.427,0.547,0.576,0.313,0.313,0.316,0.591,0.592,0.31,0.474,0.387,0.529,0.529,0.502,0.387,0.31,0.392,0.511,0.549,0.688,0.651,0.651,0.737,0.511,0.549,0.575,0.688,0.433,0.559,0.598,0.633,0.519,0.535,0.423,0.46,0.511,0.733,0.545,0.39,0.595,0.602,0.602,0.645,0.601,0.546,0.594,0.685,0.512,0.595,0.694,0.65,0.637,0.695,0.654,0.622,0.693,0.593,0.735,0.757,0.522,0.604,0.559,0.593,0.537,0.515,0.511,0.535,0.788,0.701,0.772,0.588,0.636,0.589,0.582,0.482,0.573,0.676,0.649,0.676,0.661,0.644,0.867,0.317,0.647,0.644,0.545,0.506,0.668,0.317,0.432,0.628,0.546,0.605,0.636,0.686,0.626,0.506,0.572,0.363,0.464,0.758,0.618,0.67,0.393,0.653,0.533,0.621,0.493,0.741,0.335,0.689,0.691,0.48,0.471,0.578,0.642,0.482,0.475,0.691,0.546,0.658,0.564,0.445,0.677,0.476,0.499,0.476,0.454,0.395,0.418,0.58,0.563,0.403,0.708,0.576,0.589,0.459,0.574,0.574,0.612,0.479,0.594,0.64,0.483,0.31,0.78,0.31,0.612,0.612,0.78,0.456,0.387,0.387,0.456,0.374,0.529,0.511,0.549,0.549,0.651,0.688,0.529,0.511,0.651,0.688,0.602,0.602,0.374,0.313,0.595,0.593,0.313,0.595,0.593,0.644,0.644,0.317,0.317,0.676,0.676,0.536,0.327,0.445,0.34,0.544,0.455,0.615,0.521,0.429,0.338,0.427,0.419,0.496,0.421,0.668,0.627,0.55,0.545,0.621,0.741,0.536,0.602,0.66,0.623,0.605,0.621,0.626,0.576,0.731,0.429,0.647,0.344,0.765,0.61,0.627,0.669,0.431,0.55,0.714,0.243,0.704,0.591]},{\"axis\":{\"matches\":true},\"label\":\"loudness\",\"values\":[-5.707,-7.582,-6.719,-6.471,-10.178,-6.509,-5.191,-6.745,-6.553,-8.418,-4.856,-3.526,-9.602,-5.617,-6.926,-9.375,-6.524,-4.893,-4.963,-4.311,-3.927,-6.684,-6.156,-9.874,-6.237,-8.792,-4.665,-2.846,-8.746,-6.139,-6.371,-9.728,-4.105,-4.908,-6.639,-7.902,-4.031,-5.62,-6.686,-6.754,-8.029,-10.862,-2.969,-2.347,-10.345,-3.866,-12.864,-5.986,-5.016,-7.283,-7.283,-7.809,-2.871,-2.608,-5.098,-8.46,-10.663,-6.942,-8.572,-12.077,-6.942,-8.572,-10.663,-9.332,-1.909,-4.7,-7.925,-11.532,-11.532,-10.381,-13.27,-12.426,-8.464,-4.632,-9.222,-10.567,-10.567,-5.954,-9.222,-8.464,-9.195,-9.837,-10.064,-8.558,-11.128,-11.128,-9.912,-9.837,-10.064,-8.193,-8.558,-12.566,-4.61,-4.433,-8.297,-7.673,-8.261,-7.377,-6.031,-4.785,-5.376,-5.968,-10.673,-8.767,-10.813,-10.813,-6.506,-11.827,-7.589,-5.314,-7.103,-10.491,-8.767,-10.312,-8.237,-6.59,-9.184,-11.704,-5.623,-7.039,-9.016,-10.516,-4.84,-5.327,-9.014,-10.733,-9.016,-11.266,-9.277,-6.587,-11.609,-6.135,-8.804,-8.892,-5.579,-5.693,-7.48,-5.358,-6.501,-9.002,-15.01,-5.958,-15.01,-14.037,-12.879,-11.014,-13.679,-7.091,-12.879,-5.05,-4.99,-4.931,-13.679,-4.367,-5.864,-7.704,-8.322,-7.855,-7.138,-6.993,-6.066,-6.201,-9.473,-5.97,-5.798,-6.438,-6.528,-6.112,-13.534,-3.473,-6.941,-15.489,-8.747,-14.958,-10.813,-10.519,-12.469,-8.796,-3.669,-8.524,-5.025,-12.038,-6.974,-9.208,-2.098,-10.17,-13.778,-9.744,-5.677,-4.063,-3.771,-6.69,-9.704,-5.769,-6.462,-3.629,-5.28,-10.731,-2.881,-4.055,-3.827,-7.283,-7.283,-5.723,-4.963,-4.919,-11.715,-5.726,-8.464,-6.942,-8.464,-8.572,-8.572,-6.942,-10.663,-9.222,-9.222,-10.663,-8.745,-10.567,-9.837,-10.064,-10.064,-11.128,-8.558,-10.567,-9.837,-11.128,-8.558,-10.813,-10.813,-8.407,-11.532,-8.767,-9.016,-11.532,-8.767,-9.016,-12.879,-12.879,-13.679,-13.679,-15.01,-15.01,-6.794,-9.287,-5.629,-5.597,-5.838,-5.184,-5.251,-8.784,-4.373,-7.495,-12.551,-5.156,-4.775,-10.21,-4.931,-3.739,-7.416,-5.05,-2.943,-7.031,-6.761,-7.803,-6.564,-5.894,-4.273,-6.941,-6.993,-3.982,-9.235,-3.004,-1.953,-5.373,-6.112,-2.98,-6.698,-8.566,-2.622,-4.437,-8.828,-4.307,-8.086,-5.895]},{\"axis\":{\"matches\":true},\"label\":\"liveness\",\"values\":[0.105,0.118,0.0607,0.126,0.0911,0.197,0.0901,0.0888,0.0742,0.14,0.0885,0.149,0.0772,0.0637,0.138,0.0663,0.117,0.0608,0.333,0.0845,0.117,0.213,0.0696,0.34,0.108,0.169,0.108,0.171,0.114,0.0732,0.0576,0.1,0.118,0.0761,0.133,0.0391,0.189,0.0753,0.138,0.319,0.0715,0.111,0.191,0.131,0.0812,0.192,0.13,0.382,0.163,0.13,0.13,0.234,0.143,0.054,0.223,0.101,0.0679,0.108,0.26,0.113,0.108,0.26,0.0679,0.0874,0.221,0.144,0.0668,0.0948,0.0948,0.0797,0.0608,0.09,0.11,0.138,0.0931,0.108,0.108,0.0977,0.0931,0.11,0.145,0.147,0.0604,0.106,0.105,0.105,0.171,0.147,0.0604,0.105,0.106,0.123,0.32,0.143,0.127,0.132,0.111,0.177,0.0822,0.0899,0.168,0.385,0.111,0.0989,0.0902,0.0902,0.13,0.133,0.103,0.114,0.198,0.121,0.0989,0.126,0.089,0.147,0.0883,0.114,0.109,0.0768,0.116,0.133,0.367,0.152,0.123,0.114,0.116,0.142,0.0921,0.113,0.115,0.0934,0.105,0.0981,0.131,0.359,0.112,0.115,0.123,0.0851,0.135,0.0824,0.135,0.0871,0.0909,0.118,0.0867,0.611,0.0909,0.321,0.123,0.329,0.0867,0.167,0.18,0.0972,0.129,0.107,0.0608,0.138,0.228,0.0897,0.112,0.209,0.0939,0.305,0.0687,0.169,0.116,0.108,0.119,0.123,0.262,0.115,0.134,0.136,0.116,0.0673,0.333,0.159,0.296,0.119,0.101,0.137,0.0962,0.0878,0.108,0.11,0.102,0.181,0.196,0.343,0.107,0.123,0.121,0.103,0.182,0.102,0.32,0.24,0.0863,0.13,0.13,0.147,0.0841,0.137,0.0574,0.128,0.11,0.108,0.11,0.26,0.26,0.108,0.0679,0.0931,0.0931,0.0679,0.795,0.108,0.147,0.0604,0.0604,0.105,0.106,0.108,0.147,0.105,0.106,0.0902,0.0902,0.76,0.0948,0.0989,0.116,0.0948,0.0989,0.116,0.0909,0.0909,0.0867,0.0867,0.135,0.135,0.497,0.837,0.931,0.563,0.865,0.918,0.83,0.884,0.693,0.889,0.701,0.815,0.554,0.867,0.329,0.0598,0.106,0.321,0.187,0.131,0.0357,0.128,0.0473,0.145,0.0911,0.119,0.138,0.223,0.0927,0.0884,0.419,0.106,0.0918,0.16,0.0965,0.158,0.0612,0.138,0.136,0.111,0.14,0.0879]},{\"axis\":{\"matches\":true},\"label\":\"key\",\"values\":[9,7,9,9,9,2,0,2,9,0,6,8,0,2,11,0,10,6,5,2,2,7,0,9,2,0,5,7,9,7,6,0,0,1,1,0,0,7,0,4,0,11,11,5,5,4,0,5,4,2,2,0,7,4,6,10,0,0,0,0,0,0,0,0,5,7,7,2,2,9,2,0,6,2,5,10,10,2,5,6,7,9,7,7,4,4,10,9,7,5,7,0,7,10,4,7,0,0,4,11,0,0,1,0,4,4,2,7,7,9,2,9,0,2,7,4,7,0,9,0,3,7,7,1,0,11,3,8,2,4,5,6,0,4,0,7,8,0,0,5,8,5,8,4,5,4,1,8,5,2,6,2,1,4,4,0,4,7,4,10,1,2,9,3,5,7,0,5,9,7,10,0,7,0,9,7,6,1,7,1,7,0,5,9,7,10,7,11,2,5,4,2,0,5,0,8,2,0,9,5,10,2,2,7,2,8,7,4,6,0,6,0,0,0,0,5,5,0,2,10,9,7,7,4,7,10,9,4,7,4,4,2,2,0,3,2,0,3,5,5,1,1,8,8,6,6,11,8,7,5,7,4,4,5,0,9,7,0,2,3,8,2,7,2,6,0,7,5,1,10,10,4,5,7,7,10,5,5,4,1,5,7,2,5,2,4]},{\"axis\":{\"matches\":true},\"label\":\"acousticness\",\"values\":[0.117,0.492,0.106,0.204,0.216,0.0527,0.0767,0.00465,0.0129,0.0586,0.0623,0.012,0.808,0.00929,0.028,0.12,0.769,0.0586,0.0122,0.13,0.00621,0.0713,0.0679,0.186,0.00845,0.0329,0.0033,0.00444,0.13,0.0317,0.0129,0.781,0.033,0.00108,0.0246,0.00882,0.0122,0.000443,0.0604,0.454,0.00889,0.736,0.000886,0.0251,0.298,0.311,0.921,0.0156,0.0236,0.122,0.122,0.0171,0.248,0.00192,0.271,0.447,0.814,0.75,0.525,0.92,0.75,0.525,0.814,0.16,0.00667,0.0164,0.362,0.842,0.842,0.878,0.309,0.801,0.761,0.159,0.553,0.862,0.862,0.0399,0.553,0.761,0.833,0.312,0.686,0.481,0.859,0.859,0.971,0.312,0.686,0.735,0.481,0.907,0.116,0.0231,0.066,0.075,0.449,0.369,0.0158,0.000421,0.0885,0.000537,0.937,0.589,0.888,0.888,0.0344,0.622,0.418,0.000328,0.851,0.83,0.589,0.423,0.0609,0.115,0.0648,0.705,0.0288,0.0848,0.67,0.236,0.00942,0.101,0.768,0.87,0.67,0.819,0.855,0.0167,0.876,0.106,0.207,0.25,0.000656,0.0121,0.0436,0.0999,0.435,0.203,0.964,0.00675,0.964,0.545,0.916,0.157,0.727,0.0782,0.916,0.114,0.0538,0.111,0.727,0.0279,0.00324,0.66,0.696,0.0494,0.066,0.313,0.156,0.0474,0.61,0.00976,0.00196,0.0362,0.00354,0.0181,0.705,0.0031,0.288,0.804,0.205,0.967,0.835,0.116,0.837,0.316,0.0222,0.488,0.0135,0.497,0.00955,0.819,0.173,0.726,0.663,0.318,0.0406,0.000191,0.0103,0.157,0.88,0.217,0.575,0.00452,0.0177,0.898,0.051,0.00491,0.0402,0.122,0.122,0.637,0.525,0.0868,0.743,0.00349,0.761,0.75,0.761,0.525,0.525,0.75,0.814,0.553,0.553,0.814,0.155,0.862,0.312,0.686,0.686,0.859,0.481,0.862,0.312,0.859,0.481,0.888,0.888,0.806,0.842,0.589,0.67,0.842,0.589,0.67,0.916,0.916,0.727,0.727,0.964,0.964,0.794,0.713,0.00306,0.0747,0.0053,0.00917,0.0636,0.0157,0.154,0.0245,0.205,0.00048,0.00233,0.715,0.111,0.596,0.0692,0.114,0.00302,0.659,0.00476,0.0448,0.00254,0.814,0.0779,0.288,0.313,0.451,0.856,0.399,0.266,0.664,0.00364,0.041,0.0162,0.639,0.0648,0.0717,0.824,0.156,0.101,0.000184]},{\"axis\":{\"matches\":true},\"label\":\"popularity\",\"values\":[99,93,92,88,88,87,87,87,86,86,86,86,85,85,84,84,83,83,83,83,83,83,83,82,82,82,82,82,82,81,81,81,81,80,80,80,80,80,79,79,79,79,79,79,78,78,78,78,78,77,77,77,77,77,76,76,75,75,75,75,75,75,75,75,75,75,75,74,74,74,74,74,74,74,74,74,74,74,74,74,74,73,73,73,73,73,73,73,73,73,73,73,73,73,73,73,73,73,73,73,72,72,72,72,72,72,72,72,72,72,72,72,72,72,71,71,71,71,71,71,71,71,71,71,71,71,71,71,71,71,71,71,71,70,70,70,70,70,70,70,70,70,70,70,70,70,70,70,70,70,70,70,70,70,70,70,70,70,70,69,69,69,69,69,69,69,69,69,69,69,69,69,69,68,68,68,68,68,68,68,68,68,68,68,67,67,67,67,66,66,66,65,62,61,61,61,61,61,61,60,60,59,59,59,59,59,59,58,56,56,56,56,56,56,55,55,55,55,54,54,54,54,54,54,54,54,54,54,54,53,53,53,52,52,52,52,52,52,51,51,51,51,50,50,50,50,49,49,49,49,48,48,48,48,48,48,48,47,44,44,44,44,44,42,42,42,41,41,40,39,39,39,38,37,37,37,37,37,36,36,36,36,35,34,34,34]}],\"hovertemplate\":\"%{xaxis.title.text}=%{x}\\u003cbr\\u003e%{yaxis.title.text}=%{y}\\u003cbr\\u003epopularity=%{marker.color}\\u003cextra\\u003e\\u003c\\u002fextra\\u003e\",\"legendgroup\":\"\",\"marker\":{\"color\":[99,93,92,88,88,87,87,87,86,86,86,86,85,85,84,84,83,83,83,83,83,83,83,82,82,82,82,82,82,81,81,81,81,80,80,80,80,80,79,79,79,79,79,79,78,78,78,78,78,77,77,77,77,77,76,76,75,75,75,75,75,75,75,75,75,75,75,74,74,74,74,74,74,74,74,74,74,74,74,74,74,73,73,73,73,73,73,73,73,73,73,73,73,73,73,73,73,73,73,73,72,72,72,72,72,72,72,72,72,72,72,72,72,72,71,71,71,71,71,71,71,71,71,71,71,71,71,71,71,71,71,71,71,70,70,70,70,70,70,70,70,70,70,70,70,70,70,70,70,70,70,70,70,70,70,70,70,70,70,69,69,69,69,69,69,69,69,69,69,69,69,69,69,68,68,68,68,68,68,68,68,68,68,68,67,67,67,67,66,66,66,65,62,61,61,61,61,61,61,60,60,59,59,59,59,59,59,58,56,56,56,56,56,56,55,55,55,55,54,54,54,54,54,54,54,54,54,54,54,53,53,53,52,52,52,52,52,52,51,51,51,51,50,50,50,50,49,49,49,49,48,48,48,48,48,48,48,47,44,44,44,44,44,42,42,42,41,41,40,39,39,39,38,37,37,37,37,37,36,36,36,36,35,34,34,34],\"coloraxis\":\"coloraxis\",\"symbol\":\"circle\"},\"name\":\"\",\"showlegend\":false,\"type\":\"splom\"}],                        {\"template\":{\"data\":{\"histogram2dcontour\":[{\"type\":\"histogram2dcontour\",\"colorbar\":{\"outlinewidth\":0,\"ticks\":\"\"},\"colorscale\":[[0.0,\"#0d0887\"],[0.1111111111111111,\"#46039f\"],[0.2222222222222222,\"#7201a8\"],[0.3333333333333333,\"#9c179e\"],[0.4444444444444444,\"#bd3786\"],[0.5555555555555556,\"#d8576b\"],[0.6666666666666666,\"#ed7953\"],[0.7777777777777778,\"#fb9f3a\"],[0.8888888888888888,\"#fdca26\"],[1.0,\"#f0f921\"]]}],\"choropleth\":[{\"type\":\"choropleth\",\"colorbar\":{\"outlinewidth\":0,\"ticks\":\"\"}}],\"histogram2d\":[{\"type\":\"histogram2d\",\"colorbar\":{\"outlinewidth\":0,\"ticks\":\"\"},\"colorscale\":[[0.0,\"#0d0887\"],[0.1111111111111111,\"#46039f\"],[0.2222222222222222,\"#7201a8\"],[0.3333333333333333,\"#9c179e\"],[0.4444444444444444,\"#bd3786\"],[0.5555555555555556,\"#d8576b\"],[0.6666666666666666,\"#ed7953\"],[0.7777777777777778,\"#fb9f3a\"],[0.8888888888888888,\"#fdca26\"],[1.0,\"#f0f921\"]]}],\"heatmap\":[{\"type\":\"heatmap\",\"colorbar\":{\"outlinewidth\":0,\"ticks\":\"\"},\"colorscale\":[[0.0,\"#0d0887\"],[0.1111111111111111,\"#46039f\"],[0.2222222222222222,\"#7201a8\"],[0.3333333333333333,\"#9c179e\"],[0.4444444444444444,\"#bd3786\"],[0.5555555555555556,\"#d8576b\"],[0.6666666666666666,\"#ed7953\"],[0.7777777777777778,\"#fb9f3a\"],[0.8888888888888888,\"#fdca26\"],[1.0,\"#f0f921\"]]}],\"heatmapgl\":[{\"type\":\"heatmapgl\",\"colorbar\":{\"outlinewidth\":0,\"ticks\":\"\"},\"colorscale\":[[0.0,\"#0d0887\"],[0.1111111111111111,\"#46039f\"],[0.2222222222222222,\"#7201a8\"],[0.3333333333333333,\"#9c179e\"],[0.4444444444444444,\"#bd3786\"],[0.5555555555555556,\"#d8576b\"],[0.6666666666666666,\"#ed7953\"],[0.7777777777777778,\"#fb9f3a\"],[0.8888888888888888,\"#fdca26\"],[1.0,\"#f0f921\"]]}],\"contourcarpet\":[{\"type\":\"contourcarpet\",\"colorbar\":{\"outlinewidth\":0,\"ticks\":\"\"}}],\"contour\":[{\"type\":\"contour\",\"colorbar\":{\"outlinewidth\":0,\"ticks\":\"\"},\"colorscale\":[[0.0,\"#0d0887\"],[0.1111111111111111,\"#46039f\"],[0.2222222222222222,\"#7201a8\"],[0.3333333333333333,\"#9c179e\"],[0.4444444444444444,\"#bd3786\"],[0.5555555555555556,\"#d8576b\"],[0.6666666666666666,\"#ed7953\"],[0.7777777777777778,\"#fb9f3a\"],[0.8888888888888888,\"#fdca26\"],[1.0,\"#f0f921\"]]}],\"surface\":[{\"type\":\"surface\",\"colorbar\":{\"outlinewidth\":0,\"ticks\":\"\"},\"colorscale\":[[0.0,\"#0d0887\"],[0.1111111111111111,\"#46039f\"],[0.2222222222222222,\"#7201a8\"],[0.3333333333333333,\"#9c179e\"],[0.4444444444444444,\"#bd3786\"],[0.5555555555555556,\"#d8576b\"],[0.6666666666666666,\"#ed7953\"],[0.7777777777777778,\"#fb9f3a\"],[0.8888888888888888,\"#fdca26\"],[1.0,\"#f0f921\"]]}],\"mesh3d\":[{\"type\":\"mesh3d\",\"colorbar\":{\"outlinewidth\":0,\"ticks\":\"\"}}],\"scatter\":[{\"fillpattern\":{\"fillmode\":\"overlay\",\"size\":10,\"solidity\":0.2},\"type\":\"scatter\"}],\"parcoords\":[{\"type\":\"parcoords\",\"line\":{\"colorbar\":{\"outlinewidth\":0,\"ticks\":\"\"}}}],\"scatterpolargl\":[{\"type\":\"scatterpolargl\",\"marker\":{\"colorbar\":{\"outlinewidth\":0,\"ticks\":\"\"}}}],\"bar\":[{\"error_x\":{\"color\":\"#2a3f5f\"},\"error_y\":{\"color\":\"#2a3f5f\"},\"marker\":{\"line\":{\"color\":\"#E5ECF6\",\"width\":0.5},\"pattern\":{\"fillmode\":\"overlay\",\"size\":10,\"solidity\":0.2}},\"type\":\"bar\"}],\"scattergeo\":[{\"type\":\"scattergeo\",\"marker\":{\"colorbar\":{\"outlinewidth\":0,\"ticks\":\"\"}}}],\"scatterpolar\":[{\"type\":\"scatterpolar\",\"marker\":{\"colorbar\":{\"outlinewidth\":0,\"ticks\":\"\"}}}],\"histogram\":[{\"marker\":{\"pattern\":{\"fillmode\":\"overlay\",\"size\":10,\"solidity\":0.2}},\"type\":\"histogram\"}],\"scattergl\":[{\"type\":\"scattergl\",\"marker\":{\"colorbar\":{\"outlinewidth\":0,\"ticks\":\"\"}}}],\"scatter3d\":[{\"type\":\"scatter3d\",\"line\":{\"colorbar\":{\"outlinewidth\":0,\"ticks\":\"\"}},\"marker\":{\"colorbar\":{\"outlinewidth\":0,\"ticks\":\"\"}}}],\"scattermapbox\":[{\"type\":\"scattermapbox\",\"marker\":{\"colorbar\":{\"outlinewidth\":0,\"ticks\":\"\"}}}],\"scatterternary\":[{\"type\":\"scatterternary\",\"marker\":{\"colorbar\":{\"outlinewidth\":0,\"ticks\":\"\"}}}],\"scattercarpet\":[{\"type\":\"scattercarpet\",\"marker\":{\"colorbar\":{\"outlinewidth\":0,\"ticks\":\"\"}}}],\"carpet\":[{\"aaxis\":{\"endlinecolor\":\"#2a3f5f\",\"gridcolor\":\"white\",\"linecolor\":\"white\",\"minorgridcolor\":\"white\",\"startlinecolor\":\"#2a3f5f\"},\"baxis\":{\"endlinecolor\":\"#2a3f5f\",\"gridcolor\":\"white\",\"linecolor\":\"white\",\"minorgridcolor\":\"white\",\"startlinecolor\":\"#2a3f5f\"},\"type\":\"carpet\"}],\"table\":[{\"cells\":{\"fill\":{\"color\":\"#EBF0F8\"},\"line\":{\"color\":\"white\"}},\"header\":{\"fill\":{\"color\":\"#C8D4E3\"},\"line\":{\"color\":\"white\"}},\"type\":\"table\"}],\"barpolar\":[{\"marker\":{\"line\":{\"color\":\"#E5ECF6\",\"width\":0.5},\"pattern\":{\"fillmode\":\"overlay\",\"size\":10,\"solidity\":0.2}},\"type\":\"barpolar\"}],\"pie\":[{\"automargin\":true,\"type\":\"pie\"}]},\"layout\":{\"autotypenumbers\":\"strict\",\"colorway\":[\"#636efa\",\"#EF553B\",\"#00cc96\",\"#ab63fa\",\"#FFA15A\",\"#19d3f3\",\"#FF6692\",\"#B6E880\",\"#FF97FF\",\"#FECB52\"],\"font\":{\"color\":\"#2a3f5f\"},\"hovermode\":\"closest\",\"hoverlabel\":{\"align\":\"left\"},\"paper_bgcolor\":\"white\",\"plot_bgcolor\":\"#E5ECF6\",\"polar\":{\"bgcolor\":\"#E5ECF6\",\"angularaxis\":{\"gridcolor\":\"white\",\"linecolor\":\"white\",\"ticks\":\"\"},\"radialaxis\":{\"gridcolor\":\"white\",\"linecolor\":\"white\",\"ticks\":\"\"}},\"ternary\":{\"bgcolor\":\"#E5ECF6\",\"aaxis\":{\"gridcolor\":\"white\",\"linecolor\":\"white\",\"ticks\":\"\"},\"baxis\":{\"gridcolor\":\"white\",\"linecolor\":\"white\",\"ticks\":\"\"},\"caxis\":{\"gridcolor\":\"white\",\"linecolor\":\"white\",\"ticks\":\"\"}},\"coloraxis\":{\"colorbar\":{\"outlinewidth\":0,\"ticks\":\"\"}},\"colorscale\":{\"sequential\":[[0.0,\"#0d0887\"],[0.1111111111111111,\"#46039f\"],[0.2222222222222222,\"#7201a8\"],[0.3333333333333333,\"#9c179e\"],[0.4444444444444444,\"#bd3786\"],[0.5555555555555556,\"#d8576b\"],[0.6666666666666666,\"#ed7953\"],[0.7777777777777778,\"#fb9f3a\"],[0.8888888888888888,\"#fdca26\"],[1.0,\"#f0f921\"]],\"sequentialminus\":[[0.0,\"#0d0887\"],[0.1111111111111111,\"#46039f\"],[0.2222222222222222,\"#7201a8\"],[0.3333333333333333,\"#9c179e\"],[0.4444444444444444,\"#bd3786\"],[0.5555555555555556,\"#d8576b\"],[0.6666666666666666,\"#ed7953\"],[0.7777777777777778,\"#fb9f3a\"],[0.8888888888888888,\"#fdca26\"],[1.0,\"#f0f921\"]],\"diverging\":[[0,\"#8e0152\"],[0.1,\"#c51b7d\"],[0.2,\"#de77ae\"],[0.3,\"#f1b6da\"],[0.4,\"#fde0ef\"],[0.5,\"#f7f7f7\"],[0.6,\"#e6f5d0\"],[0.7,\"#b8e186\"],[0.8,\"#7fbc41\"],[0.9,\"#4d9221\"],[1,\"#276419\"]]},\"xaxis\":{\"gridcolor\":\"white\",\"linecolor\":\"white\",\"ticks\":\"\",\"title\":{\"standoff\":15},\"zerolinecolor\":\"white\",\"automargin\":true,\"zerolinewidth\":2},\"yaxis\":{\"gridcolor\":\"white\",\"linecolor\":\"white\",\"ticks\":\"\",\"title\":{\"standoff\":15},\"zerolinecolor\":\"white\",\"automargin\":true,\"zerolinewidth\":2},\"scene\":{\"xaxis\":{\"backgroundcolor\":\"#E5ECF6\",\"gridcolor\":\"white\",\"linecolor\":\"white\",\"showbackground\":true,\"ticks\":\"\",\"zerolinecolor\":\"white\",\"gridwidth\":2},\"yaxis\":{\"backgroundcolor\":\"#E5ECF6\",\"gridcolor\":\"white\",\"linecolor\":\"white\",\"showbackground\":true,\"ticks\":\"\",\"zerolinecolor\":\"white\",\"gridwidth\":2},\"zaxis\":{\"backgroundcolor\":\"#E5ECF6\",\"gridcolor\":\"white\",\"linecolor\":\"white\",\"showbackground\":true,\"ticks\":\"\",\"zerolinecolor\":\"white\",\"gridwidth\":2}},\"shapedefaults\":{\"line\":{\"color\":\"#2a3f5f\"}},\"annotationdefaults\":{\"arrowcolor\":\"#2a3f5f\",\"arrowhead\":0,\"arrowwidth\":1},\"geo\":{\"bgcolor\":\"white\",\"landcolor\":\"#E5ECF6\",\"subunitcolor\":\"white\",\"showland\":true,\"showlakes\":true,\"lakecolor\":\"white\"},\"title\":{\"x\":0.05},\"mapbox\":{\"style\":\"light\"}}},\"coloraxis\":{\"colorbar\":{\"title\":{\"text\":\"popularity\"}},\"colorscale\":[[0.0,\"#0d0887\"],[0.1111111111111111,\"#46039f\"],[0.2222222222222222,\"#7201a8\"],[0.3333333333333333,\"#9c179e\"],[0.4444444444444444,\"#bd3786\"],[0.5555555555555556,\"#d8576b\"],[0.6666666666666666,\"#ed7953\"],[0.7777777777777778,\"#fb9f3a\"],[0.8888888888888888,\"#fdca26\"],[1.0,\"#f0f921\"]]},\"legend\":{\"tracegroupgap\":0},\"title\":{\"text\":\"Scatter Plot Matrix\"},\"dragmode\":\"select\"},                        {\"responsive\": true}                    ).then(function(){\n",
       "                            \n",
       "var gd = document.getElementById('4d686c9b-f288-4cc9-93ca-4489ebe083fd');\n",
       "var x = new MutationObserver(function (mutations, observer) {{\n",
       "        var display = window.getComputedStyle(gd).display;\n",
       "        if (!display || display === 'none') {{\n",
       "            console.log([gd, 'removed!']);\n",
       "            Plotly.purge(gd);\n",
       "            observer.disconnect();\n",
       "        }}\n",
       "}});\n",
       "\n",
       "// Listen for the removal of the full notebook cells\n",
       "var notebookContainer = gd.closest('#notebook-container');\n",
       "if (notebookContainer) {{\n",
       "    x.observe(notebookContainer, {childList: true});\n",
       "}}\n",
       "\n",
       "// Listen for the clearing of the current output cell\n",
       "var outputEl = gd.closest('.output');\n",
       "if (outputEl) {{\n",
       "    x.observe(outputEl, {childList: true});\n",
       "}}\n",
       "\n",
       "                        })                };                });            </script>        </div>"
      ]
     },
     "metadata": {},
     "output_type": "display_data"
    }
   ],
   "source": [
    "scatter_matrix = px.scatter_matrix(df, dimensions=['energy', 'danceability','loudness', 'liveness', 'key', 'acousticness', 'popularity'],\n",
    "                                   color='popularity',\n",
    "                                   title='Scatter Plot Matrix')\n",
    "scatter_matrix.show()"
   ]
  },
  {
   "cell_type": "markdown",
   "id": "2c02c2fb",
   "metadata": {
    "execution": {
     "iopub.execute_input": "2024-03-01T11:49:23.056144Z",
     "iopub.status.busy": "2024-03-01T11:49:23.055732Z",
     "iopub.status.idle": "2024-03-01T11:49:23.061521Z",
     "shell.execute_reply": "2024-03-01T11:49:23.060246Z",
     "shell.execute_reply.started": "2024-03-01T11:49:23.056115Z"
    },
    "papermill": {
     "duration": 0.009321,
     "end_time": "2024-03-03T08:59:22.386246",
     "exception": false,
     "start_time": "2024-03-03T08:59:22.376925",
     "status": "completed"
    },
    "tags": []
   },
   "source": [
    "#### These were some fun visualisations! We can analyse the following from them:\n",
    "1. There is a significant positive correlation between popularity and...\n",
    "    * danceability\n",
    "    * speechiness\n",
    "2. There is a significant negative correlation between popularity and...\n",
    "    * liveness\n",
    "    * acousticness\n",
    "3. There are other observable relations as well, visible from the correlation and scatter matrix."
   ]
  },
  {
   "cell_type": "code",
   "execution_count": 22,
   "id": "be6435e8",
   "metadata": {
    "execution": {
     "iopub.execute_input": "2024-03-03T08:59:22.407106Z",
     "iopub.status.busy": "2024-03-03T08:59:22.406706Z",
     "iopub.status.idle": "2024-03-03T08:59:22.432140Z",
     "shell.execute_reply": "2024-03-03T08:59:22.431134Z"
    },
    "papermill": {
     "duration": 0.038987,
     "end_time": "2024-03-03T08:59:22.434796",
     "exception": false,
     "start_time": "2024-03-03T08:59:22.395809",
     "status": "completed"
    },
    "tags": []
   },
   "outputs": [
    {
     "data": {
      "text/html": [
       "<div>\n",
       "<style scoped>\n",
       "    .dataframe tbody tr th:only-of-type {\n",
       "        vertical-align: middle;\n",
       "    }\n",
       "\n",
       "    .dataframe tbody tr th {\n",
       "        vertical-align: top;\n",
       "    }\n",
       "\n",
       "    .dataframe thead th {\n",
       "        text-align: right;\n",
       "    }\n",
       "</style>\n",
       "<table border=\"1\" class=\"dataframe\">\n",
       "  <thead>\n",
       "    <tr style=\"text-align: right;\">\n",
       "      <th></th>\n",
       "      <th>album_name</th>\n",
       "      <th>popularity</th>\n",
       "      <th>explicit</th>\n",
       "      <th>energy</th>\n",
       "      <th>key</th>\n",
       "      <th>loudness</th>\n",
       "      <th>danceability</th>\n",
       "      <th>speechiness</th>\n",
       "      <th>acousticness</th>\n",
       "      <th>instrumentalness</th>\n",
       "      <th>liveness</th>\n",
       "      <th>valence</th>\n",
       "      <th>tempo</th>\n",
       "    </tr>\n",
       "  </thead>\n",
       "  <tbody>\n",
       "    <tr>\n",
       "      <th>0</th>\n",
       "      <td>reputation</td>\n",
       "      <td>82.687500</td>\n",
       "      <td>0.000000</td>\n",
       "      <td>0.584562</td>\n",
       "      <td>3.625000</td>\n",
       "      <td>-7.648062</td>\n",
       "      <td>0.652687</td>\n",
       "      <td>0.093750</td>\n",
       "      <td>0.137483</td>\n",
       "      <td>4.112000e-05</td>\n",
       "      <td>0.150769</td>\n",
       "      <td>0.298438</td>\n",
       "      <td>124.253687</td>\n",
       "    </tr>\n",
       "    <tr>\n",
       "      <th>1</th>\n",
       "      <td>Lover</td>\n",
       "      <td>82.666667</td>\n",
       "      <td>0.000000</td>\n",
       "      <td>0.545222</td>\n",
       "      <td>4.333333</td>\n",
       "      <td>-8.013278</td>\n",
       "      <td>0.658222</td>\n",
       "      <td>0.099117</td>\n",
       "      <td>0.333743</td>\n",
       "      <td>7.330572e-04</td>\n",
       "      <td>0.115233</td>\n",
       "      <td>0.481444</td>\n",
       "      <td>119.972722</td>\n",
       "    </tr>\n",
       "    <tr>\n",
       "      <th>2</th>\n",
       "      <td>Speak Now (Taylor's Version)</td>\n",
       "      <td>77.100000</td>\n",
       "      <td>0.000000</td>\n",
       "      <td>0.662350</td>\n",
       "      <td>4.950000</td>\n",
       "      <td>-4.534500</td>\n",
       "      <td>0.541750</td>\n",
       "      <td>0.039255</td>\n",
       "      <td>0.154956</td>\n",
       "      <td>2.905000e-07</td>\n",
       "      <td>0.140030</td>\n",
       "      <td>0.382310</td>\n",
       "      <td>131.194300</td>\n",
       "    </tr>\n",
       "    <tr>\n",
       "      <th>3</th>\n",
       "      <td>Red (Taylor's Version)</td>\n",
       "      <td>73.450000</td>\n",
       "      <td>0.000000</td>\n",
       "      <td>0.591600</td>\n",
       "      <td>4.900000</td>\n",
       "      <td>-7.005400</td>\n",
       "      <td>0.574000</td>\n",
       "      <td>0.042790</td>\n",
       "      <td>0.102157</td>\n",
       "      <td>2.231475e-04</td>\n",
       "      <td>0.114185</td>\n",
       "      <td>0.415250</td>\n",
       "      <td>127.520550</td>\n",
       "    </tr>\n",
       "    <tr>\n",
       "      <th>4</th>\n",
       "      <td>folklore (deluxe version)</td>\n",
       "      <td>72.823529</td>\n",
       "      <td>0.294118</td>\n",
       "      <td>0.415824</td>\n",
       "      <td>4.176471</td>\n",
       "      <td>-10.336059</td>\n",
       "      <td>0.541941</td>\n",
       "      <td>0.039482</td>\n",
       "      <td>0.717588</td>\n",
       "      <td>3.017124e-04</td>\n",
       "      <td>0.110465</td>\n",
       "      <td>0.361353</td>\n",
       "      <td>119.884412</td>\n",
       "    </tr>\n",
       "    <tr>\n",
       "      <th>5</th>\n",
       "      <td>evermore (deluxe version)</td>\n",
       "      <td>72.470588</td>\n",
       "      <td>0.352941</td>\n",
       "      <td>0.494059</td>\n",
       "      <td>5.117647</td>\n",
       "      <td>-9.781588</td>\n",
       "      <td>0.526824</td>\n",
       "      <td>0.057906</td>\n",
       "      <td>0.794118</td>\n",
       "      <td>2.061718e-02</td>\n",
       "      <td>0.113588</td>\n",
       "      <td>0.433529</td>\n",
       "      <td>120.707294</td>\n",
       "    </tr>\n",
       "    <tr>\n",
       "      <th>6</th>\n",
       "      <td>Fearless (Taylor's Version)</td>\n",
       "      <td>72.000000</td>\n",
       "      <td>0.000000</td>\n",
       "      <td>0.661400</td>\n",
       "      <td>4.600000</td>\n",
       "      <td>-5.597100</td>\n",
       "      <td>0.534200</td>\n",
       "      <td>0.036395</td>\n",
       "      <td>0.133280</td>\n",
       "      <td>1.985000e-07</td>\n",
       "      <td>0.183755</td>\n",
       "      <td>0.412300</td>\n",
       "      <td>137.752950</td>\n",
       "    </tr>\n",
       "    <tr>\n",
       "      <th>7</th>\n",
       "      <td>1989 (Taylor's Version) [Deluxe]</td>\n",
       "      <td>70.700000</td>\n",
       "      <td>0.000000</td>\n",
       "      <td>0.665550</td>\n",
       "      <td>3.650000</td>\n",
       "      <td>-7.131750</td>\n",
       "      <td>0.621550</td>\n",
       "      <td>0.056125</td>\n",
       "      <td>0.111567</td>\n",
       "      <td>1.012684e-03</td>\n",
       "      <td>0.157175</td>\n",
       "      <td>0.435640</td>\n",
       "      <td>124.871900</td>\n",
       "    </tr>\n",
       "    <tr>\n",
       "      <th>8</th>\n",
       "      <td>Midnights (The Til Dawn Edition)</td>\n",
       "      <td>69.500000</td>\n",
       "      <td>0.300000</td>\n",
       "      <td>0.451150</td>\n",
       "      <td>4.900000</td>\n",
       "      <td>-10.592800</td>\n",
       "      <td>0.620200</td>\n",
       "      <td>0.096700</td>\n",
       "      <td>0.409895</td>\n",
       "      <td>1.684833e-02</td>\n",
       "      <td>0.145315</td>\n",
       "      <td>0.288610</td>\n",
       "      <td>119.975650</td>\n",
       "    </tr>\n",
       "    <tr>\n",
       "      <th>9</th>\n",
       "      <td>Taylor Swift</td>\n",
       "      <td>63.000000</td>\n",
       "      <td>0.000000</td>\n",
       "      <td>0.650235</td>\n",
       "      <td>5.588235</td>\n",
       "      <td>-4.883412</td>\n",
       "      <td>0.550000</td>\n",
       "      <td>0.032353</td>\n",
       "      <td>0.186584</td>\n",
       "      <td>4.747059e-05</td>\n",
       "      <td>0.168859</td>\n",
       "      <td>0.425059</td>\n",
       "      <td>127.575235</td>\n",
       "    </tr>\n",
       "  </tbody>\n",
       "</table>\n",
       "</div>"
      ],
      "text/plain": [
       "                         album_name  popularity  explicit    energy       key  \\\n",
       "0                        reputation   82.687500  0.000000  0.584562  3.625000   \n",
       "1                             Lover   82.666667  0.000000  0.545222  4.333333   \n",
       "2      Speak Now (Taylor's Version)   77.100000  0.000000  0.662350  4.950000   \n",
       "3            Red (Taylor's Version)   73.450000  0.000000  0.591600  4.900000   \n",
       "4         folklore (deluxe version)   72.823529  0.294118  0.415824  4.176471   \n",
       "5         evermore (deluxe version)   72.470588  0.352941  0.494059  5.117647   \n",
       "6       Fearless (Taylor's Version)   72.000000  0.000000  0.661400  4.600000   \n",
       "7  1989 (Taylor's Version) [Deluxe]   70.700000  0.000000  0.665550  3.650000   \n",
       "8  Midnights (The Til Dawn Edition)   69.500000  0.300000  0.451150  4.900000   \n",
       "9                      Taylor Swift   63.000000  0.000000  0.650235  5.588235   \n",
       "\n",
       "    loudness  danceability  speechiness  acousticness  instrumentalness  \\\n",
       "0  -7.648062      0.652687     0.093750      0.137483      4.112000e-05   \n",
       "1  -8.013278      0.658222     0.099117      0.333743      7.330572e-04   \n",
       "2  -4.534500      0.541750     0.039255      0.154956      2.905000e-07   \n",
       "3  -7.005400      0.574000     0.042790      0.102157      2.231475e-04   \n",
       "4 -10.336059      0.541941     0.039482      0.717588      3.017124e-04   \n",
       "5  -9.781588      0.526824     0.057906      0.794118      2.061718e-02   \n",
       "6  -5.597100      0.534200     0.036395      0.133280      1.985000e-07   \n",
       "7  -7.131750      0.621550     0.056125      0.111567      1.012684e-03   \n",
       "8 -10.592800      0.620200     0.096700      0.409895      1.684833e-02   \n",
       "9  -4.883412      0.550000     0.032353      0.186584      4.747059e-05   \n",
       "\n",
       "   liveness   valence       tempo  \n",
       "0  0.150769  0.298438  124.253687  \n",
       "1  0.115233  0.481444  119.972722  \n",
       "2  0.140030  0.382310  131.194300  \n",
       "3  0.114185  0.415250  127.520550  \n",
       "4  0.110465  0.361353  119.884412  \n",
       "5  0.113588  0.433529  120.707294  \n",
       "6  0.183755  0.412300  137.752950  \n",
       "7  0.157175  0.435640  124.871900  \n",
       "8  0.145315  0.288610  119.975650  \n",
       "9  0.168859  0.425059  127.575235  "
      ]
     },
     "execution_count": 22,
     "metadata": {},
     "output_type": "execute_result"
    }
   ],
   "source": [
    "df_album = df[['popularity', 'explicit', 'energy', 'key', 'loudness', 'danceability', \n",
    "               'speechiness', 'acousticness', 'instrumentalness', 'liveness', \n",
    "               'valence', 'tempo', 'album_name']].groupby('album_name').mean().reset_index()\n",
    "df_album = df_album.sort_values(by='popularity', ascending=False)\n",
    "df_album = df_album.head(10)\n",
    "df_album.reset_index(inplace=True)\n",
    "df_album.drop('index', axis=1, inplace=True)\n",
    "df_album"
   ]
  },
  {
   "cell_type": "code",
   "execution_count": 23,
   "id": "04ab6601",
   "metadata": {
    "execution": {
     "iopub.execute_input": "2024-03-03T08:59:22.456191Z",
     "iopub.status.busy": "2024-03-03T08:59:22.455792Z",
     "iopub.status.idle": "2024-03-03T08:59:22.462642Z",
     "shell.execute_reply": "2024-03-03T08:59:22.461858Z"
    },
    "papermill": {
     "duration": 0.019524,
     "end_time": "2024-03-03T08:59:22.464152",
     "exception": false,
     "start_time": "2024-03-03T08:59:22.444628",
     "status": "completed"
    },
    "tags": []
   },
   "outputs": [
    {
     "data": {
      "text/plain": [
       "0                          reputation\n",
       "1                               Lover\n",
       "2        Speak Now (Taylor's Version)\n",
       "3              Red (Taylor's Version)\n",
       "4           folklore (deluxe version)\n",
       "5           evermore (deluxe version)\n",
       "6         Fearless (Taylor's Version)\n",
       "7    1989 (Taylor's Version) [Deluxe]\n",
       "8    Midnights (The Til Dawn Edition)\n",
       "9                        Taylor Swift\n",
       "Name: album_name, dtype: object"
      ]
     },
     "execution_count": 23,
     "metadata": {},
     "output_type": "execute_result"
    }
   ],
   "source": [
    "df_album['album_name']"
   ]
  },
  {
   "cell_type": "code",
   "execution_count": 24,
   "id": "340e4d4a",
   "metadata": {
    "execution": {
     "iopub.execute_input": "2024-03-03T08:59:22.485436Z",
     "iopub.status.busy": "2024-03-03T08:59:22.485007Z",
     "iopub.status.idle": "2024-03-03T08:59:22.491691Z",
     "shell.execute_reply": "2024-03-03T08:59:22.490983Z"
    },
    "papermill": {
     "duration": 0.019333,
     "end_time": "2024-03-03T08:59:22.493320",
     "exception": false,
     "start_time": "2024-03-03T08:59:22.473987",
     "status": "completed"
    },
    "tags": []
   },
   "outputs": [],
   "source": [
    "album_genre_mapping = {\n",
    "    \"reputation\": \"Electropop\",\n",
    "    \"Lover\": \"Pop\",\n",
    "    \"Speak Now (Taylor's Version)\": \"Country\",\n",
    "    \"Red (Taylor's Version)\": \"Rock\",\n",
    "    \"folklore (deluxe version)\": \"Alternative\",\n",
    "    \"evermore (deluxe version)\": \"Alternative\",\n",
    "    \"Fearless (Taylor's Version)\": \"Country\",\n",
    "    \"1989 (Taylor's Version) [Deluxe]\": \"Synth\",\n",
    "    \"Midnights (The Til Dawn Edition)\": \"Pop\",\n",
    "    \"Taylor Swift\": \"Country\"\n",
    "}\n",
    "\n",
    "df_album['genre'] = df_album['album_name'].map(album_genre_mapping)"
   ]
  },
  {
   "cell_type": "code",
   "execution_count": 25,
   "id": "1a7745eb",
   "metadata": {
    "execution": {
     "iopub.execute_input": "2024-03-03T08:59:22.516055Z",
     "iopub.status.busy": "2024-03-03T08:59:22.514966Z",
     "iopub.status.idle": "2024-03-03T08:59:22.640040Z",
     "shell.execute_reply": "2024-03-03T08:59:22.638799Z"
    },
    "papermill": {
     "duration": 0.13896,
     "end_time": "2024-03-03T08:59:22.642556",
     "exception": false,
     "start_time": "2024-03-03T08:59:22.503596",
     "status": "completed"
    },
    "tags": []
   },
   "outputs": [
    {
     "name": "stderr",
     "output_type": "stream",
     "text": [
      "/opt/conda/lib/python3.10/site-packages/plotly/express/_core.py:2065: FutureWarning:\n",
      "\n",
      "When grouping with a length-1 list-like, you will need to pass a length-1 tuple to get_group in a future version of pandas. Pass `(name,)` instead of `name` to silence this warning.\n",
      "\n"
     ]
    },
    {
     "data": {
      "text/html": [
       "<div>                            <div id=\"e3cb0e85-48a5-4ff2-a87e-46b1e167cd43\" class=\"plotly-graph-div\" style=\"height:525px; width:100%;\"></div>            <script type=\"text/javascript\">                require([\"plotly\"], function(Plotly) {                    window.PLOTLYENV=window.PLOTLYENV || {};                                    if (document.getElementById(\"e3cb0e85-48a5-4ff2-a87e-46b1e167cd43\")) {                    Plotly.newPlot(                        \"e3cb0e85-48a5-4ff2-a87e-46b1e167cd43\",                        [{\"alignmentgroup\":\"True\",\"hovertemplate\":\"album_name=evermore (deluxe version)\\u003cbr\\u003egenre=%{x}\\u003cbr\\u003eCount=%{y}\\u003cextra\\u003e\\u003c\\u002fextra\\u003e\",\"legendgroup\":\"evermore (deluxe version)\",\"marker\":{\"color\":\"brown\",\"pattern\":{\"shape\":\"\"}},\"name\":\"evermore (deluxe version)\",\"offsetgroup\":\"evermore (deluxe version)\",\"orientation\":\"v\",\"showlegend\":true,\"textposition\":\"auto\",\"x\":[\"Alternative\"],\"xaxis\":\"x\",\"y\":[1],\"yaxis\":\"y\",\"type\":\"bar\"},{\"alignmentgroup\":\"True\",\"hovertemplate\":\"album_name=folklore (deluxe version)\\u003cbr\\u003egenre=%{x}\\u003cbr\\u003eCount=%{y}\\u003cextra\\u003e\\u003c\\u002fextra\\u003e\",\"legendgroup\":\"folklore (deluxe version)\",\"marker\":{\"color\":\"grey\",\"pattern\":{\"shape\":\"\"}},\"name\":\"folklore (deluxe version)\",\"offsetgroup\":\"folklore (deluxe version)\",\"orientation\":\"v\",\"showlegend\":true,\"textposition\":\"auto\",\"x\":[\"Alternative\"],\"xaxis\":\"x\",\"y\":[1],\"yaxis\":\"y\",\"type\":\"bar\"},{\"alignmentgroup\":\"True\",\"hovertemplate\":\"album_name=Fearless (Taylor's Version)\\u003cbr\\u003egenre=%{x}\\u003cbr\\u003eCount=%{y}\\u003cextra\\u003e\\u003c\\u002fextra\\u003e\",\"legendgroup\":\"Fearless (Taylor's Version)\",\"marker\":{\"color\":\"yellow\",\"pattern\":{\"shape\":\"\"}},\"name\":\"Fearless (Taylor's Version)\",\"offsetgroup\":\"Fearless (Taylor's Version)\",\"orientation\":\"v\",\"showlegend\":true,\"textposition\":\"auto\",\"x\":[\"Country\"],\"xaxis\":\"x\",\"y\":[1],\"yaxis\":\"y\",\"type\":\"bar\"},{\"alignmentgroup\":\"True\",\"hovertemplate\":\"album_name=Speak Now (Taylor's Version)\\u003cbr\\u003egenre=%{x}\\u003cbr\\u003eCount=%{y}\\u003cextra\\u003e\\u003c\\u002fextra\\u003e\",\"legendgroup\":\"Speak Now (Taylor's Version)\",\"marker\":{\"color\":\"purple\",\"pattern\":{\"shape\":\"\"}},\"name\":\"Speak Now (Taylor's Version)\",\"offsetgroup\":\"Speak Now (Taylor's Version)\",\"orientation\":\"v\",\"showlegend\":true,\"textposition\":\"auto\",\"x\":[\"Country\"],\"xaxis\":\"x\",\"y\":[1],\"yaxis\":\"y\",\"type\":\"bar\"},{\"alignmentgroup\":\"True\",\"hovertemplate\":\"album_name=Taylor Swift\\u003cbr\\u003egenre=%{x}\\u003cbr\\u003eCount=%{y}\\u003cextra\\u003e\\u003c\\u002fextra\\u003e\",\"legendgroup\":\"Taylor Swift\",\"marker\":{\"color\":\"lightgreen\",\"pattern\":{\"shape\":\"\"}},\"name\":\"Taylor Swift\",\"offsetgroup\":\"Taylor Swift\",\"orientation\":\"v\",\"showlegend\":true,\"textposition\":\"auto\",\"x\":[\"Country\"],\"xaxis\":\"x\",\"y\":[1],\"yaxis\":\"y\",\"type\":\"bar\"},{\"alignmentgroup\":\"True\",\"hovertemplate\":\"album_name=reputation\\u003cbr\\u003egenre=%{x}\\u003cbr\\u003eCount=%{y}\\u003cextra\\u003e\\u003c\\u002fextra\\u003e\",\"legendgroup\":\"reputation\",\"marker\":{\"color\":\"black\",\"pattern\":{\"shape\":\"\"}},\"name\":\"reputation\",\"offsetgroup\":\"reputation\",\"orientation\":\"v\",\"showlegend\":true,\"textposition\":\"auto\",\"x\":[\"Electropop\"],\"xaxis\":\"x\",\"y\":[1],\"yaxis\":\"y\",\"type\":\"bar\"},{\"alignmentgroup\":\"True\",\"hovertemplate\":\"album_name=Lover\\u003cbr\\u003egenre=%{x}\\u003cbr\\u003eCount=%{y}\\u003cextra\\u003e\\u003c\\u002fextra\\u003e\",\"legendgroup\":\"Lover\",\"marker\":{\"color\":\"pink\",\"pattern\":{\"shape\":\"\"}},\"name\":\"Lover\",\"offsetgroup\":\"Lover\",\"orientation\":\"v\",\"showlegend\":true,\"textposition\":\"auto\",\"x\":[\"Pop\"],\"xaxis\":\"x\",\"y\":[1],\"yaxis\":\"y\",\"type\":\"bar\"},{\"alignmentgroup\":\"True\",\"hovertemplate\":\"album_name=Midnights (The Til Dawn Edition)\\u003cbr\\u003egenre=%{x}\\u003cbr\\u003eCount=%{y}\\u003cextra\\u003e\\u003c\\u002fextra\\u003e\",\"legendgroup\":\"Midnights (The Til Dawn Edition)\",\"marker\":{\"color\":\"darkblue\",\"pattern\":{\"shape\":\"\"}},\"name\":\"Midnights (The Til Dawn Edition)\",\"offsetgroup\":\"Midnights (The Til Dawn Edition)\",\"orientation\":\"v\",\"showlegend\":true,\"textposition\":\"auto\",\"x\":[\"Pop\"],\"xaxis\":\"x\",\"y\":[1],\"yaxis\":\"y\",\"type\":\"bar\"},{\"alignmentgroup\":\"True\",\"hovertemplate\":\"album_name=Red (Taylor's Version)\\u003cbr\\u003egenre=%{x}\\u003cbr\\u003eCount=%{y}\\u003cextra\\u003e\\u003c\\u002fextra\\u003e\",\"legendgroup\":\"Red (Taylor's Version)\",\"marker\":{\"color\":\"red\",\"pattern\":{\"shape\":\"\"}},\"name\":\"Red (Taylor's Version)\",\"offsetgroup\":\"Red (Taylor's Version)\",\"orientation\":\"v\",\"showlegend\":true,\"textposition\":\"auto\",\"x\":[\"Rock\"],\"xaxis\":\"x\",\"y\":[1],\"yaxis\":\"y\",\"type\":\"bar\"},{\"alignmentgroup\":\"True\",\"hovertemplate\":\"album_name=1989 (Taylor's Version) [Deluxe]\\u003cbr\\u003egenre=%{x}\\u003cbr\\u003eCount=%{y}\\u003cextra\\u003e\\u003c\\u002fextra\\u003e\",\"legendgroup\":\"1989 (Taylor's Version) [Deluxe]\",\"marker\":{\"color\":\"lightblue\",\"pattern\":{\"shape\":\"\"}},\"name\":\"1989 (Taylor's Version) [Deluxe]\",\"offsetgroup\":\"1989 (Taylor's Version) [Deluxe]\",\"orientation\":\"v\",\"showlegend\":true,\"textposition\":\"auto\",\"x\":[\"Synth\"],\"xaxis\":\"x\",\"y\":[1],\"yaxis\":\"y\",\"type\":\"bar\"}],                        {\"template\":{\"data\":{\"histogram2dcontour\":[{\"type\":\"histogram2dcontour\",\"colorbar\":{\"outlinewidth\":0,\"ticks\":\"\"},\"colorscale\":[[0.0,\"#0d0887\"],[0.1111111111111111,\"#46039f\"],[0.2222222222222222,\"#7201a8\"],[0.3333333333333333,\"#9c179e\"],[0.4444444444444444,\"#bd3786\"],[0.5555555555555556,\"#d8576b\"],[0.6666666666666666,\"#ed7953\"],[0.7777777777777778,\"#fb9f3a\"],[0.8888888888888888,\"#fdca26\"],[1.0,\"#f0f921\"]]}],\"choropleth\":[{\"type\":\"choropleth\",\"colorbar\":{\"outlinewidth\":0,\"ticks\":\"\"}}],\"histogram2d\":[{\"type\":\"histogram2d\",\"colorbar\":{\"outlinewidth\":0,\"ticks\":\"\"},\"colorscale\":[[0.0,\"#0d0887\"],[0.1111111111111111,\"#46039f\"],[0.2222222222222222,\"#7201a8\"],[0.3333333333333333,\"#9c179e\"],[0.4444444444444444,\"#bd3786\"],[0.5555555555555556,\"#d8576b\"],[0.6666666666666666,\"#ed7953\"],[0.7777777777777778,\"#fb9f3a\"],[0.8888888888888888,\"#fdca26\"],[1.0,\"#f0f921\"]]}],\"heatmap\":[{\"type\":\"heatmap\",\"colorbar\":{\"outlinewidth\":0,\"ticks\":\"\"},\"colorscale\":[[0.0,\"#0d0887\"],[0.1111111111111111,\"#46039f\"],[0.2222222222222222,\"#7201a8\"],[0.3333333333333333,\"#9c179e\"],[0.4444444444444444,\"#bd3786\"],[0.5555555555555556,\"#d8576b\"],[0.6666666666666666,\"#ed7953\"],[0.7777777777777778,\"#fb9f3a\"],[0.8888888888888888,\"#fdca26\"],[1.0,\"#f0f921\"]]}],\"heatmapgl\":[{\"type\":\"heatmapgl\",\"colorbar\":{\"outlinewidth\":0,\"ticks\":\"\"},\"colorscale\":[[0.0,\"#0d0887\"],[0.1111111111111111,\"#46039f\"],[0.2222222222222222,\"#7201a8\"],[0.3333333333333333,\"#9c179e\"],[0.4444444444444444,\"#bd3786\"],[0.5555555555555556,\"#d8576b\"],[0.6666666666666666,\"#ed7953\"],[0.7777777777777778,\"#fb9f3a\"],[0.8888888888888888,\"#fdca26\"],[1.0,\"#f0f921\"]]}],\"contourcarpet\":[{\"type\":\"contourcarpet\",\"colorbar\":{\"outlinewidth\":0,\"ticks\":\"\"}}],\"contour\":[{\"type\":\"contour\",\"colorbar\":{\"outlinewidth\":0,\"ticks\":\"\"},\"colorscale\":[[0.0,\"#0d0887\"],[0.1111111111111111,\"#46039f\"],[0.2222222222222222,\"#7201a8\"],[0.3333333333333333,\"#9c179e\"],[0.4444444444444444,\"#bd3786\"],[0.5555555555555556,\"#d8576b\"],[0.6666666666666666,\"#ed7953\"],[0.7777777777777778,\"#fb9f3a\"],[0.8888888888888888,\"#fdca26\"],[1.0,\"#f0f921\"]]}],\"surface\":[{\"type\":\"surface\",\"colorbar\":{\"outlinewidth\":0,\"ticks\":\"\"},\"colorscale\":[[0.0,\"#0d0887\"],[0.1111111111111111,\"#46039f\"],[0.2222222222222222,\"#7201a8\"],[0.3333333333333333,\"#9c179e\"],[0.4444444444444444,\"#bd3786\"],[0.5555555555555556,\"#d8576b\"],[0.6666666666666666,\"#ed7953\"],[0.7777777777777778,\"#fb9f3a\"],[0.8888888888888888,\"#fdca26\"],[1.0,\"#f0f921\"]]}],\"mesh3d\":[{\"type\":\"mesh3d\",\"colorbar\":{\"outlinewidth\":0,\"ticks\":\"\"}}],\"scatter\":[{\"fillpattern\":{\"fillmode\":\"overlay\",\"size\":10,\"solidity\":0.2},\"type\":\"scatter\"}],\"parcoords\":[{\"type\":\"parcoords\",\"line\":{\"colorbar\":{\"outlinewidth\":0,\"ticks\":\"\"}}}],\"scatterpolargl\":[{\"type\":\"scatterpolargl\",\"marker\":{\"colorbar\":{\"outlinewidth\":0,\"ticks\":\"\"}}}],\"bar\":[{\"error_x\":{\"color\":\"#2a3f5f\"},\"error_y\":{\"color\":\"#2a3f5f\"},\"marker\":{\"line\":{\"color\":\"#E5ECF6\",\"width\":0.5},\"pattern\":{\"fillmode\":\"overlay\",\"size\":10,\"solidity\":0.2}},\"type\":\"bar\"}],\"scattergeo\":[{\"type\":\"scattergeo\",\"marker\":{\"colorbar\":{\"outlinewidth\":0,\"ticks\":\"\"}}}],\"scatterpolar\":[{\"type\":\"scatterpolar\",\"marker\":{\"colorbar\":{\"outlinewidth\":0,\"ticks\":\"\"}}}],\"histogram\":[{\"marker\":{\"pattern\":{\"fillmode\":\"overlay\",\"size\":10,\"solidity\":0.2}},\"type\":\"histogram\"}],\"scattergl\":[{\"type\":\"scattergl\",\"marker\":{\"colorbar\":{\"outlinewidth\":0,\"ticks\":\"\"}}}],\"scatter3d\":[{\"type\":\"scatter3d\",\"line\":{\"colorbar\":{\"outlinewidth\":0,\"ticks\":\"\"}},\"marker\":{\"colorbar\":{\"outlinewidth\":0,\"ticks\":\"\"}}}],\"scattermapbox\":[{\"type\":\"scattermapbox\",\"marker\":{\"colorbar\":{\"outlinewidth\":0,\"ticks\":\"\"}}}],\"scatterternary\":[{\"type\":\"scatterternary\",\"marker\":{\"colorbar\":{\"outlinewidth\":0,\"ticks\":\"\"}}}],\"scattercarpet\":[{\"type\":\"scattercarpet\",\"marker\":{\"colorbar\":{\"outlinewidth\":0,\"ticks\":\"\"}}}],\"carpet\":[{\"aaxis\":{\"endlinecolor\":\"#2a3f5f\",\"gridcolor\":\"white\",\"linecolor\":\"white\",\"minorgridcolor\":\"white\",\"startlinecolor\":\"#2a3f5f\"},\"baxis\":{\"endlinecolor\":\"#2a3f5f\",\"gridcolor\":\"white\",\"linecolor\":\"white\",\"minorgridcolor\":\"white\",\"startlinecolor\":\"#2a3f5f\"},\"type\":\"carpet\"}],\"table\":[{\"cells\":{\"fill\":{\"color\":\"#EBF0F8\"},\"line\":{\"color\":\"white\"}},\"header\":{\"fill\":{\"color\":\"#C8D4E3\"},\"line\":{\"color\":\"white\"}},\"type\":\"table\"}],\"barpolar\":[{\"marker\":{\"line\":{\"color\":\"#E5ECF6\",\"width\":0.5},\"pattern\":{\"fillmode\":\"overlay\",\"size\":10,\"solidity\":0.2}},\"type\":\"barpolar\"}],\"pie\":[{\"automargin\":true,\"type\":\"pie\"}]},\"layout\":{\"autotypenumbers\":\"strict\",\"colorway\":[\"#636efa\",\"#EF553B\",\"#00cc96\",\"#ab63fa\",\"#FFA15A\",\"#19d3f3\",\"#FF6692\",\"#B6E880\",\"#FF97FF\",\"#FECB52\"],\"font\":{\"color\":\"#2a3f5f\"},\"hovermode\":\"closest\",\"hoverlabel\":{\"align\":\"left\"},\"paper_bgcolor\":\"white\",\"plot_bgcolor\":\"#E5ECF6\",\"polar\":{\"bgcolor\":\"#E5ECF6\",\"angularaxis\":{\"gridcolor\":\"white\",\"linecolor\":\"white\",\"ticks\":\"\"},\"radialaxis\":{\"gridcolor\":\"white\",\"linecolor\":\"white\",\"ticks\":\"\"}},\"ternary\":{\"bgcolor\":\"#E5ECF6\",\"aaxis\":{\"gridcolor\":\"white\",\"linecolor\":\"white\",\"ticks\":\"\"},\"baxis\":{\"gridcolor\":\"white\",\"linecolor\":\"white\",\"ticks\":\"\"},\"caxis\":{\"gridcolor\":\"white\",\"linecolor\":\"white\",\"ticks\":\"\"}},\"coloraxis\":{\"colorbar\":{\"outlinewidth\":0,\"ticks\":\"\"}},\"colorscale\":{\"sequential\":[[0.0,\"#0d0887\"],[0.1111111111111111,\"#46039f\"],[0.2222222222222222,\"#7201a8\"],[0.3333333333333333,\"#9c179e\"],[0.4444444444444444,\"#bd3786\"],[0.5555555555555556,\"#d8576b\"],[0.6666666666666666,\"#ed7953\"],[0.7777777777777778,\"#fb9f3a\"],[0.8888888888888888,\"#fdca26\"],[1.0,\"#f0f921\"]],\"sequentialminus\":[[0.0,\"#0d0887\"],[0.1111111111111111,\"#46039f\"],[0.2222222222222222,\"#7201a8\"],[0.3333333333333333,\"#9c179e\"],[0.4444444444444444,\"#bd3786\"],[0.5555555555555556,\"#d8576b\"],[0.6666666666666666,\"#ed7953\"],[0.7777777777777778,\"#fb9f3a\"],[0.8888888888888888,\"#fdca26\"],[1.0,\"#f0f921\"]],\"diverging\":[[0,\"#8e0152\"],[0.1,\"#c51b7d\"],[0.2,\"#de77ae\"],[0.3,\"#f1b6da\"],[0.4,\"#fde0ef\"],[0.5,\"#f7f7f7\"],[0.6,\"#e6f5d0\"],[0.7,\"#b8e186\"],[0.8,\"#7fbc41\"],[0.9,\"#4d9221\"],[1,\"#276419\"]]},\"xaxis\":{\"gridcolor\":\"white\",\"linecolor\":\"white\",\"ticks\":\"\",\"title\":{\"standoff\":15},\"zerolinecolor\":\"white\",\"automargin\":true,\"zerolinewidth\":2},\"yaxis\":{\"gridcolor\":\"white\",\"linecolor\":\"white\",\"ticks\":\"\",\"title\":{\"standoff\":15},\"zerolinecolor\":\"white\",\"automargin\":true,\"zerolinewidth\":2},\"scene\":{\"xaxis\":{\"backgroundcolor\":\"#E5ECF6\",\"gridcolor\":\"white\",\"linecolor\":\"white\",\"showbackground\":true,\"ticks\":\"\",\"zerolinecolor\":\"white\",\"gridwidth\":2},\"yaxis\":{\"backgroundcolor\":\"#E5ECF6\",\"gridcolor\":\"white\",\"linecolor\":\"white\",\"showbackground\":true,\"ticks\":\"\",\"zerolinecolor\":\"white\",\"gridwidth\":2},\"zaxis\":{\"backgroundcolor\":\"#E5ECF6\",\"gridcolor\":\"white\",\"linecolor\":\"white\",\"showbackground\":true,\"ticks\":\"\",\"zerolinecolor\":\"white\",\"gridwidth\":2}},\"shapedefaults\":{\"line\":{\"color\":\"#2a3f5f\"}},\"annotationdefaults\":{\"arrowcolor\":\"#2a3f5f\",\"arrowhead\":0,\"arrowwidth\":1},\"geo\":{\"bgcolor\":\"white\",\"landcolor\":\"#E5ECF6\",\"subunitcolor\":\"white\",\"showland\":true,\"showlakes\":true,\"lakecolor\":\"white\"},\"title\":{\"x\":0.05},\"mapbox\":{\"style\":\"light\"}}},\"xaxis\":{\"anchor\":\"y\",\"domain\":[0.0,1.0],\"title\":{\"text\":\"genre\"}},\"yaxis\":{\"anchor\":\"x\",\"domain\":[0.0,1.0],\"title\":{\"text\":\"Count\"}},\"legend\":{\"title\":{\"text\":\"album_name\"},\"tracegroupgap\":0},\"margin\":{\"t\":60},\"barmode\":\"stack\",\"title\":{\"text\":\"Genre Distribution with Custom Colors\"}},                        {\"responsive\": true}                    ).then(function(){\n",
       "                            \n",
       "var gd = document.getElementById('e3cb0e85-48a5-4ff2-a87e-46b1e167cd43');\n",
       "var x = new MutationObserver(function (mutations, observer) {{\n",
       "        var display = window.getComputedStyle(gd).display;\n",
       "        if (!display || display === 'none') {{\n",
       "            console.log([gd, 'removed!']);\n",
       "            Plotly.purge(gd);\n",
       "            observer.disconnect();\n",
       "        }}\n",
       "}});\n",
       "\n",
       "// Listen for the removal of the full notebook cells\n",
       "var notebookContainer = gd.closest('#notebook-container');\n",
       "if (notebookContainer) {{\n",
       "    x.observe(notebookContainer, {childList: true});\n",
       "}}\n",
       "\n",
       "// Listen for the clearing of the current output cell\n",
       "var outputEl = gd.closest('.output');\n",
       "if (outputEl) {{\n",
       "    x.observe(outputEl, {childList: true});\n",
       "}}\n",
       "\n",
       "                        })                };                });            </script>        </div>"
      ]
     },
     "metadata": {},
     "output_type": "display_data"
    }
   ],
   "source": [
    "df_plot = df_album.groupby(['genre', 'album_name']).size().reset_index(name='count')\n",
    "\n",
    "custom_colors = {\n",
    "    'Taylor Swift': 'lightgreen',\n",
    "    \"Lover\" : \"pink\",\n",
    "    \"Speak Now (Taylor's Version)\": 'purple',\n",
    "    \"Fearless (Taylor's Version)\": 'yellow',\n",
    "    \"Red (Taylor's Version)\": 'red',\n",
    "    \"1989 (Taylor's Version) [Deluxe]\": 'lightblue',\n",
    "    'reputation': 'black',\n",
    "    'folklore (deluxe version)': 'grey',\n",
    "    'evermore (deluxe version)': 'brown',\n",
    "    'Midnights (The Til Dawn Edition)': 'darkblue'\n",
    "}\n",
    "\n",
    "# Create a bar chart with custom colors\n",
    "fig = px.bar(df_plot, x='genre', y='count', color='album_name', color_discrete_map=custom_colors,\n",
    "             labels={'genre_mapped': 'Genre', 'count': 'Count'}, barmode='stack')\n",
    "fig.update_layout(title='Genre Distribution with Custom Colors')\n",
    "fig.show()"
   ]
  },
  {
   "cell_type": "markdown",
   "id": "87637d59",
   "metadata": {
    "papermill": {
     "duration": 0.010109,
     "end_time": "2024-03-03T08:59:22.662928",
     "exception": false,
     "start_time": "2024-03-03T08:59:22.652819",
     "status": "completed"
    },
    "tags": []
   },
   "source": [
    "## This was fun! "
   ]
  }
 ],
 "metadata": {
  "kaggle": {
   "accelerator": "none",
   "dataSources": [
    {
     "datasetId": 4477559,
     "sourceId": 7675859,
     "sourceType": "datasetVersion"
    }
   ],
   "dockerImageVersionId": 30664,
   "isGpuEnabled": false,
   "isInternetEnabled": true,
   "language": "python",
   "sourceType": "notebook"
  },
  "kernelspec": {
   "display_name": "Python 3",
   "language": "python",
   "name": "python3"
  },
  "language_info": {
   "codemirror_mode": {
    "name": "ipython",
    "version": 3
   },
   "file_extension": ".py",
   "mimetype": "text/x-python",
   "name": "python",
   "nbconvert_exporter": "python",
   "pygments_lexer": "ipython3",
   "version": "3.10.13"
  },
  "papermill": {
   "default_parameters": {},
   "duration": 7.993877,
   "end_time": "2024-03-03T08:59:23.497064",
   "environment_variables": {},
   "exception": null,
   "input_path": "__notebook__.ipynb",
   "output_path": "__notebook__.ipynb",
   "parameters": {},
   "start_time": "2024-03-03T08:59:15.503187",
   "version": "2.5.0"
  }
 },
 "nbformat": 4,
 "nbformat_minor": 5
}
